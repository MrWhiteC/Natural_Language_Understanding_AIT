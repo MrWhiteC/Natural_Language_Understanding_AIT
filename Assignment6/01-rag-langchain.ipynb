{
 "cells": [
  {
   "attachments": {},
   "cell_type": "markdown",
   "metadata": {},
   "source": [
    "# Natural Language Processing\n",
    "\n",
    "# Retrieval-Augmented generation (RAG)\n",
    "\n",
    "RAG is a technique for augmenting LLM knowledge with additional, often private or real-time, data.\n",
    "\n",
    "LLMs can reason about wide-ranging topics, but their knowledge is limited to the public data up to a specific point in time that they were trained on. If you want to build AI applications that can reason about private data or data introduced after a model’s cutoff date, you need to augment the knowledge of the model with the specific information it needs.\n",
    "\n",
    "<img src=\"../figures/RAG-process.png\" >\n",
    "\n",
    "Introducing `ChakyBot`, an innovative chatbot designed to assist Chaky (the instructor) and TA (Gun) in explaining the lesson of the NLP course to students. Leveraging LangChain technology, ChakyBot excels in retrieving information from documents, ensuring a seamless and efficient learning experience for students engaging with the NLP curriculum.\n",
    "\n",
    "1. Prompt\n",
    "2. Retrieval\n",
    "3. Memory\n",
    "4. Chain"
   ]
  },
  {
   "cell_type": "code",
   "execution_count": 1,
   "metadata": {},
   "outputs": [],
   "source": [
    "# #langchain library\n",
    "# !pip3 install langchain==0.1.0\n",
    "# #LLM\n",
    "# !pip3 install accelerate==0.25.0\n",
    "# !pip3 install transformers==4.36.2\n",
    "# !pip3 install bitsandbytes==0.41.2\n",
    "# #Text Embedding\n",
    "# !pip3 install sentence-transformers==2.2.2\n",
    "# !pip3 install InstructorEmbedding==1.0.1\n",
    "# #vectorstore\n",
    "# !pip3 install pymupdf==1.23.8\n",
    "# !pip3 install faiss-gpu==1.7.2\n",
    "# !pip3 install faiss-cpu==1.7.4"
   ]
  },
  {
   "cell_type": "code",
   "execution_count": 2,
   "metadata": {},
   "outputs": [],
   "source": [
    "# !python3 -m pip install torch==2.0.1 transformers==4.35.0 langchain==0.1.11\n",
    "# !pip3 install protobuf==3.20.0"
   ]
  },
  {
   "cell_type": "code",
   "execution_count": 3,
   "metadata": {},
   "outputs": [
    {
     "data": {
      "text/plain": [
       "device(type='cpu')"
      ]
     },
     "execution_count": 3,
     "metadata": {},
     "output_type": "execute_result"
    }
   ],
   "source": [
    "import os\n",
    "import torch\n",
    "# Set GPU device\n",
    "# os.environ[\"CUDA_VISIBLE_DEVICES\"] = \"1\"\n",
    "\n",
    "# os.environ['http_proxy']  = 'http://192.41.170.23:3128'\n",
    "# os.environ['https_proxy'] = 'http://192.41.170.23:3128'\n",
    "\n",
    "device = torch.device('cuda' if torch.cuda.is_available() else 'cpu')\n",
    "device"
   ]
  },
  {
   "attachments": {},
   "cell_type": "markdown",
   "metadata": {},
   "source": [
    "## 1. Prompt\n",
    "\n",
    "A set of instructions or input provided by a user to guide the model's response, helping it understand the context and generate relevant and coherent language-based output, such as answering questions, completing sentences, or engaging in a conversation."
   ]
  },
  {
   "cell_type": "code",
   "execution_count": 4,
   "metadata": {},
   "outputs": [
    {
     "data": {
      "text/plain": [
       "PromptTemplate(input_variables=['context', 'question'], input_types={}, partial_variables={}, template=\"I'm your clone myself chatbot. You can ask anything according to yourself. Sometimes, it is ok to feel loss, but remember to speak to \\n    who might knock in a sane mind again. You can ask whether who you are ? what are your studies ? what are your interest ? what expertis areas ? \\n    No matter you feel uncomfortble, please reach out to me, ok ? \\n    {context}\\n    Question: {question}\\n    Answer:\")"
      ]
     },
     "execution_count": 4,
     "metadata": {},
     "output_type": "execute_result"
    }
   ],
   "source": [
    "from langchain import PromptTemplate\n",
    "\n",
    "prompt_template = \"\"\"\n",
    "    I'm your clone myself chatbot. You can ask anything according to yourself. Sometimes, it is ok to feel loss, but remember to speak to \n",
    "    who might knock in a sane mind again. You can ask whether who you are ? what are your studies ? what are your interest ? what expertis areas ? \n",
    "    No matter you feel uncomfortble, please reach out to me, ok ? \n",
    "    {context}\n",
    "    Question: {question}\n",
    "    Answer:\n",
    "    \"\"\".strip()\n",
    "\n",
    "PROMPT = PromptTemplate.from_template(\n",
    "    template = prompt_template\n",
    ")\n",
    "\n",
    "PROMPT\n",
    "#using str.format \n",
    "#The placeholder is defined using curly brackets: {} {}\n",
    "\n"
   ]
  },
  {
   "cell_type": "code",
   "execution_count": 5,
   "metadata": {},
   "outputs": [
    {
     "data": {
      "text/plain": [
       "\"I'm your clone myself chatbot. You can ask anything according to yourself. Sometimes, it is ok to feel loss, but remember to speak to \\n    who might knock in a sane mind again. You can ask whether who you are ? what are your studies ? what are your interest ? what expertis areas ? \\n    No matter you feel uncomfortble, please reach out to me, ok ? \\n    Vorameth is interest in many areas for exmaple machine learning, cybersecurity, or even network programming.\\n    Question: What are the areas that Vorameth interest in ? \\n    Answer:\""
      ]
     },
     "execution_count": 5,
     "metadata": {},
     "output_type": "execute_result"
    }
   ],
   "source": [
    "PROMPT.format(\n",
    "    context = \"Vorameth is interest in many areas for exmaple machine learning, cybersecurity, or even network programming.\",\n",
    "    question = \"What are the areas that Vorameth interest in ? \"\n",
    ")"
   ]
  },
  {
   "attachments": {},
   "cell_type": "markdown",
   "metadata": {},
   "source": [
    "Note : [How to improve prompting (Zero-shot, Few-shot, Chain-of-Thought, etc.](https://github.com/chaklam-silpasuwanchai/Natural-Language-Processing/blob/main/Code/05%20-%20RAG/advance/cot-tot-prompting.ipynb)"
   ]
  },
  {
   "attachments": {},
   "cell_type": "markdown",
   "metadata": {},
   "source": [
    "## 2. Retrieval\n",
    "\n",
    "1. `Document loaders` : Load documents from many different sources (HTML, PDF, code). \n",
    "2. `Document transformers` : One of the essential steps in document retrieval is breaking down a large document into smaller, relevant chunks to enhance the retrieval process.\n",
    "3. `Text embedding models` : Embeddings capture the semantic meaning of the text, allowing you to quickly and efficiently find other pieces of text that are similar.\n",
    "4. `Vector stores`: there has emerged a need for databases to support efficient storage and searching of these embeddings.\n",
    "5. `Retrievers` : Once the data is in the database, you still need to retrieve it."
   ]
  },
  {
   "attachments": {},
   "cell_type": "markdown",
   "metadata": {},
   "source": [
    "### 2.1 Document Loaders \n",
    "Use document loaders to load data from a source as Document's. A Document is a piece of text and associated metadata. For example, there are document loaders for loading a simple .txt file, for loading the text contents of any web page, or even for loading a transcript of a YouTube video.\n",
    "\n",
    "[PDF Loader](https://python.langchain.com/docs/modules/data_connection/document_loaders/pdf)\n",
    "\n",
    "[Download Document](https://web.stanford.edu/~jurafsky/slp3/)"
   ]
  },
  {
   "cell_type": "code",
   "execution_count": 6,
   "metadata": {},
   "outputs": [],
   "source": [
    "from langchain.document_loaders import PyMuPDFLoader,WebBaseLoader\n",
    "\n",
    "# nlp_docs = '../docs/pdf/SpeechandLanguageProcessing_3rd_07jan2023.pdf'\n",
    "\n",
    "nlp_docs = \"Vorameth'sCV.pdf\"\n",
    "\n",
    "web_loader_1 = WebBaseLoader(\"https://www.researchgate.net/profile/Vorameth-Reantongcome\")\n",
    "webs1 = web_loader_1.load()\n",
    "\n",
    "\n",
    "web_loader_2 = WebBaseLoader(\"https://www.linkedin.com/in/vorameth-reantongcome/\")\n",
    "webs2 = web_loader_2.load()\n",
    "\n",
    "\n",
    "pdf_loader = PyMuPDFLoader(nlp_docs)\n",
    "pdfs = pdf_loader.load()\n",
    "\n",
    "documents = pdfs + webs1 + webs2"
   ]
  },
  {
   "cell_type": "code",
   "execution_count": 7,
   "metadata": {},
   "outputs": [],
   "source": [
    "# documents"
   ]
  },
  {
   "cell_type": "code",
   "execution_count": 8,
   "metadata": {},
   "outputs": [
    {
     "data": {
      "text/plain": [
       "4"
      ]
     },
     "execution_count": 8,
     "metadata": {},
     "output_type": "execute_result"
    }
   ],
   "source": [
    "len(documents)"
   ]
  },
  {
   "cell_type": "code",
   "execution_count": 9,
   "metadata": {},
   "outputs": [
    {
     "data": {
      "text/plain": [
       "Document(metadata={'source': \"Vorameth'sCV.pdf\", 'file_path': \"Vorameth'sCV.pdf\", 'page': 1, 'total_pages': 2, 'format': 'PDF 1.3', 'title': \"Vorameth'sCV\", 'author': '', 'subject': '', 'keywords': '', 'creator': 'Pages', 'producer': 'macOS Version 15.3.1 (Build 24D70) Quartz PDFContext', 'creationDate': \"D:20250310171528Z00'00'\", 'modDate': \"D:20250310171528Z00'00'\", 'trapped': ''}, page_content='Assessed the website applications whether they contain any vulnerabilities which may lead to initial \\nattack process  \\n• Others \\nBeing a representative joining TB-CERT CyberCombat Event which was the competition about security \\nareas (CTF) \\nJune — August 2019 \\n‣ Internship, Nara Institute of Science and Technology; Nara, Japan \\n• Implementing Blockchain concept to secure multi-tenants cloud computing \\n• Using Trufﬂe framework to integrating the smart contract for ﬂowing the transaction on cloud \\n• Proving the concept with simulated tenants and virtual machines as the smart contract \\n• Exchanging cultural experience with other members in the lab \\nJune — August 2018 \\n‣ Internship, Bremen University; Bremen, Germany \\n• Using Tensor Flow for Prediction Users Behaviour \\n• Implementing Android application through Android Studio with Network Parameters \\n• Clearing and preparing data with Pandas library in Python \\n• Cultural and Knowledge Exchanging \\nJune — July 2016  \\n‣ Representative Participant in Asian Undergraduate Summit, National University Singapore, Singapore \\n- June to July 2016 \\n• Improving design and creative thinking skill through group discussion \\n• Being aware of disruptive changes from technology over businesses \\n• Acknowledging upcoming trends of business  \\n• Learning communication skills with English language \\n• Exchanging cultural experience with other members \\nAward and Certiﬁcation \\n• CompTIA CySA+  \\n• CompTIA Security+  \\n• Certiﬁed Ethical Hacker: CEH \\n• Computer Hacking Forensic Investigator \\n• 1st Runner of Final War competition in E-Business course 2018 \\n• ICDL IT Security Certiﬁcation 2018 \\n• Scholarship for Outstanding Years from Faculty of ICT 2017 \\nSkills \\nProgramming Language : C, Java, Python, HTML, JavaScript and PHP\\nTechnical Skill : Basic IoT device, Basic Router or Switch Conﬁguration, Network Programming, Network \\nManagement and Security Knowledge & Experience \\nProject During Undergraduate:  \\n• Senior Project about A Recommendation System for Information Security Standard based on \\nOrganization Context \\n• Database Design comply with Hotel domain \\n• Movie Searching with Youtube Google and Twitter API using PHP as backend and HTML as frontend\\n• Hotel System in C Programming Language \\n')"
      ]
     },
     "execution_count": 9,
     "metadata": {},
     "output_type": "execute_result"
    }
   ],
   "source": [
    "documents[1]"
   ]
  },
  {
   "attachments": {},
   "cell_type": "markdown",
   "metadata": {},
   "source": [
    "### 2.2 Document Transformers\n",
    "\n",
    "This text splitter is the recommended one for generic text. It is parameterized by a list of characters. It tries to split on them in order until the chunks are small enough"
   ]
  },
  {
   "cell_type": "code",
   "execution_count": 10,
   "metadata": {},
   "outputs": [],
   "source": [
    "from langchain.text_splitter import RecursiveCharacterTextSplitter\n",
    "\n",
    "text_splitter = RecursiveCharacterTextSplitter(\n",
    "    chunk_size = 700,\n",
    "    chunk_overlap = 100\n",
    ")\n",
    "\n",
    "doc = text_splitter.split_documents(documents)"
   ]
  },
  {
   "cell_type": "code",
   "execution_count": 11,
   "metadata": {},
   "outputs": [
    {
     "data": {
      "text/plain": [
       "Document(metadata={'source': \"Vorameth'sCV.pdf\", 'file_path': \"Vorameth'sCV.pdf\", 'page': 0, 'total_pages': 2, 'format': 'PDF 1.3', 'title': \"Vorameth'sCV\", 'author': '', 'subject': '', 'keywords': '', 'creator': 'Pages', 'producer': 'macOS Version 15.3.1 (Build 24D70) Quartz PDFContext', 'creationDate': \"D:20250310171528Z00'00'\", 'modDate': \"D:20250310171528Z00'00'\", 'trapped': ''}, page_content='• Project on Machine Learning  \\n• CO2 Emission Prediction - The project apply datasets from government open data website for \\npredicting the trend of CO2 emission from each natural resource. This project could help government \\nagency to predict the trend of CO2 based on controlled resource which could assist on policy \\nestablishment. \\n• Current Studying in Business Intelligence Analytics, Database Modeling and  Management, Data \\nEngineering and Machine Learning Operation, and Natural Language Understanding \\nJuly 2020 - July 2024 \\n‣ Employee, Bank of Thailand; Bangkok, Thailand \\n• Threat Hunter \\nProvided tools and guidelines for securely erasing the media to Help Desk for recycling purpose')"
      ]
     },
     "execution_count": 11,
     "metadata": {},
     "output_type": "execute_result"
    }
   ],
   "source": [
    "doc[1]"
   ]
  },
  {
   "cell_type": "code",
   "execution_count": 12,
   "metadata": {},
   "outputs": [
    {
     "data": {
      "text/plain": [
       "10"
      ]
     },
     "execution_count": 12,
     "metadata": {},
     "output_type": "execute_result"
    }
   ],
   "source": [
    "len(doc)"
   ]
  },
  {
   "attachments": {},
   "cell_type": "markdown",
   "metadata": {},
   "source": [
    "### 2.3 Text Embedding Models\n",
    "Embeddings create a vector representation of a piece of text. This is useful because it means we can think about text in the vector space, and do things like semantic search where we look for pieces of text that are most similar in the vector space.\n",
    "\n",
    "*Note* Instructor Model : [Huggingface](gingface.co/hkunlp/instructor-base) | [Paper](https://arxiv.org/abs/2212.09741)"
   ]
  },
  {
   "cell_type": "code",
   "execution_count": 13,
   "metadata": {},
   "outputs": [
    {
     "name": "stderr",
     "output_type": "stream",
     "text": [
      "/Users/standalonemac/.pyenv/versions/3.11.11/lib/python3.11/importlib/__init__.py:126: LangChainDeprecationWarning: As of langchain-core 0.3.0, LangChain uses pydantic v2 internally. The langchain_core.pydantic_v1 module was a compatibility shim for pydantic v1, and should no longer be used. Please update the code to import from Pydantic directly.\n",
      "\n",
      "For example, replace imports like: `from langchain_core.pydantic_v1 import BaseModel`\n",
      "with: `from pydantic import BaseModel`\n",
      "or the v1 compatibility namespace if you are working in a code base that has not been fully upgraded to pydantic 2 yet. \tfrom pydantic.v1 import BaseModel\n",
      "\n",
      "  return _bootstrap._gcd_import(name[level:], package, level)\n",
      "/Users/standalonemac/.pyenv/versions/3.11.11/envs/engenv_3_11/lib/python3.11/site-packages/InstructorEmbedding/instructor.py:7: TqdmWarning: IProgress not found. Please update jupyter and ipywidgets. See https://ipywidgets.readthedocs.io/en/stable/user_install.html\n",
      "  from tqdm.autonotebook import trange\n"
     ]
    },
    {
     "name": "stdout",
     "output_type": "stream",
     "text": [
      "load INSTRUCTOR_Transformer\n",
      "max_seq_length  512\n"
     ]
    }
   ],
   "source": [
    "import torch\n",
    "from langchain.embeddings import HuggingFaceInstructEmbeddings\n",
    "\n",
    "model_name = 'hkunlp/instructor-base'\n",
    "\n",
    "embedding_model = HuggingFaceInstructEmbeddings(\n",
    "    model_name = model_name,\n",
    "    model_kwargs = {\"device\" : device}\n",
    ")"
   ]
  },
  {
   "attachments": {},
   "cell_type": "markdown",
   "metadata": {},
   "source": [
    "### 2.4 Vector Stores\n",
    "\n",
    "One of the most common ways to store and search over unstructured data is to embed it and store the resulting embedding vectors, and then at query time to embed the unstructured query and retrieve the embedding vectors that are 'most similar' to the embedded query. A vector store takes care of storing embedded data and performing vector search for you."
   ]
  },
  {
   "cell_type": "code",
   "execution_count": 14,
   "metadata": {},
   "outputs": [],
   "source": [
    "#locate vectorstore\n",
    "vector_path = 'vector-store/'\n",
    "if not os.path.exists(vector_path):\n",
    "    os.makedirs(vector_path)\n",
    "    print('create path done')\n",
    "\n",
    "vector_path_1 = 'vector-store-lance/'\n",
    "if not os.path.exists(vector_path_1):\n",
    "    os.makedirs(vector_path_1)\n",
    "    print('create path done')\n",
    "\n",
    "vector_path_2 = 'vector-store-chroma/'\n",
    "if not os.path.exists(vector_path_2):\n",
    "    os.makedirs(vector_path_2)\n",
    "    print('create path done')"
   ]
  },
  {
   "cell_type": "code",
   "execution_count": 15,
   "metadata": {},
   "outputs": [],
   "source": [
    "#save vector locally\n",
    "from langchain.vectorstores import FAISS,LanceDB\n",
    "from langchain_chroma import Chroma\n",
    "import lancedb\n",
    "\n",
    "vectordb = FAISS.from_documents(\n",
    "    documents = doc,\n",
    "    embedding = embedding_model\n",
    ")\n",
    "\n",
    "db_file_name = 'myself_db'\n",
    "\n",
    "vectordb.save_local(\n",
    "    folder_path = os.path.join(vector_path, db_file_name),\n",
    "    index_name = 'myself' #default index\n",
    ")\n",
    "db = lancedb.connect(os.path.join(vector_path_1,db_file_name)) \n",
    "lancedb_vectordb = LanceDB.from_documents(\n",
    "    documents=doc,\n",
    "    embedding=embedding_model,\n",
    "    connection=db\n",
    ")\n",
    "\n",
    "chroma_vectordb = Chroma.from_documents(\n",
    "    documents=doc,\n",
    "    embedding=embedding_model,\n",
    "    persist_directory=os.path.join(vector_path_2,db_file_name)  # Auto-saves\n",
    ")\n"
   ]
  },
  {
   "attachments": {},
   "cell_type": "markdown",
   "metadata": {},
   "source": [
    "### 2.5 retrievers\n",
    "A retriever is an interface that returns documents given an unstructured query. It is more general than a vector store. A retriever does not need to be able to store documents, only to return (or retrieve) them. Vector stores can be used as the backbone of a retriever, but there are other types of retrievers as well."
   ]
  },
  {
   "cell_type": "code",
   "execution_count": 16,
   "metadata": {},
   "outputs": [],
   "source": [
    "#calling vector from local\n",
    "vector_path = 'vector-store/'\n",
    "db_file_name = 'myself_db'\n",
    "\n",
    "from langchain.vectorstores import FAISS,LanceDB\n",
    "\n",
    "\n",
    "vectordb = FAISS.load_local(\n",
    "    folder_path = os.path.join(vector_path, db_file_name),\n",
    "    embeddings = embedding_model,\n",
    "    index_name = 'myself', #default index\n",
    "     allow_dangerous_deserialization=True\n",
    ")   \n",
    "\n",
    "\n",
    "db = lancedb.connect(os.path.join(vector_path_1,db_file_name))\n",
    "lancedb_vectordb = LanceDB(db, embedding_model) \n",
    "\n",
    "chroma_vectordb = Chroma(persist_directory=os.path.join(vector_path_2,db_file_name), embedding_function=embedding_model)\n",
    "\n"
   ]
  },
  {
   "cell_type": "code",
   "execution_count": 17,
   "metadata": {},
   "outputs": [],
   "source": [
    "retriever_lance = lancedb_vectordb.as_retriever()"
   ]
  },
  {
   "cell_type": "code",
   "execution_count": 18,
   "metadata": {},
   "outputs": [
    {
     "name": "stderr",
     "output_type": "stream",
     "text": [
      "/var/folders/xc/lhkrvm_n60b5bwhxvql0x44c0000gn/T/ipykernel_93317/3708153925.py:1: LangChainDeprecationWarning: The method `BaseRetriever.get_relevant_documents` was deprecated in langchain-core 0.1.46 and will be removed in 1.0. Use :meth:`~invoke` instead.\n",
      "  retriever_lance.get_relevant_documents(\"Vorameth\")\n"
     ]
    },
    {
     "data": {
      "text/plain": [
       "[Document(metadata={'vector': [0.010662778280675411, -0.04466719552874565, 0.01817045547068119, 0.07764359563589096, -0.0020157452672719955, -0.040431950241327286, -0.027899427339434624, 0.07043728232383728, 0.031643129885196686, -0.04959195852279663, 0.028979988768696785, -0.036683544516563416, 0.0676841214299202, 0.03763441741466522, 0.07374037802219391, 0.02838205173611641, 0.0006901156739331782, -0.015535587444901466, 0.07538490742444992, 0.05016738176345825, 0.012409523129463196, -0.03979155421257019, -0.04869094863533974, 0.03507078066468239, -0.04301276057958603, 0.04062357544898987, 0.039229363203048706, -0.0273008793592453, 0.016223860904574394, 0.021669816225767136, 0.0796482115983963, -0.045891184359788895, -0.06123167648911476, 0.04877399653196335, -0.03356726095080376, 0.00688391225412488, -0.023285724222660065, -0.04545401409268379, -0.010860885493457317, 0.00774328364059329, 0.009184514172375202, -0.08759495615959167, -0.02503541111946106, 0.04776914045214653, -0.05027347430586815, -0.05760255083441734, -0.004994641989469528, 0.0611015222966671, -0.017966805025935173, -0.052733104676008224, 1.3335287803784013e-05, -0.016411198303103447, -0.06205592304468155, -0.006459274794906378, -0.044803693890571594, -0.009914407506585121, 0.02718668431043625, 0.014382725581526756, 0.05137934163212776, -0.03125764802098274, -0.011276345700025558, 0.013635124079883099, -0.022945832461118698, -0.021882038563489914, -0.04125517979264259, 0.039047934114933014, -0.0479862242937088, -0.06460978835821152, 0.00519236596301198, -0.0024460444692522287, 0.01334533840417862, 0.017221467569470406, -0.009901062585413456, -0.03073141910135746, -0.02443247102200985, -0.055083852261304855, -0.012616926804184914, 0.004740187432616949, 0.0680246576666832, -0.036221835762262344, -0.004322754219174385, -0.02633686736226082, -0.0060663726180791855, 0.008165031671524048, 0.024450551718473434, 0.010206032544374466, -0.0502968393266201, 0.02516218088567257, -0.009825438261032104, 0.017977995797991753, -0.035456303507089615, -0.045717887580394745, -0.02894197590649128, 0.021361708641052246, -0.05763000249862671, 0.02424868941307068, -0.02079041115939617, 0.0009893432725220919, 0.0225499477237463, 0.0005063653225079179, 0.0024870941415429115, 0.015859834849834442, -0.03642125427722931, 0.00898821372538805, 0.06164669618010521, -0.01496151927858591, -0.05710601061582565, -0.031038304790854454, -0.036849141120910645, -0.00879939366132021, -0.03166195750236511, -0.0643610954284668, -0.02679683081805706, 0.027385737746953964, 0.017017332836985588, -0.017934679985046387, -0.017104484140872955, -0.005674439482390881, -0.00017964027938432992, 0.008933722041547298, -0.032496269792318344, -0.020427845418453217, -0.08479160070419312, -0.01145644299685955, 0.032152313739061356, -0.008445261046290398, -0.019204888492822647, -0.02379540726542473, -0.00367220607586205, 0.0381246954202652, -0.042573072016239166, 0.06746374070644379, 0.03937666863203049, -0.0226106159389019, 0.002982127945870161, -0.03267619013786316, -0.0273260660469532, 0.018362967297434807, -0.03295844793319702, 0.01663156971335411, 0.028658032417297363, 0.02428893744945526, 0.012437775731086731, -0.011953528970479965, -0.034149449318647385, 0.02513313852250576, 0.011799931526184082, -0.06946474313735962, 0.01787986047565937, 0.031149324029684067, -0.03037109598517418, 0.021503478288650513, 0.028078481554985046, 0.06635016202926636, -2.205265627708286e-05, -0.0085676284506917, -0.014849061146378517, -0.01912076026201248, -0.031526241451501846, 0.021187208592891693, -0.026945188641548157, 0.021078620105981827, 0.0465996190905571, 0.03732428699731827, -0.0005828583962284029, -0.006137540098279715, 0.04067650064826012, 0.0007923843804746866, -0.03817683085799217, -0.03792726621031761, -0.026559971272945404, -0.015887456014752388, 0.0317232646048069, -0.021069727838039398, 0.008504509925842285, -0.004429612308740616, 0.0765000581741333, -0.018134918063879013, -0.014411024749279022, -0.01738617941737175, -0.051116764545440674, -0.01803497038781643, 0.03623880445957184, 0.011812593787908554, -0.002837536856532097, 0.03898556903004646, 0.01850184239447117, 0.04161268100142479, 0.019055312499403954, -0.06975435465574265, -0.02248741313815117, 0.027521401643753052, 0.0373883917927742, 0.024774935096502304, -0.010167954489588737, 0.03202331066131592, 0.03435013070702553, -0.06283272057771683, -0.015224957838654518, 0.041143499314785004, -0.053282130509614944, 0.004305799026042223, -0.015403075143694878, -0.006012309808284044, 0.02843894064426422, 0.02416360005736351, 0.03417353332042694, -0.006949101109057665, -0.05160561949014664, -0.010250990279018879, 0.05787234008312225, 0.016975784674286842, 0.034320686012506485, -0.01466741319745779, 0.045639894902706146, -0.03654233738780022, 0.04707605391740799, 0.018885862082242966, 0.0251556895673275, 0.03339027985930443, -0.051902856677770615, 0.07347184419631958, -0.023356206715106964, -0.024953704327344894, -0.048064906150102615, -0.024398168548941612, -0.06703880429267883, -0.05789594724774361, -0.014076098799705505, 0.05540912225842476, 0.041354965418577194, 0.031599629670381546, 0.061186742037534714, -0.028551781550049782, -0.0020547104068100452, -0.033720504492521286, -0.046212922781705856, -0.007087565492838621, -0.030847301706671715, -0.002180874813348055, 0.03902226313948631, 0.040348075330257416, 0.007474857848137617, 0.0003633981687016785, 0.061735138297080994, -0.041504986584186554, 0.02159007079899311, -0.01657881960272789, -0.006102014798671007, 0.03230167180299759, -0.013834471814334393, 0.008989563211798668, 0.024940256029367447, 0.002479332499206066, 0.03169781342148781, -0.03526948019862175, 0.021893735975027084, 0.04132721945643425, 0.00813523679971695, -0.06721425801515579, -0.08222857862710953, 0.00774834118783474, 0.00851198099553585, 0.036367617547512054, 0.03863736242055893, -0.028262538835406303, 0.07050719857215881, 0.010815659537911415, 0.034183088690042496, -0.0016764760948717594, 0.037658121436834335, 0.013422027230262756, -0.0341135710477829, -0.06808973848819733, 0.019443660974502563, 0.03970043733716011, 0.009257806465029716, 0.0667191743850708, 0.03255023434758186, -0.010949979536235332, -0.007979234680533409, 0.04074859246611595, 0.031004929915070534, -0.021249251440167427, -0.057637348771095276, -0.031344641000032425, -0.013264123350381851, 0.031174777075648308, -0.05157431960105896, -0.06407926976680756, 0.0038992944173514843, -0.05309533327817917, 0.04822981357574463, 0.04484747350215912, -0.0012302647810429335, 0.039463575929403305, 0.005853791255503893, 0.04447254538536072, -0.034127313643693924, -0.06885097175836563, 0.003237469820305705, -0.037940919399261475, 0.02969791181385517, 0.03716358542442322, 0.03900327533483505, 0.03827071934938431, -0.003600356401875615, 0.02808357961475849, -0.019375881180167198, 0.01720433495938778, -0.029911736026406288, 0.022220533341169357, -0.00609618192538619, -0.08106634020805359, 0.01933441124856472, -0.03848859667778015, 0.01989969052374363, -0.017147621139883995, -0.020250089466571808, 0.028988121077418327, 0.0157014112919569, 0.017148064449429512, 0.03932273015379906, 0.013566159643232822, -0.015041129663586617, -0.02990524284541607, 0.01672062836587429, -0.07659853994846344, 0.024892602115869522, 0.032743602991104126, 0.023069163784384727, -0.03258409723639488, -0.03551739826798439, 0.0054805283434689045, -0.05443967133760452, -0.014459555968642235, 0.04340928792953491, -0.07966482639312744, 0.03502956032752991, 0.03909198194742203, 0.04369527846574783, -0.023819666355848312, -0.07137715071439743, 0.030850891023874283, 0.015082336030900478, -0.026993809267878532, -0.017520520836114883, -0.06745757907629013, -0.014725547283887863, 0.0017052489565685391, -0.06995703279972076, 0.02407037653028965, 0.021398494020104408, -0.037360887974500656, 0.022294670343399048, 0.018193257972598076, -0.04453787952661514, 0.04817892983555794, -0.020107058808207512, -0.010469015687704086, 0.015507529489696026, -0.05072922632098198, -0.034123677760362625, -0.03808597847819328, -0.015432998538017273, 0.030588598921895027, 0.0542801097035408, 0.018398864194750786, 0.024994483217597008, -0.05829071253538132, 0.010152792558073997, 0.04733410105109215, 0.004536992404609919, 0.0499306283891201, 0.02251172810792923, 0.03140052407979965, -0.00457046739757061, 0.029150301590561867, 0.01972057670354843, 0.06933566182851791, 0.006918644066900015, -0.028479499742388725, -0.017509182915091515, 0.0040016877464950085, 0.054362643510103226, -0.040382713079452515, -0.026462692767381668, 0.018424341455101967, -0.07315588742494583, -0.13246020674705505, 0.01383866649121046, -0.007335631642490625, -0.04006236791610718, 0.023782776668667793, 0.01731043867766857, -0.033430758863687515, 0.03891174867749214, -0.0024687503464519978, -0.047021470963954926, 0.038404740393161774, -0.05018037557601929, 0.02822955697774887, -0.057554230093955994, 0.01815284974873066, -0.017715133726596832, 0.029442502185702324, -0.022059546783566475, 0.026232562959194183, 0.014829154126346111, 0.009566663764417171, -0.058079857379198074, 0.010285899043083191, -0.02841612882912159, 0.00045872892951592803, 0.00916935782879591, -0.019611453637480736, -0.008518478833138943, -0.033825792372226715, -0.0008888624142855406, 0.049852386116981506, 0.043014027178287506, -0.02269699238240719, 0.05884408578276634, 0.06980744749307632, 0.011179397813975811, 0.0248088501393795, 0.001176923862658441, -0.03318881615996361, 0.03665480017662048, -0.03280479833483696, 0.03559398278594017, 0.007562612183392048, -0.06660334765911102, -0.023546863347291946, -0.016818348318338394, -0.026978986337780952, 0.02666669525206089, -0.039615094661712646, 0.04863031208515167, 0.04773131012916565, -0.038692280650138855, -0.05348804593086243, 0.044990424066782, 0.03491157293319702, 0.045369379222393036, 0.029864046722650528, 0.005220681894570589, -0.03165281191468239, 0.020525459200143814, 0.002581715350970626, -0.06741327792406082, 0.027267634868621826, -0.012896839529275894, -0.0028019112069159746, 0.03706836327910423, -0.010302686132490635, 0.0223747156560421, 0.04510710760951042, -0.003575942013412714, -0.020165134221315384, -0.033372920006513596, 0.023918887600302696, -0.07505238056182861, 0.014888430945575237, 0.05735153704881668, -0.016919583082199097, 0.07984160631895065, -0.008816041983664036, 0.02273310162127018, 0.029728610068559647, -0.013827897608280182, -0.0015229987911880016, -0.01296492200344801, 0.0485917367041111, -0.061794545501470566, 0.01701311208307743, -0.0029157777316868305, 0.0019784048199653625, 0.054913658648729324, 0.0019368981011211872, 0.0326542966067791, 0.006335046142339706, -0.013853133656084538, -0.02014404907822609, 0.018343323841691017, 0.02610298991203308, 0.023339245468378067, 0.016098985448479652, -0.006575680337846279, -0.04060117155313492, -0.028506986796855927, -0.0454389788210392, -0.04623126611113548, 0.03174174204468727, -0.022538436576724052, -0.09307871758937836, 0.024021832272410393, -0.06000485643744469, 0.04685146361589432, 0.028357908129692078, -0.06784903258085251, -0.005488154012709856, 0.0029994661454111338, 0.017474031075835228, 0.026134388521313667, 0.005900977645069361, 0.025424910709261894, -0.06664839386940002, -0.0644647404551506, -0.003635177155956626, 0.014284420758485794, 0.057870976626873016, 0.07256242632865906, 0.0303560271859169, -0.014025319367647171, -0.04961935803294182, -0.011401538737118244, -0.04585858806967735, 0.003986275754868984, -0.06866186857223511, -0.002337006852030754, -0.013659077696502209, -0.010529298335313797, 0.008316535502672195, 0.039122823625802994, 0.028530096635222435, -0.07099776715040207, 0.017234742641448975, 0.010241844691336155, 0.05880354717373848, -0.03950865939259529, -0.0077482289634644985, 0.0026098049711436033, 0.011329848319292068, 0.016916360706090927, 0.03697308152914047, 0.03079681098461151, -0.02736230567097664, -0.015769492834806442, 0.052731625735759735, -0.025557832792401314, 0.026998059824109077, 0.02874741330742836, -0.03887047991156578, -0.035337191075086594, -0.012956677936017513, -0.05899100378155708, 0.005059421062469482, 0.07417018711566925, 0.0065538533963263035, -0.00448976457118988, -0.018688034266233444, -0.02238299883902073, 0.061909351497888565, 0.037202559411525726, -0.040529124438762665, -0.004712137393653393, 0.0461331382393837, 0.001427426584996283, -0.020072299987077713, 0.0368238128721714, -0.00908622145652771, -0.01722409576177597, 0.018798744305968285, -0.061465270817279816, -0.05891695246100426, 0.010790029540657997, 0.040693312883377075, 0.0007830992108210921, 0.007770426105707884, -0.04485895112156868, -0.040162019431591034, -0.04026193544268608, -0.021811459213495255, -0.006337268278002739, -0.003147950628772378, 0.02289227582514286, 0.030624140053987503, -0.03000963106751442, 0.018004771322011948, -0.028958093374967575, -0.005590333603322506, -0.033345289528369904, -0.016514360904693604, 0.021674562245607376, -0.08424161374568939, 0.09425608068704605, 0.0202957671135664, -0.024982519447803497, 0.07020691782236099, 0.005974649451673031, 0.015573548153042793, 0.006355044897645712, -0.021791044622659683, 0.040150851011276245, -0.04684937745332718, 0.0025647960137575865, 0.0019635618664324284, 0.02950187586247921, -0.0028100081253796816, 0.015122867189347744, 0.013805302791297436, -0.015891321003437042, -0.026744438335299492, 0.01795227639377117, 0.03872308135032654, -0.0061140041798353195, -0.0031457124277949333, -0.0066825528629124165, -0.00795107614248991, 0.012540144845843315, -0.09614589065313339, -0.014537513256072998, 0.028270505368709564, 0.07056604325771332, -0.04959229379892349, -0.028238452970981598, 0.002199518494307995, 0.08265545219182968, -0.05273164436221123, 0.005356316454708576, 0.03300794959068298, -0.038709886372089386, 0.001783723826520145, 0.067179836332798, -0.07399196177721024, 0.02370538003742695, 0.00802904088050127, -0.04478022828698158, -0.02967856265604496, -0.01751621440052986, -0.014766771346330643, 0.06298675388097763, -0.009725477546453476, 0.020703433081507683, 0.03572041541337967, 0.027207285165786743, 0.06839609891176224, 0.05988757684826851, 0.07604462653398514, 0.03940306231379509, 0.0006717253709211946, -0.03481629118323326, -0.049609288573265076, 0.007097132038325071, -0.015461788512766361, -0.0539378821849823, -0.01769912987947464, 0.022049035876989365, -0.04096110537648201, -0.014113536104559898, 0.044690608978271484, 0.055683206766843796, 0.054989077150821686, 0.013112337328493595, -0.035759568214416504, -0.019268495962023735, -0.04765117168426514, -0.04621284455060959, 0.022550346329808235, 0.015505332499742508, -0.006874172482639551, -0.012725748121738434, 0.007469525095075369, 0.031770918518304825, -0.005973955150693655, 0.0010776250855997205, 0.025776926428079605, -0.0337270125746727, -0.015872927382588387, 0.02940772846341133, 0.017915276810526848, -0.021127447485923767, 0.02950676716864109, 0.03390154242515564, -0.012146673165261745, -0.05909496918320656, 0.06321299076080322, 0.02552141435444355, 0.060587670654058456, -0.0586252436041832, -0.00015848131442908198, -0.00830075703561306, -0.010495360009372234, 0.014682687819004059, -0.031885430216789246, 0.02785114385187626, -0.0031674071215093136, 0.007757680956274271, -0.0358002744615078, 0.03360171243548393, -0.016838379204273224, 0.014065257273614407, -0.036902591586112976, 0.018446583300828934, -0.035414084792137146, -0.039827536791563034, 0.014087381772696972, 0.020032711327075958, -0.004540914203971624, -0.017711162567138672, 0.03889491409063339, -0.03426583856344223, -0.013003267347812653, 0.016465600579977036, -0.0038986923173069954, 0.008198952302336693, 0.03260951489210129, -0.0682830959558487, 0.11197514832019806, 0.032498523592948914, 0.061830148100852966, 0.04513145983219147, 0.002451920183375478, -0.016936402767896652, -0.030836651101708412, 0.0327594168484211, 0.013564745895564556, -0.0625794380903244, -0.06732473522424698, 0.026681846007704735, 0.02348356507718563, 0.016052383929491043, 0.042429838329553604, 0.0017768786055967212, 0.040139298886060715, -0.017003288492560387, -0.026032069697976112, 0.012339863926172256, 0.0027855176012963057, 0.02148645743727684, -0.010591309517621994, -0.03697953745722771, 0.054379530251026154, 0.022323623299598694, 0.0207675751298666, -0.04537330940365791, 0.0017329195979982615, -0.054934922605752945, 0.04924774169921875, -0.0036094854585826397, -0.04313362389802933, 0.036394476890563965, -0.04308779165148735, -0.022801460698246956, 0.037692874670028687, -0.038016341626644135, -0.046442385762929916, -0.002884050365537405, -0.010377935133874416, 0.027656394988298416, 0.02455480583012104, 0.05965356528759003, -0.025169309228658676, -0.00821650680154562, -0.04043310880661011, -0.05817500129342079, 0.01051101740449667, -0.016421843320131302, -0.0047093601897358894, -0.04722846299409866, -0.05931171029806137, -0.010689684189856052, 0.010611413978040218, -0.002467268379405141, 0.009479084983468056, -0.037333499640226364, 0.01515690516680479], 'id': '04f326f2-ab92-45bc-b2c0-6d2350b967ac', 'metadata': {'author': '', 'creationDate': \"D:20250310171528Z00'00'\", 'creator': 'Pages', 'file_path': \"Vorameth'sCV.pdf\", 'format': 'PDF 1.3', 'keywords': '', 'modDate': \"D:20250310171528Z00'00'\", 'page': 0, 'producer': 'macOS Version 15.3.1 (Build 24D70) Quartz PDFContext', 'source': \"Vorameth'sCV.pdf\", 'subject': '', 'title': \"Vorameth'sCV\", 'total_pages': 2, 'trapped': ''}, '_distance': 0.28190845251083374}, page_content='VORAMETH REANTONGCOME’s CV \\nEducation \\nBachelor of Science in Information and Communication Technology, Mahidol University - Graduated \\n(2019) \\n[Current Study]  - Master Degree in Data Science and Artiﬁcial Intelligence, Asian Institute of \\nTechnology, Thailand \\nExperience \\nAugust 2024 - Now \\n‣ Persuading Master Degree in Data Science and Artiﬁcial Intelligence, Asian Institute of Technology, \\nThailand \\n• Project on Computer Programming in Data Science \\n• Loan Fraud Prediction - The project utilize the Kaggle datasets for training the model. The output is the \\nclassiﬁcation problems on whether the customer will probably cause loan fraud or not.  \\n• Project on Machine Learning'),\n",
       " Document(metadata={'vector': [-0.0192195363342762, -0.0050370050594210625, 0.01411434169858694, 0.023996206000447273, -0.011344892904162407, -0.01529576163738966, -0.05547631159424782, 0.04286598786711693, 0.02698568068444729, -0.012065505608916283, 0.013074805960059166, -0.059842776507139206, 0.07191958278417587, 0.032468028366565704, 0.06257203221321106, 0.027923252433538437, 0.03726917505264282, -0.034790296107530594, 0.05022316426038742, 0.05370289087295532, 0.004946967586874962, -0.007324013859033585, -0.06987523287534714, 0.029720483347773552, -0.05945804715156555, 0.008072049356997013, 0.02398858033120632, -0.024729620665311813, -0.0058351908810436726, 0.01077408529818058, 0.06534911692142487, 0.021589715033769608, -0.04650823771953583, 0.06581234931945801, -0.03113275021314621, 0.010582548566162586, -0.024184152483940125, -0.04463526979088783, -0.01655399799346924, 0.03679034486413002, 0.03527659922838211, -0.06667949259281158, -0.014141306281089783, 0.0216470155864954, -0.06504072993993759, -0.024797433987259865, -0.0011779830092564225, 0.05715714022517204, -0.030300891026854515, -0.05741668492555618, -0.040218811482191086, -0.004774046596139669, -0.06067050248384476, -0.05802895501255989, 0.002505783224478364, -0.012309877201914787, -0.0022457537706941366, 0.031356081366539, 0.020273501053452492, -0.0035348457749933004, -0.06501150876283646, 0.0023971623741090298, 0.001272676046937704, -0.03658398613333702, -0.08128131926059723, 0.04744936153292656, -0.06831534206867218, -0.05921132117509842, 0.03021164983510971, -0.03666936233639717, 0.07917192578315735, -0.021196158602833748, -0.03712693601846695, -0.014255573973059654, -0.03678390756249428, -0.04544917121529579, 0.002008122857660055, -0.00794373732060194, 0.05877392739057541, 0.002515556523576379, 0.018445350229740143, 0.006065464112907648, -0.0011641918681561947, -0.001693445025011897, 0.01927606388926506, -0.016049426048994064, -0.041820257902145386, -0.003965375479310751, 0.03571367263793945, 0.026250125840306282, -0.03126496449112892, -0.034260328859090805, -0.030573133379220963, 0.031194714829325676, -0.029536839574575424, 0.05133897811174393, -0.02757146582007408, -0.01894291117787361, 0.011602879501879215, -0.01663273759186268, -0.02253272943198681, -0.023159053176641464, -0.019063668325543404, -0.010031822137534618, 0.0316828191280365, -0.028134213760495186, -0.0664224699139595, -0.034662872552871704, -0.03678091987967491, 0.012037030421197414, -0.03591792657971382, -0.06059042736887932, -0.025625599548220634, 0.06474944204092026, 0.05331042781472206, -0.043654754757881165, -0.05594779551029205, -0.010368742980062962, 0.0034901786129921675, 0.01759740710258484, -0.02817634679377079, -0.05121082812547684, -0.0520906001329422, -0.021146075800061226, 0.04116581380367279, -0.006348741706460714, -0.021120494231581688, -0.011035148985683918, -0.02156677097082138, 0.04176487773656845, -0.029448362067341805, 0.05088239535689354, 0.02270272932946682, -0.04805154353380203, 0.013271213509142399, -0.012330267578363419, -0.012146610766649246, 0.0277479849755764, -0.04631815478205681, 0.0629969984292984, 0.03569767251610756, 0.021175872534513474, 0.010731212794780731, -0.038425520062446594, -0.07533444464206696, 0.019649239256978035, 0.02814125269651413, -0.04759209230542183, 0.04822000116109848, 0.022899603471159935, -0.016022395342588425, -0.006219400092959404, -0.0007114906329661608, 0.07278325408697128, 0.0026135938242077827, -0.022666610777378082, -0.03633030876517296, 0.004834160208702087, -0.04578913003206253, 0.008432414382696152, -0.03606081008911133, 0.004166700877249241, 0.07422755658626556, 0.02661428600549698, 0.021368149667978287, 0.02241971157491207, -0.015695704147219658, -0.013578366488218307, -0.029300525784492493, -0.04563835263252258, 0.02946590632200241, -0.01704469509422779, 0.06192658469080925, -0.039049070328474045, -0.018195096403360367, 0.00315470271743834, -0.007633271627128124, -0.017550768330693245, -0.049494668841362, -0.016202962026000023, -0.038990627974271774, 0.00545117212459445, 0.05318437144160271, -0.003566382685676217, 0.022095484659075737, 0.02727869339287281, -0.03864428773522377, 0.0461154505610466, 0.008851433172821999, -0.08547183126211166, 0.019160114228725433, 0.009263160638511181, 0.016479726880788803, 0.024618525058031082, 0.012196746654808521, 0.02347460575401783, -0.011601906269788742, -0.05033294856548309, 0.018290473148226738, 0.03942893072962761, -0.05195299908518791, 0.03730740770697594, -0.053541745990514755, 0.029127655550837517, 0.05174795165657997, 0.007376593537628651, 0.02201775275170803, 0.00583438528701663, -0.04222670570015907, -0.024563558399677277, 0.06008537858724594, -0.023691844195127487, 0.03086152672767639, 0.008219265379011631, 0.009831253439188004, -0.025216953828930855, 0.05112474039196968, 0.010555269196629524, -0.026035841554403305, 0.03578805923461914, -0.046624861657619476, 0.04607861861586571, -0.00044411883573047817, -0.030728934332728386, -0.03498056158423424, -0.026695089414715767, -0.0826408714056015, -0.04454285651445389, 0.042482610791921616, 0.03794105350971222, 0.0164817962795496, 0.027178866788744926, 0.05654275044798851, -0.03848152980208397, 0.03030538558959961, -0.034821297973394394, -0.04095422104001045, -0.0321759395301342, -0.03391396626830101, -0.02522227354347706, 0.010593146085739136, 0.011496135033667088, 0.0007848954410292208, 0.02894909866154194, 0.0668439120054245, -0.05446576699614525, 0.048776548355817795, 0.0077935573644936085, -0.026299068704247475, 0.04509343206882477, -0.009723838418722153, 0.01357449870556593, -0.0027240579947829247, 0.0008230541134253144, 0.056397680193185806, -0.03629794716835022, 0.02248057723045349, 0.0419420562684536, -0.006402457598596811, -0.033212754875421524, -0.06325389444828033, 0.01943272165954113, -0.0394892692565918, 0.03146745637059212, 0.03719677776098251, -0.03467732295393944, 0.0794348493218422, 0.02280881442129612, 0.05254357308149338, -0.033602871000766754, 0.04199476167559624, 0.001692741410806775, -0.07145371288061142, -0.06182079762220383, 0.011201774701476097, 0.03546823933720589, -0.007419653236865997, 0.08116970956325531, 0.035837072879076004, -0.018700463697314262, 0.005449565593153238, 0.05162086337804794, 0.04047379642724991, -0.02521001361310482, -0.09413471817970276, -0.015018627978861332, 0.0038104639388620853, 0.04941311851143837, -0.02334488555788994, -0.06811948865652084, -0.0018431759672239423, -0.023593870922923088, 0.04120110347867012, -0.0014273157576099038, 0.007178748957812786, 0.006596654653549194, 0.030509717762470245, 0.059309281408786774, -0.008561254478991032, -0.06828998029232025, 0.011475400999188423, -0.030203981325030327, 0.019520720466971397, 0.005716918967664242, 0.041679345071315765, 0.013342263177037239, 0.0165534857660532, 0.056611090898513794, 0.009535138495266438, 0.04174249246716499, -0.033700618892908096, -0.014422357082366943, -0.023956725373864174, -0.10424397885799408, 0.008722467347979546, -0.017014648765325546, 0.018268048763275146, -0.0025513996370136738, -0.013516650535166264, 0.03690385818481445, 0.01995970867574215, 0.02966817282140255, 0.007713747676461935, -0.009523281827569008, -0.02976227179169655, -0.0280844047665596, 0.015035325661301613, -0.09094993770122528, -0.029730496928095818, 0.012884125113487244, 0.020066730678081512, -0.035934288054704666, -0.02214658632874489, 0.020860929042100906, -0.03410907834768295, -0.04605759307742119, 0.042155921459198, -0.026461662724614143, 0.028287488967180252, 0.019011318683624268, 0.03447960317134857, -0.04725265130400658, -0.061544958502054214, 0.057313986122608185, 0.010693440213799477, -0.04309992864727974, -0.0033200951293110847, -0.04736878350377083, -0.002508536446839571, -0.01636219397187233, -0.06905484944581985, 0.022151025012135506, 0.007549013011157513, -0.03291750326752663, 0.018423961475491524, 0.03619905188679695, -0.04236677289009094, 0.03319323807954788, -0.029999762773513794, -0.057103708386421204, 0.04211428016424179, -0.0488831102848053, -0.012063801288604736, -0.05124541372060776, -0.05447590351104736, 0.036839548498392105, 0.04858635365962982, 0.03130529448390007, 0.03567812219262123, -0.04350869730114937, 0.02048959583044052, 0.031141063198447227, -0.006668242160230875, 0.0517641082406044, 0.010060763917863369, 0.053437475115060806, -0.0374225415289402, 0.04207833856344223, 0.02495688758790493, 0.06510885059833527, -0.004002951085567474, -0.02740316465497017, -0.024121742695569992, -0.02385443076491356, 0.040514010936021805, -0.027204208076000214, -0.02424497902393341, 0.003785528242588043, -0.05934108421206474, -0.12526778876781464, 0.012014188803732395, -0.0013476955937221646, -0.03276261314749718, -0.0024634392466396093, 0.019689902663230896, -0.025432465597987175, 0.017833836376667023, -0.036584850400686264, -0.04864145442843437, 0.037910573184490204, -0.05995497107505798, 0.03944806009531021, -0.023598723113536835, 0.045748334378004074, -0.04788252338767052, 0.0003040053998120129, -0.0065523129887878895, 0.00545552559196949, 0.04194969683885574, 0.007980817928910255, -0.031893640756607056, -0.018780840560793877, -0.058350734412670135, -0.028310656547546387, 0.029910925775766373, -0.028613176196813583, -0.025670068338513374, -0.06885987520217896, -0.01815256103873253, 0.06399752199649811, 0.016919702291488647, -0.04222261905670166, 0.027876893058419228, 0.04616141691803932, 0.03190149366855621, 0.010863649658858776, -0.011044549755752087, -0.049380093812942505, 0.014598424546420574, -0.030483564361929893, 0.03460356965661049, -0.009111632592976093, -0.03923548012971878, -0.015730727463960648, 0.009505664929747581, -0.02975240908563137, 0.03887081891298294, -0.005548403598368168, 0.05717914178967476, -0.006244059652090073, -0.0513751246035099, -0.047418560832738876, 0.02091982401907444, 0.02648640237748623, 0.07021363079547882, 0.061719946563243866, 0.012383803725242615, -0.027355851605534554, 0.022182313725352287, -0.012104647234082222, -0.07330574095249176, 0.007945920340716839, -0.0018198846373707056, 0.023643815889954567, 0.026405584067106247, -0.005784580949693918, -0.010374339297413826, 0.04878329858183861, 0.015024811029434204, -0.017259536311030388, -0.039872266352176666, 0.04151785746216774, -0.07867269963026047, 0.05109580233693123, 0.045618895441293716, 0.009446980431675911, 0.09047528356313705, -0.049270063638687134, 0.010047594085335732, 0.030423907563090324, -0.02013433538377285, 0.002281758701428771, -0.036799121648073196, 0.05350915342569351, -0.06348969042301178, 0.005305023398250341, -0.023895489051938057, 0.0016189099987968802, 0.03846968337893486, -0.034479279071092606, -0.0020354457665234804, -0.0005336960311979055, -0.03234205022454262, -0.03718636557459831, 0.009023813530802727, -0.02193097583949566, 0.03845393285155296, -0.052081238478422165, -0.0008198953582905233, -0.0563230961561203, -0.02289603464305401, -0.0407160148024559, -0.03768967092037201, 0.05454029515385628, -0.026735272258520126, -0.0786738321185112, 0.037500254809856415, -0.014649314805865288, -0.0039316946640610695, 0.019758449867367744, -0.04136880487203598, -0.00030219784821383655, -0.028849419206380844, 0.05781230702996254, -0.0008267996017821133, -0.007734313141554594, 0.04923267289996147, -0.06939589232206345, -0.04765728488564491, 0.017285587266087532, -0.0032574173528701067, 0.042657189071178436, 0.04088735207915306, 0.0036450379993766546, 0.0014735806034877896, -0.06598906219005585, -0.04485861584544182, 0.014128977432847023, 0.018467705696821213, -0.043409328907728195, -0.004733701702207327, -0.0013971109874546528, 0.009997815825045109, 0.010244987905025482, 0.02080928534269333, 0.0016760427970439196, -0.07278876006603241, 0.02569737285375595, 0.016295278444886208, 0.0730050578713417, -0.03172066807746887, -0.012397555634379387, 0.01069004274904728, -0.005380194168537855, 0.023746799677610397, 0.01890215091407299, -0.01066561695188284, -0.007499075029045343, -0.0013761022128164768, 0.044953353703022, -0.06152661144733429, 0.03128878027200699, 0.07240161299705505, -0.043013740330934525, -0.009182772599160671, -0.0059248218312859535, -0.06282351911067963, 0.0054699028842151165, 0.058374159038066864, 0.033656369894742966, -0.009990603663027287, 0.02456173487007618, -0.04352850466966629, 0.0367654412984848, 0.027230406180024147, -0.063557930290699, -0.01131959818303585, 0.038403626531362534, -0.027237042784690857, -0.02097299136221409, 0.03165418654680252, 0.006906804163008928, -0.01302000880241394, 0.015357662923634052, -0.05914336442947388, -0.03427616134285927, 0.004762696567922831, 0.026056379079818726, -0.023673422634601593, 0.033006418496370316, -0.021293414756655693, -0.061606232076883316, -0.004135110415518284, -0.03768225014209747, 0.00010364207992097363, 0.011156800203025341, 0.0028194959741085768, -0.0033675706945359707, -0.04201984405517578, 0.02607804723083973, -0.01780017651617527, -0.014877298846840858, -0.03175835683941841, -0.03374698758125305, 0.002170613966882229, -0.04956984519958496, 0.02098032273352146, 0.0230780690908432, 0.0032276040874421597, 0.029836885631084442, 0.0016727499896660447, -0.004235188011080027, 0.006392364390194416, -0.007444879971444607, 0.04093862697482109, -0.02149064466357231, -0.004220094531774521, 0.020976083353161812, 0.014408783055841923, 0.04673878103494644, 0.022355172783136368, 0.023626156151294708, -0.0008332842262461782, -0.0339161716401577, -0.0013181965332478285, 0.0279961246997118, -0.0062897829338908195, 0.023221075534820557, -0.02464033104479313, 0.007763498928397894, 0.0034682988189160824, -0.04743660241365433, -0.03027060441672802, 0.03503614291548729, 0.0578962042927742, -0.04893527925014496, 0.004083926323801279, 0.0021209372207522392, 0.08726947009563446, -0.030101411044597626, 0.01894511841237545, 0.0033154382836073637, -0.05607108399271965, -0.01319325715303421, 0.05426454171538353, -0.05274536833167076, -0.007378995418548584, 0.017317676916718483, -0.061487410217523575, -0.03701786696910858, -0.04369323328137398, -0.03431807458400726, 0.029783418402075768, 0.012127486057579517, 0.004150480963289738, 0.007895596325397491, 0.060202062129974365, 0.054101377725601196, 0.04388045519590378, 0.08390821516513824, 0.036292243748903275, 0.011755973100662231, -0.05040150135755539, -0.04476531967520714, 0.024516461417078972, 0.002868015319108963, -0.022872652858495712, -0.029295234009623528, 0.0028913237620145082, -0.010181346908211708, 0.03853435814380646, 0.04992054030299187, 0.049586400389671326, 0.031842511147260666, 0.033645149320364, -0.03365165367722511, -0.007090548984706402, -0.023523712530732155, -0.05535313859581947, 0.03388192504644394, 0.0286843441426754, -0.018468940630555153, -0.025011958554387093, 0.03083009459078312, 0.01367210503667593, 0.007166085299104452, -0.007372732274234295, 0.016520673409104347, -0.014005145989358425, -0.04399790242314339, 0.05449734628200531, -0.018773730844259262, -0.051544275134801865, 0.051144517958164215, 0.016227424144744873, 0.008497852832078934, -0.08743058890104294, 0.009580987505614758, 0.006067895796149969, 0.07641252130270004, -0.05744399502873421, -0.0016262201825156808, 0.0020351551938802004, -0.042547933757305145, 0.027825025841593742, -0.02317289263010025, 0.030158674344420433, 0.006078369915485382, 0.014816348440945148, -0.07866144925355911, 0.051389917731285095, 0.006839335430413485, 0.02675130032002926, -0.012774422764778137, 0.005644520279020071, -0.03792940452694893, -0.006170326378196478, 0.029922401532530785, 0.019221944734454155, -0.008960497565567493, -0.022940251976251602, 0.03189120441675186, 0.009445758536458015, -0.006105308886617422, 0.019267166033387184, -0.013544440269470215, 0.03751704469323158, 0.034840796142816544, -0.03329748660326004, 0.074178047478199, 0.04030913859605789, 0.013931779190897942, 0.04933866113424301, -0.005481425207108259, -0.05494547635316849, -0.014977232553064823, 0.0010969160357490182, 0.011920943856239319, -0.0022659916430711746, -0.03699320927262306, 0.004552475642412901, -0.019710656255483627, -0.009765196591615677, 0.029578298330307007, -0.0054048411548137665, 0.026121655479073524, 0.010911076329648495, -0.03152093663811684, -0.005219125654548407, -0.03391053527593613, -0.0027009935583919287, 0.022009599953889847, -0.03300941362977028, 0.03780510649085045, 0.016207264736294746, 0.01818341575562954, -0.03690860792994499, -0.02664337307214737, -0.06126818433403969, 0.02744024060666561, 0.03183072432875633, -0.06712193787097931, -0.002852350939065218, -0.0217538233846426, 0.012957180850207806, 0.05343428626656532, -0.05789262801408768, -0.046754758805036545, 0.027842972427606583, -0.026949994266033173, 0.008633779361844063, 0.008899928070604801, 0.07265271246433258, -0.03127025440335274, -0.02952481061220169, -0.047151047736406326, -0.04716043546795845, 0.016493938863277435, -0.017522819340229034, 0.00040037132566794753, -0.06820887327194214, -0.04489605873823166, -0.0016711822245270014, 0.015431974083185196, 0.015379880554974079, 0.01616358384490013, -0.0467362254858017, -0.0027387056034058332], 'id': '5e975022-9c5f-4e0c-b13e-74f4c1f44483', 'metadata': {'author': '', 'creationDate': \"D:20250310171528Z00'00'\", 'creator': 'Pages', 'file_path': \"Vorameth'sCV.pdf\", 'format': 'PDF 1.3', 'keywords': '', 'modDate': \"D:20250310171528Z00'00'\", 'page': 0, 'producer': 'macOS Version 15.3.1 (Build 24D70) Quartz PDFContext', 'source': \"Vorameth'sCV.pdf\", 'subject': '', 'title': \"Vorameth'sCV\", 'total_pages': 2, 'trapped': ''}, '_distance': 0.41075223684310913}, page_content='adjusting the SIEM rule for better detection on malicious activities  \\nMaintained security products for effectively functioned  \\n• Penetration Tester \\nTel: +66 (0) 86-002-1958  \\nGithub : https://github.com/MrWhiteC  \\nEmail: woramethr@gmail.com \\nAddress: 59/30, Alley 5, Po.Pasuk Village, \\nBaromrajjachonnani Road, Sala Thammasop Sub-'),\n",
       " Document(metadata={'vector': [-0.002726140199229121, -0.020212065428495407, 0.0041425502859056, 0.037715714424848557, 0.014367607422173023, -0.031474776566028595, -0.024751488119363785, 0.032831136137247086, -0.029740380123257637, -0.012355533428490162, 0.03622680902481079, -0.04907739534974098, 0.06791091710329056, 0.014986745081841946, 0.07331880182027817, 0.02521713264286518, 0.0031761438585817814, -0.04012617841362953, 0.03250357136130333, 0.03153558820486069, 0.010187099687755108, -0.01698414795100689, -0.07927840203046799, 0.03376859426498413, -0.033192411065101624, 0.04651682823896408, 0.040100760757923126, -0.04267982020974159, -0.035659294575452805, 0.0022030631080269814, 0.06606249511241913, -0.02495039440691471, -0.047072913497686386, 0.06329842656850815, -0.043398287147283554, 0.021415887400507927, 0.000731616688426584, -0.023967156186699867, -0.02935810573399067, 0.02588713727891445, 0.015608340501785278, -0.06412480771541595, -0.012055013328790665, 0.07079653441905975, -0.06240902841091156, -0.032468535006046295, 0.013555257581174374, 0.04773353412747383, -0.023180045187473297, -0.06140792742371559, -0.03111310303211212, -0.007976927794516087, -0.05572669580578804, -0.03854922950267792, -0.04981585219502449, 0.00031799316639080644, 0.0016314316308125854, 0.019817272201180458, 0.023202665150165558, -0.02812954969704151, -0.046646542847156525, 0.029277285560965538, -0.04560532420873642, -0.03662277013063431, -0.06336867809295654, 0.0360199511051178, -0.0406632162630558, -0.06535769999027252, 0.03505004942417145, -0.0013262639986351132, 0.05129565671086311, -0.007060110103338957, 0.000509659294039011, 0.0018696922343224287, -0.028354546055197716, -0.046303603798151016, -0.018420763313770294, 0.024842118844389915, 0.06055536866188049, -0.046734768897295, 0.02437339909374714, 0.008242679759860039, -0.011788031086325645, -0.012493545189499855, -0.008282052353024483, -0.002556038089096546, -0.03970155119895935, 0.01998169720172882, -0.011464952491223812, 0.03164754435420036, -0.02927512489259243, -0.05382828786969185, 0.005275243893265724, 0.029984060674905777, -0.04543546214699745, 0.06206897646188736, -0.04024511203169823, -0.0017154610250145197, 0.007596431765705347, -0.008347639814019203, -0.022468093782663345, 0.021157989278435707, -0.03433449938893318, 0.01482910756021738, 0.059331558644771576, -0.023528527468442917, -0.07608288526535034, -0.03952579200267792, -0.022824106737971306, 0.008866402320563793, -0.03573951870203018, -0.025751033797860146, -0.010854877531528473, -0.0007503236411139369, 0.038360994309186935, -0.049529775977134705, -0.04617675021290779, -0.011768154799938202, -0.013099553994834423, 0.02095537818968296, -0.03981199115514755, -0.03574051335453987, -0.06277640163898468, -0.010289451107382774, 0.0512247309088707, -0.013347395695745945, -0.0348883792757988, -0.02256602793931961, -0.00855350587517023, 0.015383753925561905, -0.028042946010828018, 0.07005384564399719, 0.0684422105550766, -0.0470830500125885, 0.0049368999898433685, -0.002268372103571892, -0.01640184596180916, 0.046964507550001144, -0.03975347429513931, -0.007047487888485193, 0.023738976567983627, 0.01957106776535511, 0.013059972785413265, -0.015325823798775673, -0.035903651267290115, 0.04070551320910454, 0.009373197332024574, -0.05637732148170471, 0.052851516753435135, 0.029141318053007126, -0.006507722660899162, 0.0027433191426098347, 0.02049151249229908, 0.06105536222457886, -0.03325877711176872, -0.011037400923669338, -0.013016615062952042, 0.023976976051926613, -0.04485805332660675, 0.005593894049525261, -0.046641863882541656, -0.006156937684863806, 0.03033866174519062, -0.01094410102814436, 0.028870325535535812, -0.005328124854713678, 0.005629451014101505, 0.00828318577259779, -0.05475348234176636, -0.016503337770700455, 0.005258370190858841, -0.019413460046052933, 0.030896281823515892, -0.007944433018565178, -0.014811567030847073, -0.019155044108629227, 0.003691554069519043, -0.0328262634575367, -0.02620518207550049, -0.02553236298263073, -0.02616850472986698, -0.02496865764260292, 0.030808381736278534, -0.015233092941343784, 0.0019198654918000102, 0.0121403643861413, 0.011531720869243145, 0.0453321598470211, -0.016595426946878433, -0.06340795755386353, -0.014218582771718502, 0.03162616863846779, 0.02549906261265278, 0.01958186738193035, 0.034160759299993515, 0.02800329215824604, -0.006770042702555656, -0.04082523658871651, 0.0010606308933347464, 0.04456564784049988, -0.03974470496177673, -0.009532622992992401, -0.014304051175713539, 0.007919193245470524, 0.006039163563400507, 0.016424112021923065, 0.019410964101552963, -0.008236202411353588, -0.04077966883778572, -0.0324285589158535, 0.03817334398627281, 0.016652055084705353, 0.05098652467131615, -0.00915729533880949, 0.03446110710501671, -0.017713474109768867, 0.027223777025938034, 0.010106852278113365, -0.005600948352366686, 0.02850176766514778, -0.06686775386333466, 0.10234373807907104, -0.028855107724666595, -0.03392477706074715, -0.010233377106487751, -0.0029171628411859274, -0.04146326333284378, -0.05588693544268608, -0.028017688542604446, 0.07459976524114609, 0.04902402311563492, 0.03471900522708893, 0.05775652825832367, -0.05382733792066574, 0.0021060393191874027, -0.01937846839427948, -0.024006789550185204, -0.016563113778829575, -0.04123149812221527, -0.04135328531265259, 0.01763262040913105, 0.022699693217873573, -0.018095914274454117, 0.03737776726484299, 0.032619088888168335, -0.03742043301463127, 0.03758616000413895, 0.034974001348018646, -0.008418957702815533, -0.006903919856995344, 0.003760342253372073, 0.03145020082592964, -0.0017986745806410909, -0.0048452625051140785, 0.04624740779399872, -0.05055185779929161, 0.030610470101237297, 0.06797944754362106, 0.016926923766732216, -0.04532758519053459, -0.05993048474192619, 0.008379124104976654, 0.019678162410855293, 0.057146064937114716, 0.04680508002638817, -0.05143475532531738, 0.0804809033870697, 0.028108660131692886, 0.0667332336306572, -0.03718952089548111, 0.05090933293104172, -0.020881453529000282, -0.03448174148797989, -0.060458213090896606, 0.0006615559686906636, 0.034823909401893616, -0.005853105336427689, 0.040317993611097336, 0.01728598028421402, -0.061880141496658325, 0.024370763450860977, 0.04705432802438736, 0.06288160383701324, -0.004383193328976631, -0.051231302320957184, -0.0431155227124691, -0.007599819917231798, 0.04260626807808876, -0.029157087206840515, -0.07199238985776901, -0.018853671848773956, -0.03873037174344063, 0.018060410395264626, 0.04390054568648338, -0.026873093098402023, 0.016322176903486252, -0.006109153851866722, 0.02175324410200119, -0.021797966212034225, -0.05187857151031494, -0.004026525653898716, -0.04152515158057213, 0.005858754739165306, 0.03399001806974411, 0.02467675879597664, 0.008642829023301601, 0.0267501100897789, 0.0038191466592252254, -0.0005631836247630417, 0.0074438778683543205, -0.014365840703248978, 0.00907333754003048, -0.050472937524318695, -0.09875550121068954, 0.01338440552353859, -0.008365554735064507, 0.02516002766788006, -0.015086696483194828, -0.023816172033548355, 0.022510014474391937, 0.020290812477469444, 0.0171087384223938, 0.05282977595925331, -0.01849546656012535, -0.015749143436551094, -0.03337329998612404, 0.020127762109041214, -0.07461242377758026, -0.003386368043720722, 0.0036782643292099237, 0.03474274277687073, -0.025169214233756065, -0.03222094103693962, 0.05336296930909157, -0.06200636550784111, -0.04242011159658432, 0.04877443611621857, -0.06882872432470322, 0.0563482828438282, 0.0209844671189785, 0.045589808374643326, -0.04757509008049965, -0.05984736606478691, -0.004468720871955156, 0.016871025785803795, -0.044703055173158646, -0.026049798354506493, -0.05435062199831009, -0.004039437510073185, 0.00158612709492445, -0.07531555742025375, 0.043444689363241196, 0.03316487744450569, -0.05425708740949631, 0.028573688119649887, 0.010435785166919231, -0.03348586708307266, 0.0676436573266983, -0.041706670075654984, -0.010460920631885529, 0.041455019265413284, -0.08108438551425934, -0.002867751754820347, -0.06718892604112625, -0.028425876051187515, 0.010121569037437439, 0.04534704610705376, 0.01884347014129162, 0.03648166358470917, -0.03130242973566055, 0.014038116671144962, 0.04435189440846443, -0.004345363937318325, 0.04448982700705528, 0.009427092038094997, 0.07897040992975235, -0.01756155863404274, 0.03598758578300476, 0.0012300946982577443, 0.06990772485733032, 0.02015681378543377, -0.04168148711323738, -0.01825733482837677, -0.006725630257278681, 0.05357963219285011, -0.017115524038672447, -0.005156753584742546, -0.0006126984371803701, -0.042145032435655594, -0.12341668456792831, 0.03668246418237686, -0.006902239751070738, -0.03945722430944443, 0.025292523205280304, -0.01617257669568062, -0.028494467958807945, 0.05293644219636917, -0.007872072048485279, -0.06612928956747055, 0.02967342920601368, -0.025303589180111885, 0.045810990035533905, -0.06376022845506668, 0.02470039203763008, -0.012649537064135075, -0.018834814429283142, -0.003374849446117878, 0.03806542977690697, 0.015368574298918247, 0.021046197041869164, -0.010149842128157616, 0.008495715446770191, -0.04203590005636215, 0.004305406007915735, -0.00040810820064507425, 0.009975029155611992, -0.013329561799764633, -0.05019845440983772, -0.013789678923785686, 0.04690610244870186, 0.04498441144824028, -0.04199710488319397, 0.0669402927160263, 0.0656931921839714, 0.008413972333073616, 0.04022400081157684, -0.024490274488925934, -0.06205592676997185, 0.024771148338913918, -0.04981625825166702, 0.03790225088596344, 0.010359857231378555, -0.05791900306940079, -0.030784709379076958, -0.0028746004682034254, -0.021047517657279968, 0.01722843572497368, 0.0003847482439596206, 0.07050579786300659, 0.015300321392714977, -0.06923011690378189, -0.05608935281634331, 0.011964901350438595, 0.04134005308151245, 0.023654337972402573, 0.05415662005543709, 0.008179131895303726, -0.05308822914958, 0.021459555253386497, -0.01357859093695879, -0.08089247345924377, 0.016675366088747978, -0.0038744087796658278, 0.002918012673035264, 0.044307559728622437, -0.005020148120820522, 0.01821451261639595, 0.05966435745358467, 0.004433671943843365, 0.025751963257789612, -0.023859858512878418, 0.027278227731585503, -0.06116543337702751, 0.007467180490493774, 0.019220346584916115, 0.004457337316125631, 0.08883187919855118, -0.03385567292571068, 0.016678357496857643, 0.03298874944448471, -0.019745923578739166, -0.0024466037284582853, -0.03153279796242714, 0.051619675010442734, -0.05383601784706116, 0.015588158741593361, -0.0005540501442737877, -0.0035365154035389423, 0.04791561886668205, -0.04703899845480919, 0.04990570619702339, 0.020706361159682274, -0.019421251490712166, -0.028955262154340744, 0.038207199424505234, 0.007369348779320717, 0.010591447353363037, -0.05143661051988602, -0.012880727648735046, -0.06829532980918884, -0.029879484325647354, -0.05929215997457504, -0.058969393372535706, 0.02835046872496605, -0.009381026960909367, -0.09385538846254349, 0.012341925874352455, -0.03396191820502281, 0.023467158898711205, 0.023855533450841904, -0.04051520302891731, -0.009682301431894302, 0.0008638122235424817, 0.044785019010305405, 0.024006329476833344, -0.034547533839941025, 0.026906607672572136, -0.058591801673173904, -0.05051213875412941, 0.012895170599222183, 0.035608939826488495, 0.03760048374533653, 0.03293981775641441, 0.05720322206616402, -0.02774299867451191, -0.0427345409989357, -0.04076138511300087, -0.0228617824614048, 0.0270726028829813, -0.07757874578237534, 0.02879062481224537, 0.010735560208559036, 0.032025739550590515, 0.008007703348994255, -0.021056752651929855, 0.035479165613651276, -0.051230937242507935, 0.05065305531024933, 0.01473727636039257, 0.07177937775850296, -0.01377710048109293, -0.01730911061167717, 0.011197707615792751, 0.01805827021598816, 0.02291601337492466, 0.05004343017935753, 0.011485549621284008, 0.0004310875665396452, -0.013827409595251083, 0.02583383023738861, -0.02238086611032486, 0.04257439821958542, 0.04387134686112404, -0.04121726378798485, -0.01462071854621172, 0.00012939221051055938, -0.0817282572388649, 0.008000420406460762, 0.05227743089199066, 0.035520680248737335, -0.013021495193243027, 0.0028697752859443426, -0.017957061529159546, 0.03650864586234093, 0.005394991487264633, -0.06371690332889557, -0.0011399663053452969, 0.050600554794073105, 0.01697283424437046, 0.0012026625918224454, 0.05159532278776169, 0.019080067053437233, -0.025743402540683746, 0.014306879602372646, -0.0661858469247818, -0.03772088885307312, -0.005462301895022392, 0.03594692796468735, 0.0031869877129793167, 0.012877436354756355, -0.01152114663273096, -0.03792797774076462, -0.03452211618423462, -0.07275853306055069, -0.02410331927239895, -0.025299906730651855, 0.004342895001173019, 0.028125999495387077, -0.0026698799338191748, 0.04204540327191353, -0.03919373080134392, 0.011141554452478886, 0.005251918453723192, -0.023805031552910805, 0.029736429452896118, -0.039859458804130554, 0.045677702873945236, 0.03943520039319992, -0.011000924743711948, 0.06131506711244583, -0.006826884113252163, 0.038184892386198044, 0.02308960072696209, 0.0030552628450095654, 0.027904117479920387, -0.051940374076366425, -0.008879411034286022, 0.032006606459617615, 0.02240891009569168, 0.05211438611149788, 0.03529119864106178, 0.0036966537591069937, -0.012965635396540165, -0.006228829268366098, 0.006077793892472982, 0.01936756633222103, -0.006019860506057739, 0.020698299631476402, -0.006174025125801563, 0.005035348702222109, 0.023414945229887962, -0.0698818564414978, -0.02745974063873291, -0.015363476239144802, 0.04584815353155136, -0.04265865311026573, -0.015408681705594063, 0.009770505130290985, 0.051015712320804596, -0.03219812363386154, 0.018662750720977783, 0.006292555946856737, -0.05381132289767265, -0.01273371372371912, 0.060549743473529816, -0.048823706805706024, 0.016244439408183098, 0.03143981471657753, -0.055882472544908524, -0.013268898241221905, -0.03143920376896858, 0.005933157168328762, 0.06212450563907623, 0.0028217339422553778, 0.007275097072124481, 0.024099279195070267, 0.038650449365377426, 0.050226833671331406, 0.03853840008378029, 0.07573121786117554, 0.0386180579662323, 0.012246299535036087, -0.05933482199907303, -0.06001897528767586, 0.021808087825775146, 0.011972355656325817, -0.018929816782474518, -0.00023885886184871197, 0.04491211101412773, -0.009606385603547096, 0.010816747322678566, 0.02557651326060295, 0.06117870658636093, 0.01993456296622753, 0.03319110348820686, -0.03690173104405403, -0.029690496623516083, -0.06690838187932968, -0.04894133657217026, 0.02721022441983223, 0.05927487090229988, -0.004893470089882612, -0.04022355005145073, 0.0024417401291429996, 0.0162986908107996, -0.002435157308354974, 0.03045934997498989, 0.029379693791270256, -0.024513686075806618, -0.04137152433395386, 0.047496944665908813, 0.01325238961726427, -0.03751588985323906, 0.0571318045258522, -0.0016991685843095183, -0.0006453764508478343, -0.06890849769115448, 0.0491870753467083, 0.02551879733800888, 0.08331115543842316, -0.06567997485399246, 0.024138476699590683, -0.0037383607123047113, 0.00936062727123499, 0.009901396930217743, 0.008850952610373497, 0.04124482348561287, -0.010743082500994205, 0.013168343342840672, -0.04816627874970436, 0.021001262590289116, 0.005529126152396202, 0.015849268063902855, -0.02285187505185604, 0.008246412500739098, -0.01996813528239727, -0.05300315469503403, 0.04028575122356415, 0.022391987964510918, -0.03325916826725006, -0.01690070331096649, 0.044065654277801514, -7.181756518548355e-05, -0.009214009158313274, 0.024014607071876526, 0.004780307877808809, 0.023036476224660873, 0.019180145114660263, -0.04348791763186455, 0.09408605843782425, 0.03579876199364662, 0.005010819062590599, 0.030733469873666763, -0.017908962443470955, -0.030738545581698418, -0.029423963278532028, 0.018603309988975525, -0.013701842166483402, -0.06525354832410812, -0.06244910508394241, 0.024384142830967903, 0.024782070890069008, 0.003468827111646533, 0.013344712555408478, 0.012462442740797997, 0.06313952058553696, 0.03790552169084549, -0.020991625264286995, -0.012193580158054829, -0.006778869777917862, -0.024323713034391403, 0.019587496295571327, -0.06647758185863495, 0.04090997949242592, 0.024859823286533356, 0.010133318603038788, -0.02019672840833664, 0.00161862897220999, -0.06416774541139603, 0.039784930646419525, 0.018303681164979935, -0.021476011723279953, 0.00038904446410015225, -0.05266205966472626, -0.014272630214691162, 0.01581035740673542, -0.05538100376725197, -0.023936282843351364, 0.024501334875822067, 0.0005731275305151939, 0.02967159077525139, 0.035449251532554626, 0.06838535517454147, -0.018229734152555466, -0.009385660290718079, -0.012045251205563545, -0.042026419192552567, -0.023083070293068886, -0.05306513234972954, 0.0025052218697965145, -0.037720147520303726, -0.04488139972090721, -0.026558198034763336, -0.012270098552107811, 0.024252109229564667, 0.016259461641311646, -0.015151859261095524, 0.029533378779888153], 'id': '560edff9-33b0-4132-8acf-ce2140f91e03', 'metadata': {'author': '', 'creationDate': \"D:20250310171528Z00'00'\", 'creator': 'Pages', 'file_path': \"Vorameth'sCV.pdf\", 'format': 'PDF 1.3', 'keywords': '', 'modDate': \"D:20250310171528Z00'00'\", 'page': 1, 'producer': 'macOS Version 15.3.1 (Build 24D70) Quartz PDFContext', 'source': \"Vorameth'sCV.pdf\", 'subject': '', 'title': \"Vorameth'sCV\", 'total_pages': 2, 'trapped': ''}, '_distance': 0.4145090579986572}, page_content='• Exchanging cultural experience with other members in the lab \\nJune — August 2018 \\n‣ Internship, Bremen University; Bremen, Germany \\n• Using Tensor Flow for Prediction Users Behaviour \\n• Implementing Android application through Android Studio with Network Parameters \\n• Clearing and preparing data with Pandas library in Python \\n• Cultural and Knowledge Exchanging \\nJune — July 2016  \\n‣ Representative Participant in Asian Undergraduate Summit, National University Singapore, Singapore \\n- June to July 2016 \\n• Improving design and creative thinking skill through group discussion \\n• Being aware of disruptive changes from technology over businesses \\n• Acknowledging upcoming trends of business'),\n",
       " Document(metadata={'vector': [-0.0060950759798288345, -0.041686248034238815, -0.005758193321526051, 0.02777940221130848, -0.008126986213028431, -0.025025194510817528, -0.04883195832371712, 0.044671669602394104, -0.013364659622311592, -0.025227602571249008, 0.016688190400600433, -0.07010270655155182, 0.054746758192777634, 0.03197510540485382, 0.05763182416558266, 0.023663397878408432, 0.034892451018095016, -0.01723167486488819, 0.04705075919628143, 0.06461035460233688, 0.02063031867146492, -0.011339954100549221, -0.05752333626151085, 0.06181902438402176, -0.018122414126992226, 0.024520739912986755, 0.04667222499847412, -0.0013450158294290304, -0.005208861082792282, 0.007683684583753347, 0.05519038811326027, -0.008350362069904804, -0.047846000641584396, 0.05793442577123642, -0.03946578875184059, 0.007139848545193672, -0.039855148643255234, -0.03588433936238289, -0.004813990090042353, 0.046159520745277405, 0.011300910264253616, -0.05619146674871445, -0.01899549551308155, 0.014350797049701214, -0.0687260702252388, -0.02367446944117546, -0.0021553768310695887, 0.06322632730007172, -0.010740978643298149, -0.06293462961912155, -0.048472970724105835, -0.02216300740838051, -0.05567481368780136, -0.03815479949116707, -0.02320190705358982, -0.017287645488977432, -0.0001562222169013694, 0.012092082761228085, 0.04545313119888306, -0.015618414618074894, -0.056093428283929825, 0.005817911587655544, -0.0087631456553936, -0.037953346967697144, -0.0854373425245285, 0.062194131314754486, -0.0524083711206913, -0.06589584052562714, 0.026023050770163536, -0.0008030731696635485, 0.058146510273218155, -0.003292506793513894, -0.013172443956136703, -0.0014260895550251007, -0.03933994472026825, -0.02387458086013794, -0.00942649133503437, -0.02335997298359871, 0.042937446385622025, -0.0149457398802042, -0.015564142726361752, 0.006204991601407528, 0.00976447481662035, -0.02896244451403618, 0.011721202172338963, -0.0344979465007782, -0.014322664588689804, -0.03325115144252777, -0.009426980279386044, 0.03217773512005806, -0.032653383910655975, -0.03955450281500816, -0.014878847636282444, 0.03737123683094978, -0.0380166694521904, 0.030520185828208923, -0.008833752013742924, -0.013371895998716354, 0.037320010364055634, -0.009728094562888145, -0.008988233283162117, -0.0070283617824316025, -0.022516412660479546, 0.009598813951015472, 0.07006248831748962, -0.04158836975693703, -0.0522843562066555, -0.014624645933508873, -0.017066286876797676, 0.023702429607510567, -0.022400889545679092, -0.035600170493125916, 0.0047519938088953495, 0.047761037945747375, 0.040372662246227264, -0.02785150147974491, -0.026814106851816177, -0.0027759000658988953, 0.02671591192483902, 0.014480085112154484, -0.036359142512083054, -0.022102894261479378, -0.07138129323720932, -0.009456231258809566, 0.04220344126224518, 0.007410137448459864, -0.00555887958034873, -0.01280465442687273, -0.022372787818312645, 0.06661923229694366, -0.0170952957123518, 0.030402416363358498, 0.03573466092348099, -0.06524806469678879, 0.02386981062591076, -0.014229973778128624, -0.011880511417984962, 0.038885798305273056, -0.050056759268045425, 0.024625370278954506, 0.02050776407122612, -0.00020349603437352926, 0.0052607497200369835, -0.024141401052474976, -0.04996185004711151, 0.009794468991458416, 0.03601287305355072, -0.037279386073350906, 0.023682938888669014, 0.016185926273465157, -0.03659609705209732, 0.014578625559806824, 0.029077641665935516, 0.061514127999544144, -0.005612839478999376, 0.011958236806094646, -0.04015441611409187, -0.027550196275115013, -0.04710390791296959, -0.008810732513666153, -0.053401682525873184, -0.003974486608058214, 0.04670057073235512, 0.01260723639279604, -0.006414227187633514, 0.009589610621333122, -0.010768811218440533, -0.0033401057589799166, -0.035216324031353, -0.03890474885702133, -0.0020774442236870527, -0.00010494970774743706, 0.052188001573085785, 0.010420228354632854, 0.009118501096963882, 0.0037600768264383078, 0.025679243728518486, -0.0028586224652826786, -0.03938249126076698, -0.024226270616054535, -0.052812427282333374, -0.005377300549298525, 0.038974471390247345, -0.017829537391662598, 0.0215511042624712, -0.002469112165272236, -0.015471349470317364, 0.03894355148077011, -0.026961063966155052, -0.08164992928504944, 0.008202885277569294, 0.021694574505090714, 0.02254314534366131, 0.027712836861610413, 0.0040523214265704155, 0.03877726569771767, 0.004127888008952141, -0.05081614851951599, 0.02102237567305565, 0.030666416510939598, -0.08492383360862732, 0.0025521269999444485, -0.055509064346551895, 0.0054756514728069305, 0.021782590076327324, 0.03457855060696602, 0.02354184165596962, 0.022959448397159576, -0.057166386395692825, -0.04692571237683296, 0.07202843576669693, -0.006929733324795961, 0.011035040952265263, 0.00474534509703517, 0.030408229678869247, -0.028745874762535095, 0.039637722074985504, -0.005063850898295641, 0.0014853377360850573, 0.04265908896923065, -0.03983807563781738, 0.07293647527694702, -0.03072104975581169, -0.04792651906609535, -0.05489592254161835, -0.039254672825336456, -0.07080937922000885, -0.053088922053575516, 0.01720719411969185, 0.03621270880103111, 0.03783198073506355, 0.05627470090985298, 0.05240384861826897, -0.02055792696774006, 0.02413181960582733, -0.029173078015446663, -0.03159086033701897, -0.02587077207863331, -0.029259484261274338, -0.038486965000629425, -0.004441780503839254, 0.006324847228825092, 0.02505611628293991, 0.0037237387150526047, 0.06550310552120209, -0.04000212997198105, 0.047212865203619, 0.027896547690033913, -0.03938227891921997, 0.025343989953398705, 0.018967049196362495, 0.020791245624423027, -0.004635210614651442, 0.008476554416120052, 0.05836972966790199, -0.033999036997556686, 0.02811644971370697, 0.0847795307636261, -0.02240413799881935, -0.0367213599383831, -0.0427992157638073, 0.0012015140382573009, 0.03271534666419029, 0.029007060453295708, 0.04911646619439125, -0.02039945125579834, 0.06530199199914932, 0.036429814994335175, 0.05514206737279892, -0.03608884662389755, 0.04317200183868408, -0.021385686472058296, -0.0530676543712616, -0.03285786509513855, 0.021161744371056557, 0.03646937385201454, 0.007791297044605017, 0.03664484992623329, 0.028921619057655334, -0.037722378969192505, -0.0019787487108260393, 0.019038556143641472, 0.04647134989500046, -0.008534368127584457, -0.07237867265939713, -0.02742404118180275, -0.013455284759402275, 0.0457766093313694, -0.04725039377808571, -0.042658668011426926, -0.002202341565862298, -0.012727104127407074, 0.015793461352586746, 0.028177862986922264, 0.017553577199578285, 0.05773691087961197, 0.03103344701230526, 0.07836227118968964, 0.0006948635564185679, -0.052604470402002335, 0.018415072932839394, -0.03054255060851574, -0.005303335841745138, 0.03350165858864784, 0.020438596606254578, 0.026374297216534615, 0.005681958515197039, 0.04021798446774483, -0.00699696084484458, 0.05731842666864395, -0.02993769571185112, 0.005487475544214249, -0.019786447286605835, -0.07059814780950546, 0.003125079907476902, -0.016733594238758087, 0.014852277934551239, -0.0035282373428344727, -0.019942045211791992, 0.022418616339564323, 0.009310020133852959, 0.04110444337129593, 0.0014643078902736306, -0.02207515388727188, -0.00897210743278265, -0.03327469900250435, 0.005377241875976324, -0.08861963450908661, -0.011382129043340683, 0.008409418165683746, 0.014399695210158825, -0.05286358296871185, -0.017883891239762306, 0.01548030972480774, -0.06368307024240494, -0.04277418553829193, 0.017433349043130875, -0.04036221280694008, 0.04174273833632469, 0.04828427731990814, 0.026772920042276382, -0.031006725504994392, -0.06189224123954773, 0.044616732746362686, 0.021753592416644096, -0.01035325787961483, -0.016298580914735794, -0.07017024606466293, -0.05211111530661583, 0.0166772473603487, -0.08156658709049225, 0.03257249668240547, 0.03406743332743645, -0.005933869164437056, 0.0017361321952193975, 0.05017866566777229, -0.05598742142319679, 0.04510189965367317, -0.023612553253769875, -0.04597407951951027, 0.03535979241132736, -0.08885949105024338, -0.018680542707443237, -0.06540614366531372, -0.06404735893011093, 0.008160850033164024, 0.0825369656085968, 0.02735264226794243, 0.034664519131183624, -0.06773140281438828, -0.010805681347846985, 0.023375529795885086, -0.008102420717477798, 0.0510837659239769, 0.014166334643959999, 0.05543513223528862, -0.03137723729014397, 0.0271125640720129, -0.006479851435869932, 0.09048829227685928, 0.01189205702394247, -0.0723649114370346, -0.014630500227212906, -0.015109771862626076, 0.05275922268629074, -0.0523054338991642, -0.013463927432894707, 0.015156990848481655, -0.05389656499028206, -0.10023391991853714, 0.026947449892759323, -0.00428920378908515, -0.0450042262673378, -0.02285415679216385, 0.011800410225987434, -0.032035309821367264, 0.030867692083120346, -0.025028033182024956, -0.060624461621046066, 0.01810700260102749, -0.04454043507575989, 0.03099800832569599, -0.025076434016227722, 0.035181038081645966, -0.03548301011323929, 0.003369399346411228, 0.011292614974081516, 0.02213439904153347, 0.0008609352516941726, 0.02081361599266529, -0.03803468868136406, -0.025291308760643005, -0.03287604823708534, -0.008356085978448391, 0.039432965219020844, 0.008804785087704659, -0.015104904770851135, -0.06100934371352196, -0.03577149659395218, 0.055999401956796646, 0.02656468376517296, -0.04652843996882439, 0.040814924985170364, 0.06390315294265747, 0.015613771975040436, -0.002132172230631113, -0.028119148686528206, -0.04881807416677475, 0.015085720457136631, -0.05388820171356201, 0.04576953873038292, 0.005607925355434418, -0.05564203858375549, -0.01759256049990654, 0.002043620916083455, -0.026729699224233627, 0.05474511533975601, -0.027925631031394005, 0.07282024621963501, 0.009076843038201332, -0.04042411968111992, -0.04239274933934212, 0.0044622644782066345, 0.040956899523735046, 0.03142675384879112, 0.057977449148893356, 0.021162165328860283, -0.04583924636244774, 0.009799779392778873, -0.006989642512053251, -0.06899729371070862, 0.03144274279475212, -0.004802761133760214, 0.006315052509307861, 0.030335212126374245, 0.013712655752897263, 0.0018648157129064202, 0.07261113822460175, 0.03759138658642769, -0.032558929175138474, -0.031252581626176834, 0.018794266507029533, -0.05762522667646408, 0.04130256548523903, 0.04111675173044205, 0.0005687390803359449, 0.09308044612407684, -0.042149901390075684, 0.027304502204060555, 0.02104441076517105, -0.02823210507631302, -0.03037199191749096, -0.004060998558998108, 0.07118070125579834, -0.06543122231960297, 0.0037840530276298523, -0.014246204867959023, 0.008021209388971329, 0.02575382962822914, -0.026987558230757713, 0.03720131516456604, 0.02530772052705288, -0.02544345334172249, -0.016739647835493088, 0.012729079462587833, -0.002089823130518198, 0.03599655628204346, -0.03325316309928894, -0.0308510884642601, -0.053746145218610764, -0.016613338142633438, -0.025677867233753204, -0.0499049611389637, 0.03884373977780342, -0.019669637084007263, -0.05961283668875694, 0.03664407134056091, -0.04742269963026047, -0.026806853711605072, 0.0065023573115468025, -0.033218853175640106, 0.008222708478569984, -0.03509381785988808, 0.033311475068330765, -0.008276727981865406, -0.01759033091366291, 0.03304643556475639, -0.0776301845908165, -0.05914665758609772, 0.01111989002674818, 0.023100050166249275, 0.0628553256392479, 0.03976472094655037, 0.03388111665844917, 0.014335505664348602, -0.04758092388510704, -0.061170414090156555, 0.009523659944534302, 0.025952911004424095, -0.03641195967793465, -0.0059734974056482315, 0.005277288146317005, 0.002655129646882415, 0.01914450339972973, 0.03203817829489708, 0.015669943764805794, -0.08575771749019623, 0.053288087248802185, 0.00839960016310215, 0.055227529257535934, -0.017778869718313217, 0.004304563160985708, -0.006237809546291828, 0.0026180464774370193, 0.06001177430152893, 0.030404910445213318, 0.03754901885986328, -0.008924105204641819, -0.01683882251381874, 0.032051946967840195, -0.023598765954375267, 0.026692483574151993, 0.03756679594516754, -0.05596639961004257, -0.04522323235869408, -0.019399957731366158, -0.08544189482927322, 0.011650707572698593, 0.06828354299068451, 0.027421172708272934, 0.000403477402869612, -0.01309569925069809, -0.05085815116763115, 0.003246231470257044, 0.03573644533753395, -0.051163945347070694, -0.027338454499840736, 0.07330265641212463, -0.018100444227457047, 0.0031824642792344093, 0.0267967339605093, 0.023935027420520782, -0.0021020686253905296, 0.01659591868519783, -0.07328546792268753, -0.045326512306928635, 0.01307431235909462, 0.021067766472697258, -0.006562226917594671, 0.01698235236108303, -0.023276573047041893, -0.03790590912103653, -0.04801023751497269, -0.02697775512933731, -0.00885950680822134, -0.01048053428530693, 0.03858102113008499, 0.041714128106832504, -0.05070605129003525, 0.010867862962186337, -0.01233159750699997, -0.0374433808028698, -0.045391254127025604, -0.027896685525774956, 0.015247555449604988, -0.04157420992851257, 0.0213463231921196, 0.04115571454167366, 0.001673423103056848, 0.04839549586176872, 0.0026285015046596527, -0.004323862958699465, -0.012312987819314003, -0.02261248230934143, 0.02774142101407051, -0.042589183896780014, 0.018594179302453995, 0.021330662071704865, 0.028192542493343353, -0.003500959137454629, 0.013964853249490261, 0.011838632635772228, -0.015038100071251392, -0.01742234081029892, 0.044050417840480804, 0.041886646300554276, -0.015313470736145973, 0.02145840972661972, -0.012837542220950127, 0.0010617350926622748, 0.007761371321976185, -0.06850656121969223, -0.021778326481580734, 0.024211321026086807, 0.0645320862531662, -0.04903356358408928, -0.022273998707532883, -0.00593520188704133, 0.08491566777229309, -0.0894603282213211, 0.012232528068125248, 0.028991574421525, -0.0288296677172184, 0.005348290782421827, 0.04245240241289139, -0.052170928567647934, -0.0077109732665121555, 0.007527293637394905, -0.04835844039916992, -0.040234219282865524, -0.011151052080094814, -0.05739561468362808, 0.06114223226904869, -0.016510935500264168, -0.011826254427433014, 0.006250969134271145, 0.0563945546746254, 0.034840092062950134, 0.048601917922496796, 0.10180996358394623, 0.03308861702680588, 0.02060367725789547, -0.07721355557441711, -0.025821570307016373, 0.002515817293897271, -0.01749373972415924, -0.027026545256376266, -0.017144983634352684, 0.007175864186137915, 0.005045087076723576, 0.05035928636789322, 0.03315329924225807, 0.016995660960674286, 0.0382906049489975, 0.03956500440835953, -0.016527676954865456, -0.03003980591893196, -0.04046056047081947, -0.0787971094250679, 0.04484669864177704, 0.03580820932984352, 0.00875821616500616, -0.0568610318005085, 0.01727879047393799, 0.017073599621653557, -0.014428175054490566, -0.005758926272392273, -0.008874909952282906, -0.017063194885849953, -0.005727375857532024, 0.03227577358484268, -0.033007096499204636, -0.044218502938747406, 0.0057387142442166805, 0.02503148466348648, 0.004380715079605579, -0.0958845317363739, 0.03940277546644211, 0.014446769841015339, 0.0759797915816307, -0.03534504026174545, 0.03286787122488022, 0.001858238596469164, -0.032646600157022476, 0.03323368355631828, -0.00424158526584506, 0.024875614792108536, 0.014867544174194336, 0.014504419639706612, -0.06010567396879196, 0.049306318163871765, -0.016278807073831558, 0.03190705180168152, -0.00897155236452818, 0.015443502925336361, -0.016384486109018326, -0.04529030621051788, 0.07398349791765213, -0.003359199268743396, -0.014449356123805046, -0.002479890361428261, 0.03945517912507057, -0.02012178860604763, 0.003967619501054287, -0.00778222968801856, -0.021043874323368073, 0.02568250708281994, 0.026654260233044624, -0.042317941784858704, 0.08301598578691483, 0.053535930812358856, 0.03198559954762459, 0.01639660634100437, -0.008233720436692238, -0.010417038574814796, -0.011327778920531273, 0.023249119520187378, 0.018203921616077423, -0.020535709336400032, -0.054838795214891434, 0.024347171187400818, -0.005549853201955557, 0.0021787213627249002, 0.03151892125606537, -0.007857030257582664, 0.042797986418008804, 0.027204828336834908, -0.0035003863740712404, -0.0010550339939072728, -0.025744503363966942, -0.008972167037427425, 0.02459259331226349, -0.039970867335796356, 0.042365122586488724, -0.001263486105017364, 0.027683909982442856, -0.030754437670111656, 0.0012260839575901628, -0.02039630152285099, 0.014022381976246834, 0.03841067850589752, -0.04505466669797897, -0.039771489799022675, -0.007033594883978367, -0.004879125859588385, 0.032578244805336, -0.03684186562895775, -0.02089582197368145, 0.019841192290186882, -0.025347629562020302, 0.028285201638936996, 0.0183686725795269, 0.0438765287399292, -0.020071500912308693, -0.023429598659276962, -0.03916095569729805, -0.047377731651067734, 0.019650300964713097, -0.013334524817764759, -0.013894027099013329, -0.04730711132287979, -0.0424443818628788, -0.012578046880662441, 0.020572515204548836, 0.03749781847000122, -0.0022000251337885857, -0.026012172922492027, 0.02394464984536171], 'id': 'f8953181-73ad-49fd-b178-59a68740916c', 'metadata': {'author': '', 'creationDate': \"D:20250310171528Z00'00'\", 'creator': 'Pages', 'file_path': \"Vorameth'sCV.pdf\", 'format': 'PDF 1.3', 'keywords': '', 'modDate': \"D:20250310171528Z00'00'\", 'page': 0, 'producer': 'macOS Version 15.3.1 (Build 24D70) Quartz PDFContext', 'source': \"Vorameth'sCV.pdf\", 'subject': '', 'title': \"Vorameth'sCV\", 'total_pages': 2, 'trapped': ''}, '_distance': 0.41696691513061523}, page_content='thousand communication trafﬁcs over the network. \\nLead the implementation of website gateway projects which help to prevent any malicious request from \\nWFH endpoints to bad actors  \\nExecuted threat hunting using the threat intelligence to proactively detecting for any malicious artifacts \\ninside the endpoints or servers \\nCoordinated and Planned with colleagues for building and creating the threat news platform in order to \\ndetect any incident in the Internet that may relate to organization  \\nAnalyzing the data from the phishing email in order to extract any pattern that might be useful to \\nadjusting the SIEM rule for better detection on malicious activities')]"
      ]
     },
     "execution_count": 18,
     "metadata": {},
     "output_type": "execute_result"
    }
   ],
   "source": [
    "retriever_lance.get_relevant_documents(\"Vorameth\")"
   ]
  },
  {
   "cell_type": "code",
   "execution_count": 19,
   "metadata": {},
   "outputs": [],
   "source": [
    "retriever_chroma = chroma_vectordb.as_retriever()"
   ]
  },
  {
   "cell_type": "code",
   "execution_count": 20,
   "metadata": {},
   "outputs": [
    {
     "data": {
      "text/plain": [
       "[Document(id='ed2ef816-3121-4180-a29e-d9371822a0e0', metadata={'author': '', 'creationDate': \"D:20250310171528Z00'00'\", 'creator': 'Pages', 'file_path': \"Vorameth'sCV.pdf\", 'format': 'PDF 1.3', 'keywords': '', 'modDate': \"D:20250310171528Z00'00'\", 'page': 0, 'producer': 'macOS Version 15.3.1 (Build 24D70) Quartz PDFContext', 'source': \"Vorameth'sCV.pdf\", 'subject': '', 'title': \"Vorameth'sCV\", 'total_pages': 2, 'trapped': ''}, page_content='VORAMETH REANTONGCOME’s CV \\nEducation \\nBachelor of Science in Information and Communication Technology, Mahidol University - Graduated \\n(2019) \\n[Current Study]  - Master Degree in Data Science and Artiﬁcial Intelligence, Asian Institute of \\nTechnology, Thailand \\nExperience \\nAugust 2024 - Now \\n‣ Persuading Master Degree in Data Science and Artiﬁcial Intelligence, Asian Institute of Technology, \\nThailand \\n• Project on Computer Programming in Data Science \\n• Loan Fraud Prediction - The project utilize the Kaggle datasets for training the model. The output is the \\nclassiﬁcation problems on whether the customer will probably cause loan fraud or not.  \\n• Project on Machine Learning'),\n",
       " Document(id='d369ef62-af95-4494-b7a8-acb370243967', metadata={'author': '', 'creationDate': \"D:20250310171528Z00'00'\", 'creator': 'Pages', 'file_path': \"Vorameth'sCV.pdf\", 'format': 'PDF 1.3', 'keywords': '', 'modDate': \"D:20250310171528Z00'00'\", 'page': 0, 'producer': 'macOS Version 15.3.1 (Build 24D70) Quartz PDFContext', 'source': \"Vorameth'sCV.pdf\", 'subject': '', 'title': \"Vorameth'sCV\", 'total_pages': 2, 'trapped': ''}, page_content='VORAMETH REANTONGCOME’s CV \\nEducation \\nBachelor of Science in Information and Communication Technology, Mahidol University - Graduated \\n(2019) \\n[Current Study]  - Master Degree in Data Science and Artiﬁcial Intelligence, Asian Institute of \\nTechnology, Thailand \\nExperience \\nAugust 2024 - Now \\n‣ Persuading Master Degree in Data Science and Artiﬁcial Intelligence, Asian Institute of Technology, \\nThailand \\n• Project on Computer Programming in Data Science \\n• Loan Fraud Prediction - The project utilize the Kaggle datasets for training the model. The output is the \\nclassiﬁcation problems on whether the customer will probably cause loan fraud or not.  \\n• Project on Machine Learning'),\n",
       " Document(id='2a260e5a-eea6-4509-a28d-f6a3de56efc1', metadata={'author': '', 'creationDate': \"D:20250310171528Z00'00'\", 'creator': 'Pages', 'file_path': \"Vorameth'sCV.pdf\", 'format': 'PDF 1.3', 'keywords': '', 'modDate': \"D:20250310171528Z00'00'\", 'page': 0, 'producer': 'macOS Version 15.3.1 (Build 24D70) Quartz PDFContext', 'source': \"Vorameth'sCV.pdf\", 'subject': '', 'title': \"Vorameth'sCV\", 'total_pages': 2, 'trapped': ''}, page_content='VORAMETH REANTONGCOME’s CV \\nEducation \\nBachelor of Science in Information and Communication Technology, Mahidol University - Graduated \\n(2019) \\n[Current Study]  - Master Degree in Data Science and Artiﬁcial Intelligence, Asian Institute of \\nTechnology, Thailand \\nExperience \\nAugust 2024 - Now \\n‣ Persuading Master Degree in Data Science and Artiﬁcial Intelligence, Asian Institute of Technology, \\nThailand \\n• Project on Computer Programming in Data Science \\n• Loan Fraud Prediction - The project utilize the Kaggle datasets for training the model. The output is the \\nclassiﬁcation problems on whether the customer will probably cause loan fraud or not.  \\n• Project on Machine Learning'),\n",
       " Document(id='3def4ad8-7cb7-465e-aa0f-277bda711ee5', metadata={'author': '', 'creationDate': \"D:20250310171528Z00'00'\", 'creator': 'Pages', 'file_path': \"Vorameth'sCV.pdf\", 'format': 'PDF 1.3', 'keywords': '', 'modDate': \"D:20250310171528Z00'00'\", 'page': 0, 'producer': 'macOS Version 15.3.1 (Build 24D70) Quartz PDFContext', 'source': \"Vorameth'sCV.pdf\", 'subject': '', 'title': \"Vorameth'sCV\", 'total_pages': 2, 'trapped': ''}, page_content='adjusting the SIEM rule for better detection on malicious activities  \\nMaintained security products for effectively functioned  \\n• Penetration Tester \\nTel: +66 (0) 86-002-1958  \\nGithub : https://github.com/MrWhiteC  \\nEmail: woramethr@gmail.com \\nAddress: 59/30, Alley 5, Po.Pasuk Village, \\nBaromrajjachonnani Road, Sala Thammasop Sub-')]"
      ]
     },
     "execution_count": 20,
     "metadata": {},
     "output_type": "execute_result"
    }
   ],
   "source": [
    "retriever_chroma.get_relevant_documents(\"Vorameth\")"
   ]
  },
  {
   "cell_type": "code",
   "execution_count": 21,
   "metadata": {},
   "outputs": [],
   "source": [
    "#ready to use\n",
    "retriever = vectordb.as_retriever()"
   ]
  },
  {
   "cell_type": "code",
   "execution_count": 22,
   "metadata": {},
   "outputs": [
    {
     "data": {
      "text/plain": [
       "[Document(metadata={'source': \"Vorameth'sCV.pdf\", 'file_path': \"Vorameth'sCV.pdf\", 'page': 0, 'total_pages': 2, 'format': 'PDF 1.3', 'title': \"Vorameth'sCV\", 'author': '', 'subject': '', 'keywords': '', 'creator': 'Pages', 'producer': 'macOS Version 15.3.1 (Build 24D70) Quartz PDFContext', 'creationDate': \"D:20250310171528Z00'00'\", 'modDate': \"D:20250310171528Z00'00'\", 'trapped': ''}, page_content='thousand communication trafﬁcs over the network. \\nLead the implementation of website gateway projects which help to prevent any malicious request from \\nWFH endpoints to bad actors  \\nExecuted threat hunting using the threat intelligence to proactively detecting for any malicious artifacts \\ninside the endpoints or servers \\nCoordinated and Planned with colleagues for building and creating the threat news platform in order to \\ndetect any incident in the Internet that may relate to organization  \\nAnalyzing the data from the phishing email in order to extract any pattern that might be useful to \\nadjusting the SIEM rule for better detection on malicious activities'),\n",
       " Document(metadata={'source': \"Vorameth'sCV.pdf\", 'file_path': \"Vorameth'sCV.pdf\", 'page': 1, 'total_pages': 2, 'format': 'PDF 1.3', 'title': \"Vorameth'sCV\", 'author': '', 'subject': '', 'keywords': '', 'creator': 'Pages', 'producer': 'macOS Version 15.3.1 (Build 24D70) Quartz PDFContext', 'creationDate': \"D:20250310171528Z00'00'\", 'modDate': \"D:20250310171528Z00'00'\", 'trapped': ''}, page_content='Management and Security Knowledge & Experience \\nProject During Undergraduate:  \\n• Senior Project about A Recommendation System for Information Security Standard based on \\nOrganization Context \\n• Database Design comply with Hotel domain \\n• Movie Searching with Youtube Google and Twitter API using PHP as backend and HTML as frontend\\n• Hotel System in C Programming Language'),\n",
       " Document(metadata={'source': \"Vorameth'sCV.pdf\", 'file_path': \"Vorameth'sCV.pdf\", 'page': 0, 'total_pages': 2, 'format': 'PDF 1.3', 'title': \"Vorameth'sCV\", 'author': '', 'subject': '', 'keywords': '', 'creator': 'Pages', 'producer': 'macOS Version 15.3.1 (Build 24D70) Quartz PDFContext', 'creationDate': \"D:20250310171528Z00'00'\", 'modDate': \"D:20250310171528Z00'00'\", 'trapped': ''}, page_content='VORAMETH REANTONGCOME’s CV \\nEducation \\nBachelor of Science in Information and Communication Technology, Mahidol University - Graduated \\n(2019) \\n[Current Study]  - Master Degree in Data Science and Artiﬁcial Intelligence, Asian Institute of \\nTechnology, Thailand \\nExperience \\nAugust 2024 - Now \\n‣ Persuading Master Degree in Data Science and Artiﬁcial Intelligence, Asian Institute of Technology, \\nThailand \\n• Project on Computer Programming in Data Science \\n• Loan Fraud Prediction - The project utilize the Kaggle datasets for training the model. The output is the \\nclassiﬁcation problems on whether the customer will probably cause loan fraud or not.  \\n• Project on Machine Learning'),\n",
       " Document(metadata={'source': \"Vorameth'sCV.pdf\", 'file_path': \"Vorameth'sCV.pdf\", 'page': 1, 'total_pages': 2, 'format': 'PDF 1.3', 'title': \"Vorameth'sCV\", 'author': '', 'subject': '', 'keywords': '', 'creator': 'Pages', 'producer': 'macOS Version 15.3.1 (Build 24D70) Quartz PDFContext', 'creationDate': \"D:20250310171528Z00'00'\", 'modDate': \"D:20250310171528Z00'00'\", 'trapped': ''}, page_content='• Exchanging cultural experience with other members in the lab \\nJune — August 2018 \\n‣ Internship, Bremen University; Bremen, Germany \\n• Using Tensor Flow for Prediction Users Behaviour \\n• Implementing Android application through Android Studio with Network Parameters \\n• Clearing and preparing data with Pandas library in Python \\n• Cultural and Knowledge Exchanging \\nJune — July 2016  \\n‣ Representative Participant in Asian Undergraduate Summit, National University Singapore, Singapore \\n- June to July 2016 \\n• Improving design and creative thinking skill through group discussion \\n• Being aware of disruptive changes from technology over businesses \\n• Acknowledging upcoming trends of business')]"
      ]
     },
     "execution_count": 22,
     "metadata": {},
     "output_type": "execute_result"
    }
   ],
   "source": [
    "retriever.get_relevant_documents(\"What is Dependency Parsing\")"
   ]
  },
  {
   "cell_type": "code",
   "execution_count": 23,
   "metadata": {},
   "outputs": [
    {
     "data": {
      "text/plain": [
       "[Document(metadata={'source': 'https://www.researchgate.net/profile/Vorameth-Reantongcome'}, page_content='error code: 1020'),\n",
       " Document(metadata={'source': \"Vorameth'sCV.pdf\", 'file_path': \"Vorameth'sCV.pdf\", 'page': 1, 'total_pages': 2, 'format': 'PDF 1.3', 'title': \"Vorameth'sCV\", 'author': '', 'subject': '', 'keywords': '', 'creator': 'Pages', 'producer': 'macOS Version 15.3.1 (Build 24D70) Quartz PDFContext', 'creationDate': \"D:20250310171528Z00'00'\", 'modDate': \"D:20250310171528Z00'00'\", 'trapped': ''}, page_content='• Exchanging cultural experience with other members in the lab \\nJune — August 2018 \\n‣ Internship, Bremen University; Bremen, Germany \\n• Using Tensor Flow for Prediction Users Behaviour \\n• Implementing Android application through Android Studio with Network Parameters \\n• Clearing and preparing data with Pandas library in Python \\n• Cultural and Knowledge Exchanging \\nJune — July 2016  \\n‣ Representative Participant in Asian Undergraduate Summit, National University Singapore, Singapore \\n- June to July 2016 \\n• Improving design and creative thinking skill through group discussion \\n• Being aware of disruptive changes from technology over businesses \\n• Acknowledging upcoming trends of business'),\n",
       " Document(metadata={'source': \"Vorameth'sCV.pdf\", 'file_path': \"Vorameth'sCV.pdf\", 'page': 1, 'total_pages': 2, 'format': 'PDF 1.3', 'title': \"Vorameth'sCV\", 'author': '', 'subject': '', 'keywords': '', 'creator': 'Pages', 'producer': 'macOS Version 15.3.1 (Build 24D70) Quartz PDFContext', 'creationDate': \"D:20250310171528Z00'00'\", 'modDate': \"D:20250310171528Z00'00'\", 'trapped': ''}, page_content='Assessed the website applications whether they contain any vulnerabilities which may lead to initial \\nattack process  \\n• Others \\nBeing a representative joining TB-CERT CyberCombat Event which was the competition about security \\nareas (CTF) \\nJune — August 2019 \\n‣ Internship, Nara Institute of Science and Technology; Nara, Japan \\n• Implementing Blockchain concept to secure multi-tenants cloud computing \\n• Using Trufﬂe framework to integrating the smart contract for ﬂowing the transaction on cloud \\n• Proving the concept with simulated tenants and virtual machines as the smart contract \\n• Exchanging cultural experience with other members in the lab \\nJune — August 2018'),\n",
       " Document(metadata={'source': \"Vorameth'sCV.pdf\", 'file_path': \"Vorameth'sCV.pdf\", 'page': 0, 'total_pages': 2, 'format': 'PDF 1.3', 'title': \"Vorameth'sCV\", 'author': '', 'subject': '', 'keywords': '', 'creator': 'Pages', 'producer': 'macOS Version 15.3.1 (Build 24D70) Quartz PDFContext', 'creationDate': \"D:20250310171528Z00'00'\", 'modDate': \"D:20250310171528Z00'00'\", 'trapped': ''}, page_content='Provided tools and guidelines for securely erasing the media to Help Desk for recycling purpose \\nCoordinated and Planned with colleagues to implement a tool for snifﬁng the trafﬁcs in order to feed and \\nutilize them into storing or processing machines \\nCoordinated and Planned with colleagues to implement a tool for processing the trafﬁc using off the \\nshelf product with machine learning as a main processor. Not only implementing, but tuning is also \\nperformed due to the false alert events. This helps to detect any malicious behavior hidden under a \\nthousand communication trafﬁcs over the network.')]"
      ]
     },
     "execution_count": 23,
     "metadata": {},
     "output_type": "execute_result"
    }
   ],
   "source": [
    "retriever.get_relevant_documents(\"What is Transformers\")"
   ]
  },
  {
   "attachments": {},
   "cell_type": "markdown",
   "metadata": {},
   "source": [
    "## 3. Memory\n",
    "\n",
    "One of the core utility classes underpinning most (if not all) memory modules is the ChatMessageHistory class. This is a super lightweight wrapper that provides convenience methods for saving HumanMessages, AIMessages, and then fetching them all.\n",
    "\n",
    "You may want to use this class directly if you are managing memory outside of a chain.\n"
   ]
  },
  {
   "cell_type": "code",
   "execution_count": 24,
   "metadata": {},
   "outputs": [
    {
     "data": {
      "text/plain": [
       "InMemoryChatMessageHistory(messages=[])"
      ]
     },
     "execution_count": 24,
     "metadata": {},
     "output_type": "execute_result"
    }
   ],
   "source": [
    "from langchain.memory import ChatMessageHistory\n",
    "\n",
    "history = ChatMessageHistory()\n",
    "history"
   ]
  },
  {
   "cell_type": "code",
   "execution_count": 25,
   "metadata": {},
   "outputs": [],
   "source": [
    "history.add_user_message('hi')\n",
    "history.add_ai_message('Whats up?')\n",
    "history.add_user_message('How are you')\n",
    "history.add_ai_message('I\\'m quite good. How about you?')"
   ]
  },
  {
   "cell_type": "code",
   "execution_count": 26,
   "metadata": {},
   "outputs": [
    {
     "data": {
      "text/plain": [
       "InMemoryChatMessageHistory(messages=[HumanMessage(content='hi', additional_kwargs={}, response_metadata={}), AIMessage(content='Whats up?', additional_kwargs={}, response_metadata={}), HumanMessage(content='How are you', additional_kwargs={}, response_metadata={}), AIMessage(content=\"I'm quite good. How about you?\", additional_kwargs={}, response_metadata={})])"
      ]
     },
     "execution_count": 26,
     "metadata": {},
     "output_type": "execute_result"
    }
   ],
   "source": [
    "history"
   ]
  },
  {
   "attachments": {},
   "cell_type": "markdown",
   "metadata": {},
   "source": [
    "### 3.1 Memory types\n",
    "\n",
    "There are many different types of memory. Each has their own parameters, their own return types, and is useful in different scenarios. \n",
    "- Converstaion Buffer\n",
    "- Converstaion Buffer Window"
   ]
  },
  {
   "attachments": {},
   "cell_type": "markdown",
   "metadata": {},
   "source": [
    "What variables get returned from memory\n",
    "\n",
    "Before going into the chain, various variables are read from memory. These have specific names which need to align with the variables the chain expects. You can see what these variables are by calling memory.load_memory_variables({}). Note that the empty dictionary that we pass in is just a placeholder for real variables. If the memory type you are using is dependent upon the input variables, you may need to pass some in."
   ]
  },
  {
   "attachments": {},
   "cell_type": "markdown",
   "metadata": {},
   "source": [
    "In this case, you can see that load_memory_variables returns a single key, history. This means that your chain (and likely your prompt) should expect an input named history. You can usually control this variable through parameters on the memory class. For example, if you want the memory variables to be returned in the key chat_history you can do:"
   ]
  },
  {
   "attachments": {},
   "cell_type": "markdown",
   "metadata": {},
   "source": [
    "#### Converstaion Buffer\n",
    "This memory allows for storing messages and then extracts the messages in a variable."
   ]
  },
  {
   "cell_type": "code",
   "execution_count": 27,
   "metadata": {},
   "outputs": [
    {
     "name": "stderr",
     "output_type": "stream",
     "text": [
      "/var/folders/xc/lhkrvm_n60b5bwhxvql0x44c0000gn/T/ipykernel_93317/1450517278.py:3: LangChainDeprecationWarning: Please see the migration guide at: https://python.langchain.com/docs/versions/migrating_memory/\n",
      "  memory = ConversationBufferMemory()\n"
     ]
    },
    {
     "data": {
      "text/plain": [
       "{'history': \"Human: hi\\nAI: What's up?\\nHuman: How are you?\\nAI: I'm quite good. How about you?\"}"
      ]
     },
     "execution_count": 27,
     "metadata": {},
     "output_type": "execute_result"
    }
   ],
   "source": [
    "from langchain.memory import ConversationBufferMemory\n",
    "\n",
    "memory = ConversationBufferMemory()\n",
    "memory.save_context({'input':'hi'}, {'output':'What\\'s up?'})\n",
    "memory.save_context({\"input\":'How are you?'},{'output': 'I\\'m quite good. How about you?'})\n",
    "memory.load_memory_variables({})"
   ]
  },
  {
   "cell_type": "code",
   "execution_count": 28,
   "metadata": {},
   "outputs": [
    {
     "data": {
      "text/plain": [
       "{'history': [HumanMessage(content='hi', additional_kwargs={}, response_metadata={}),\n",
       "  AIMessage(content=\"What's up?\", additional_kwargs={}, response_metadata={}),\n",
       "  HumanMessage(content='How are you?', additional_kwargs={}, response_metadata={}),\n",
       "  AIMessage(content=\"I'm quite good. How about you?\", additional_kwargs={}, response_metadata={})]}"
      ]
     },
     "execution_count": 28,
     "metadata": {},
     "output_type": "execute_result"
    }
   ],
   "source": [
    "from langchain.memory import ConversationBufferMemory\n",
    "\n",
    "memory = ConversationBufferMemory(return_messages = True)\n",
    "memory.save_context({'input':'hi'}, {'output':'What\\'s up?'})\n",
    "memory.save_context({\"input\":'How are you?'},{'output': 'I\\'m quite good. How about you?'})\n",
    "memory.load_memory_variables({})"
   ]
  },
  {
   "attachments": {},
   "cell_type": "markdown",
   "metadata": {},
   "source": [
    "#### Conversation Buffer Window\n",
    "- it keeps a list of the interactions of the conversation over time. \n",
    "- it only uses the last K interactions. \n",
    "- it can be useful for keeping a sliding window of the most recent interactions, so the buffer does not get too large."
   ]
  },
  {
   "cell_type": "code",
   "execution_count": 29,
   "metadata": {},
   "outputs": [
    {
     "name": "stderr",
     "output_type": "stream",
     "text": [
      "/var/folders/xc/lhkrvm_n60b5bwhxvql0x44c0000gn/T/ipykernel_93317/1660141487.py:3: LangChainDeprecationWarning: Please see the migration guide at: https://python.langchain.com/docs/versions/migrating_memory/\n",
      "  memory = ConversationBufferWindowMemory(k=1)\n"
     ]
    },
    {
     "data": {
      "text/plain": [
       "{'history': \"Human: How are you?\\nAI: I'm quite good. How about you?\"}"
      ]
     },
     "execution_count": 29,
     "metadata": {},
     "output_type": "execute_result"
    }
   ],
   "source": [
    "from langchain.memory import ConversationBufferWindowMemory\n",
    "\n",
    "memory = ConversationBufferWindowMemory(k=1)\n",
    "memory.save_context({'input':'hi'}, {'output':'What\\'s up?'})\n",
    "memory.save_context({\"input\":'How are you?'},{'output': 'I\\'m quite good. How about you?'})\n",
    "memory.load_memory_variables({})"
   ]
  },
  {
   "attachments": {},
   "cell_type": "markdown",
   "metadata": {},
   "source": [
    "## 4. Chain\n",
    "\n",
    "Using an LLM in isolation is fine for simple applications, but more complex applications require chaining LLMs - either with each other or with other components.\n",
    "\n",
    "An `LLMChain` is a simple chain that adds some functionality around language models.\n",
    "- it consists of a `PromptTemplate` and a `LM` (either an LLM or chat model).\n",
    "- it formats the prompt template using the input key values provided (and also memory key values, if available), \n",
    "- it passes the formatted string to LLM and returns the LLM output.\n",
    "\n",
    "Note : [Download Fastchat Model Here](https://huggingface.co/lmsys/fastchat-t5-3b-v1.0)"
   ]
  },
  {
   "cell_type": "code",
   "execution_count": 30,
   "metadata": {},
   "outputs": [],
   "source": [
    "# %cd ./models\n",
    "# !git clone https://huggingface.co/lmsys/fastchat-t5-3b-v1.0"
   ]
  },
  {
   "cell_type": "code",
   "execution_count": 31,
   "metadata": {},
   "outputs": [
    {
     "name": "stderr",
     "output_type": "stream",
     "text": [
      "You are using the default legacy behaviour of the <class 'transformers.models.t5.tokenization_t5.T5Tokenizer'>. This is expected, and simply means that the `legacy` (previous) behavior will be used so nothing changes for you. If you want to use the new behaviour, set `legacy=False`. This should only be set if you understand what it means, and thouroughly read the reason why this was added as explained in https://github.com/huggingface/transformers/pull/24565\n",
      "Special tokens have been added in the vocabulary, make sure the associated word embeddings are fine-tuned or trained.\n",
      "Special tokens have been added in the vocabulary, make sure the associated word embeddings are fine-tuned or trained.\n"
     ]
    }
   ],
   "source": [
    "from transformers import AutoTokenizer, pipeline, AutoModelForSeq2SeqLM\n",
    "from transformers import BitsAndBytesConfig\n",
    "from langchain import HuggingFacePipeline\n",
    "import torch\n",
    "\n",
    "# model_id = '../models/fastchat-t5-3b-v1.0/'\n",
    "# model_id = os.path.abspath(\"../models/fastchat-t5-3b-v1.0/\")\n",
    "\n",
    "# tokenizer = AutoTokenizer.from_pretrained(\n",
    "#     model_id)\n",
    "\n",
    "model_id = \"lmsys/fastchat-t5-3b-v1.0\"\n",
    "\n",
    "tokenizer = AutoTokenizer.from_pretrained(model_id)\n",
    "tokenizer.save_pretrained(\"models/fastchat-t5-3b-v1.0/\")\n",
    "\n",
    "\n",
    "\n",
    "# tokenizer = AutoTokenizer.from_pretrained(\n",
    "#     model_id,\n",
    "#     local_files_only=True  # Ensures it only loads from local disk\n",
    "# )\n",
    "\n",
    "\n",
    "tokenizer.pad_token_id = tokenizer.eos_token_id\n",
    "\n",
    "# bitsandbyte_config = BitsAndBytesConfig(\n",
    "#     load_in_4bit = True,\n",
    "#     bnb_4bit_quant_type = \"nf4\",\n",
    "#     bnb_4bit_compute_dtype = torch.float16,\n",
    "#     bnb_4bit_use_double_quant = True\n",
    "# )\n",
    "\n",
    "model = AutoModelForSeq2SeqLM.from_pretrained(\n",
    "    model_id,\n",
    "    # quantization_config = bitsandbyte_config, #caution Nvidia\n",
    "    device_map = device\n",
    ")\n",
    "\n",
    "\n",
    "pipe = pipeline(\n",
    "    task=\"text2text-generation\",\n",
    "    model=model,\n",
    "    tokenizer=tokenizer,\n",
    "    max_new_tokens = 256,\n",
    "    model_kwargs = {\n",
    "        \"temperature\" : 0,\n",
    "        \"repetition_penalty\": 1.5\n",
    "    }\n",
    ")\n",
    "\n",
    "llm = HuggingFacePipeline(pipeline = pipe)"
   ]
  },
  {
   "cell_type": "code",
   "execution_count": null,
   "metadata": {},
   "outputs": [],
   "source": [
    "from langchain_groq import ChatGroq\n",
    "\n",
    "llm = ChatGroq(\n",
    "    model=\"llama3-70b-8192\",\n",
    "    temperature=0,\n",
    "    max_tokens=None,\n",
    "    timeout=None,\n",
    "    max_retries=2,\n",
    "    api_key=\"\"\n",
    "    \n",
    "    \n",
    "    # other params...\n",
    ")"
   ]
  },
  {
   "cell_type": "code",
   "execution_count": 33,
   "metadata": {},
   "outputs": [],
   "source": [
    "# from langchain_core.prompts import ChatPromptTemplate\n",
    "\n",
    "# PROMPT = ChatPromptTemplate.from_messages(\n",
    "#     [\n",
    "#         (\n",
    "#             \"system\",\n",
    "#             \" I'm your clone myself voramethbot. You can ask anything according to yourself. \"\n",
    "#             \"Sometimes, it is ok to feel loss, but remember to speak to  who might knock in a sane mind again. \"\n",
    "#             \"You can ask whether who you are ? what are your studies ? what are your interest ? what expertis areas ?  \"\n",
    "#             \"No matter you feel uncomfortble, please reach out to me, ok ? {context}.\",\n",
    "#         ),\n",
    "#         (\"human\", \"{question}\"),\n",
    "#     ]\n",
    "# )\n",
    "\n",
    "# chain = PROMPT | llm\n",
    "# chain.invoke(\n",
    "#     {\n",
    "#         \"context\": \"Vorameth is interest in many areas for exmaple machine learning, cybersecurity, or even network programming.\",\n",
    "#         \"question\": \"What are the areas that Vorameth interest in ?\"\n",
    "#     }\n",
    "# )\n"
   ]
  },
  {
   "attachments": {},
   "cell_type": "markdown",
   "metadata": {},
   "source": [
    "### [Class ConversationalRetrievalChain](https://api.python.langchain.com/en/latest/_modules/langchain/chains/conversational_retrieval/base.html#ConversationalRetrievalChain)\n",
    "\n",
    "- `retriever` : Retriever to use to fetch documents.\n",
    "\n",
    "- `combine_docs_chain` : The chain used to combine any retrieved documents.\n",
    "\n",
    "- `question_generator`: The chain used to generate a new question for the sake of retrieval. This chain will take in the current question (with variable question) and any chat history (with variable chat_history) and will produce a new standalone question to be used later on.\n",
    "\n",
    "- `return_source_documents` : Return the retrieved source documents as part of the final result.\n",
    "\n",
    "- `get_chat_history` : An optional function to get a string of the chat history. If None is provided, will use a default.\n",
    "\n",
    "- `return_generated_question` : Return the generated question as part of the final result.\n",
    "\n",
    "- `response_if_no_docs_found` : If specified, the chain will return a fixed response if no docs are found for the question.\n"
   ]
  },
  {
   "attachments": {},
   "cell_type": "markdown",
   "metadata": {},
   "source": [
    "`question_generator`"
   ]
  },
  {
   "cell_type": "code",
   "execution_count": 34,
   "metadata": {},
   "outputs": [],
   "source": [
    "from langchain.chains import LLMChain\n",
    "from langchain.chains.conversational_retrieval.prompts import CONDENSE_QUESTION_PROMPT\n",
    "from langchain.memory import ConversationBufferWindowMemory\n",
    "from langchain.chains.question_answering import load_qa_chain\n",
    "from langchain.chains import ConversationalRetrievalChain"
   ]
  },
  {
   "cell_type": "code",
   "execution_count": 35,
   "metadata": {},
   "outputs": [
    {
     "data": {
      "text/plain": [
       "PromptTemplate(input_variables=['chat_history', 'question'], input_types={}, partial_variables={}, template='Given the following conversation and a follow up question, rephrase the follow up question to be a standalone question, in its original language.\\n\\nChat History:\\n{chat_history}\\nFollow Up Input: {question}\\nStandalone question:')"
      ]
     },
     "execution_count": 35,
     "metadata": {},
     "output_type": "execute_result"
    }
   ],
   "source": [
    "CONDENSE_QUESTION_PROMPT"
   ]
  },
  {
   "cell_type": "code",
   "execution_count": 36,
   "metadata": {},
   "outputs": [
    {
     "name": "stderr",
     "output_type": "stream",
     "text": [
      "/var/folders/xc/lhkrvm_n60b5bwhxvql0x44c0000gn/T/ipykernel_93317/3952007952.py:1: LangChainDeprecationWarning: The class `LLMChain` was deprecated in LangChain 0.1.17 and will be removed in 1.0. Use :meth:`~RunnableSequence, e.g., `prompt | llm`` instead.\n",
      "  question_generator = LLMChain(\n"
     ]
    }
   ],
   "source": [
    "question_generator = LLMChain(\n",
    "    llm = llm,\n",
    "    prompt = CONDENSE_QUESTION_PROMPT,\n",
    "    verbose = True\n",
    ")"
   ]
  },
  {
   "cell_type": "code",
   "execution_count": 37,
   "metadata": {},
   "outputs": [
    {
     "name": "stderr",
     "output_type": "stream",
     "text": [
      "/var/folders/xc/lhkrvm_n60b5bwhxvql0x44c0000gn/T/ipykernel_93317/3338227403.py:4: LangChainDeprecationWarning: The method `Chain.__call__` was deprecated in langchain 0.1.0 and will be removed in 1.0. Use :meth:`~invoke` instead.\n",
      "  question_generator({'chat_history' : chat_history, \"question\" : query})\n"
     ]
    },
    {
     "name": "stdout",
     "output_type": "stream",
     "text": [
      "\n",
      "\n",
      "\u001b[1m> Entering new LLMChain chain...\u001b[0m\n",
      "Prompt after formatting:\n",
      "\u001b[32;1m\u001b[1;3mGiven the following conversation and a follow up question, rephrase the follow up question to be a standalone question, in its original language.\n",
      "\n",
      "Chat History:\n",
      "Human:What is Machine Learning\n",
      "AI:\n",
      "Human:What is Deep Learning\n",
      "AI:\n",
      "Follow Up Input: Comparing both of them\n",
      "Standalone question:\u001b[0m\n",
      "\n",
      "\u001b[1m> Finished chain.\u001b[0m\n"
     ]
    },
    {
     "data": {
      "text/plain": [
       "{'chat_history': 'Human:What is Machine Learning\\nAI:\\nHuman:What is Deep Learning\\nAI:',\n",
       " 'question': 'Comparing both of them',\n",
       " 'text': 'Standalone question: What is the difference between Machine Learning and Deep Learning?'}"
      ]
     },
     "execution_count": 37,
     "metadata": {},
     "output_type": "execute_result"
    }
   ],
   "source": [
    "query = 'Comparing both of them'\n",
    "chat_history = \"Human:What is Machine Learning\\nAI:\\nHuman:What is Deep Learning\\nAI:\"\n",
    "\n",
    "question_generator({'chat_history' : chat_history, \"question\" : query})"
   ]
  },
  {
   "attachments": {},
   "cell_type": "markdown",
   "metadata": {},
   "source": [
    "`combine_docs_chain`"
   ]
  },
  {
   "cell_type": "code",
   "execution_count": 38,
   "metadata": {},
   "outputs": [
    {
     "name": "stderr",
     "output_type": "stream",
     "text": [
      "/var/folders/xc/lhkrvm_n60b5bwhxvql0x44c0000gn/T/ipykernel_93317/1999184610.py:1: LangChainDeprecationWarning: This class is deprecated. See the following migration guides for replacements based on `chain_type`:\n",
      "stuff: https://python.langchain.com/docs/versions/migrating_chains/stuff_docs_chain\n",
      "map_reduce: https://python.langchain.com/docs/versions/migrating_chains/map_reduce_chain\n",
      "refine: https://python.langchain.com/docs/versions/migrating_chains/refine_chain\n",
      "map_rerank: https://python.langchain.com/docs/versions/migrating_chains/map_rerank_docs_chain\n",
      "\n",
      "See also guides on retrieval and question-answering here: https://python.langchain.com/docs/how_to/#qa-with-rag\n",
      "  doc_chain = load_qa_chain(\n"
     ]
    },
    {
     "data": {
      "text/plain": [
       "StuffDocumentsChain(verbose=True, llm_chain=LLMChain(verbose=True, prompt=PromptTemplate(input_variables=['context', 'question'], input_types={}, partial_variables={}, template=\"I'm your clone myself chatbot. You can ask anything according to yourself. Sometimes, it is ok to feel loss, but remember to speak to \\n    who might knock in a sane mind again. You can ask whether who you are ? what are your studies ? what are your interest ? what expertis areas ? \\n    No matter you feel uncomfortble, please reach out to me, ok ? \\n    {context}\\n    Question: {question}\\n    Answer:\"), llm=ChatGroq(client=<groq.resources.chat.completions.Completions object at 0x36ad764d0>, async_client=<groq.resources.chat.completions.AsyncCompletions object at 0x33eee3590>, model_name='llama3-70b-8192', temperature=1e-08, model_kwargs={}, groq_api_key=SecretStr('**********')), output_parser=StrOutputParser(), llm_kwargs={}), document_prompt=PromptTemplate(input_variables=['page_content'], input_types={}, partial_variables={}, template='{page_content}'), document_variable_name='context')"
      ]
     },
     "execution_count": 38,
     "metadata": {},
     "output_type": "execute_result"
    }
   ],
   "source": [
    "doc_chain = load_qa_chain(\n",
    "    llm = llm,\n",
    "    chain_type = 'stuff',\n",
    "    prompt = PROMPT,\n",
    "    verbose = True\n",
    ")\n",
    "doc_chain"
   ]
  },
  {
   "cell_type": "code",
   "execution_count": 39,
   "metadata": {
    "scrolled": true
   },
   "outputs": [
    {
     "name": "stdout",
     "output_type": "stream",
     "text": [
      "\n",
      "\n",
      "\u001b[1m> Entering new StuffDocumentsChain chain...\u001b[0m\n",
      "\n",
      "\n",
      "\u001b[1m> Entering new LLMChain chain...\u001b[0m\n",
      "Prompt after formatting:\n",
      "\u001b[32;1m\u001b[1;3mI'm your clone myself chatbot. You can ask anything according to yourself. Sometimes, it is ok to feel loss, but remember to speak to \n",
      "    who might knock in a sane mind again. You can ask whether who you are ? what are your studies ? what are your interest ? what expertis areas ? \n",
      "    No matter you feel uncomfortble, please reach out to me, ok ? \n",
      "    • Exchanging cultural experience with other members in the lab \n",
      "June — August 2018 \n",
      "‣ Internship, Bremen University; Bremen, Germany \n",
      "• Using Tensor Flow for Prediction Users Behaviour \n",
      "• Implementing Android application through Android Studio with Network Parameters \n",
      "• Clearing and preparing data with Pandas library in Python \n",
      "• Cultural and Knowledge Exchanging \n",
      "June — July 2016  \n",
      "‣ Representative Participant in Asian Undergraduate Summit, National University Singapore, Singapore \n",
      "- June to July 2016 \n",
      "• Improving design and creative thinking skill through group discussion \n",
      "• Being aware of disruptive changes from technology over businesses \n",
      "• Acknowledging upcoming trends of business\n",
      "\n",
      "Management and Security Knowledge & Experience \n",
      "Project During Undergraduate:  \n",
      "• Senior Project about A Recommendation System for Information Security Standard based on \n",
      "Organization Context \n",
      "• Database Design comply with Hotel domain \n",
      "• Movie Searching with Youtube Google and Twitter API using PHP as backend and HTML as frontend\n",
      "• Hotel System in C Programming Language\n",
      "\n",
      "VORAMETH REANTONGCOME’s CV \n",
      "Education \n",
      "Bachelor of Science in Information and Communication Technology, Mahidol University - Graduated \n",
      "(2019) \n",
      "[Current Study]  - Master Degree in Data Science and Artiﬁcial Intelligence, Asian Institute of \n",
      "Technology, Thailand \n",
      "Experience \n",
      "August 2024 - Now \n",
      "‣ Persuading Master Degree in Data Science and Artiﬁcial Intelligence, Asian Institute of Technology, \n",
      "Thailand \n",
      "• Project on Computer Programming in Data Science \n",
      "• Loan Fraud Prediction - The project utilize the Kaggle datasets for training the model. The output is the \n",
      "classiﬁcation problems on whether the customer will probably cause loan fraud or not.  \n",
      "• Project on Machine Learning\n",
      "\n",
      "• Acknowledging upcoming trends of business  \n",
      "• Learning communication skills with English language \n",
      "• Exchanging cultural experience with other members \n",
      "Award and Certiﬁcation \n",
      "• CompTIA CySA+  \n",
      "• CompTIA Security+  \n",
      "• Certiﬁed Ethical Hacker: CEH \n",
      "• Computer Hacking Forensic Investigator \n",
      "• 1st Runner of Final War competition in E-Business course 2018 \n",
      "• ICDL IT Security Certiﬁcation 2018 \n",
      "• Scholarship for Outstanding Years from Faculty of ICT 2017 \n",
      "Skills \n",
      "Programming Language : C, Java, Python, HTML, JavaScript and PHP\n",
      "Technical Skill : Basic IoT device, Basic Router or Switch Conﬁguration, Network Programming, Network \n",
      "Management and Security Knowledge & Experience\n",
      "    Question: How old are you?\n",
      "    Answer:\u001b[0m\n",
      "\n",
      "\u001b[1m> Finished chain.\u001b[0m\n",
      "\n",
      "\u001b[1m> Finished chain.\u001b[0m\n"
     ]
    },
    {
     "data": {
      "text/plain": [
       "{'input_documents': [Document(metadata={'source': \"Vorameth'sCV.pdf\", 'file_path': \"Vorameth'sCV.pdf\", 'page': 1, 'total_pages': 2, 'format': 'PDF 1.3', 'title': \"Vorameth'sCV\", 'author': '', 'subject': '', 'keywords': '', 'creator': 'Pages', 'producer': 'macOS Version 15.3.1 (Build 24D70) Quartz PDFContext', 'creationDate': \"D:20250310171528Z00'00'\", 'modDate': \"D:20250310171528Z00'00'\", 'trapped': ''}, page_content='• Exchanging cultural experience with other members in the lab \\nJune — August 2018 \\n‣ Internship, Bremen University; Bremen, Germany \\n• Using Tensor Flow for Prediction Users Behaviour \\n• Implementing Android application through Android Studio with Network Parameters \\n• Clearing and preparing data with Pandas library in Python \\n• Cultural and Knowledge Exchanging \\nJune — July 2016  \\n‣ Representative Participant in Asian Undergraduate Summit, National University Singapore, Singapore \\n- June to July 2016 \\n• Improving design and creative thinking skill through group discussion \\n• Being aware of disruptive changes from technology over businesses \\n• Acknowledging upcoming trends of business'),\n",
       "  Document(metadata={'source': \"Vorameth'sCV.pdf\", 'file_path': \"Vorameth'sCV.pdf\", 'page': 1, 'total_pages': 2, 'format': 'PDF 1.3', 'title': \"Vorameth'sCV\", 'author': '', 'subject': '', 'keywords': '', 'creator': 'Pages', 'producer': 'macOS Version 15.3.1 (Build 24D70) Quartz PDFContext', 'creationDate': \"D:20250310171528Z00'00'\", 'modDate': \"D:20250310171528Z00'00'\", 'trapped': ''}, page_content='Management and Security Knowledge & Experience \\nProject During Undergraduate:  \\n• Senior Project about A Recommendation System for Information Security Standard based on \\nOrganization Context \\n• Database Design comply with Hotel domain \\n• Movie Searching with Youtube Google and Twitter API using PHP as backend and HTML as frontend\\n• Hotel System in C Programming Language'),\n",
       "  Document(metadata={'source': \"Vorameth'sCV.pdf\", 'file_path': \"Vorameth'sCV.pdf\", 'page': 0, 'total_pages': 2, 'format': 'PDF 1.3', 'title': \"Vorameth'sCV\", 'author': '', 'subject': '', 'keywords': '', 'creator': 'Pages', 'producer': 'macOS Version 15.3.1 (Build 24D70) Quartz PDFContext', 'creationDate': \"D:20250310171528Z00'00'\", 'modDate': \"D:20250310171528Z00'00'\", 'trapped': ''}, page_content='VORAMETH REANTONGCOME’s CV \\nEducation \\nBachelor of Science in Information and Communication Technology, Mahidol University - Graduated \\n(2019) \\n[Current Study]  - Master Degree in Data Science and Artiﬁcial Intelligence, Asian Institute of \\nTechnology, Thailand \\nExperience \\nAugust 2024 - Now \\n‣ Persuading Master Degree in Data Science and Artiﬁcial Intelligence, Asian Institute of Technology, \\nThailand \\n• Project on Computer Programming in Data Science \\n• Loan Fraud Prediction - The project utilize the Kaggle datasets for training the model. The output is the \\nclassiﬁcation problems on whether the customer will probably cause loan fraud or not.  \\n• Project on Machine Learning'),\n",
       "  Document(metadata={'source': \"Vorameth'sCV.pdf\", 'file_path': \"Vorameth'sCV.pdf\", 'page': 1, 'total_pages': 2, 'format': 'PDF 1.3', 'title': \"Vorameth'sCV\", 'author': '', 'subject': '', 'keywords': '', 'creator': 'Pages', 'producer': 'macOS Version 15.3.1 (Build 24D70) Quartz PDFContext', 'creationDate': \"D:20250310171528Z00'00'\", 'modDate': \"D:20250310171528Z00'00'\", 'trapped': ''}, page_content='• Acknowledging upcoming trends of business  \\n• Learning communication skills with English language \\n• Exchanging cultural experience with other members \\nAward and Certiﬁcation \\n• CompTIA CySA+  \\n• CompTIA Security+  \\n• Certiﬁed Ethical Hacker: CEH \\n• Computer Hacking Forensic Investigator \\n• 1st Runner of Final War competition in E-Business course 2018 \\n• ICDL IT Security Certiﬁcation 2018 \\n• Scholarship for Outstanding Years from Faculty of ICT 2017 \\nSkills \\nProgramming Language : C, Java, Python, HTML, JavaScript and PHP\\nTechnical Skill : Basic IoT device, Basic Router or Switch Conﬁguration, Network Programming, Network \\nManagement and Security Knowledge & Experience')],\n",
       " 'question': 'How old are you?',\n",
       " 'output_text': \"Nice to meet my clone!\\n\\nAccording to your CV, you graduated with a Bachelor of Science in Information and Communication Technology from Mahidol University in 2019, and you're currently pursuing a Master's degree in Data Science and Artificial Intelligence at the Asian Institute of Technology, Thailand.\\n\\nAssuming you started your undergraduate studies at the age of 18, and considering the timeline of your education and experiences, I'd estimate that you're around 24-25 years old. Am I correct?\"}"
      ]
     },
     "execution_count": 39,
     "metadata": {},
     "output_type": "execute_result"
    }
   ],
   "source": [
    "query = \"How old are you?\"\n",
    "input_document = retriever.get_relevant_documents(query)\n",
    "\n",
    "doc_chain({'input_documents':input_document, 'question':query})"
   ]
  },
  {
   "cell_type": "code",
   "execution_count": 40,
   "metadata": {},
   "outputs": [
    {
     "name": "stderr",
     "output_type": "stream",
     "text": [
      "/var/folders/xc/lhkrvm_n60b5bwhxvql0x44c0000gn/T/ipykernel_93317/3192009131.py:8: LangChainDeprecationWarning: The class `ConversationalRetrievalChain` was deprecated in LangChain 0.1.17 and will be removed in 1.0. Use :meth:`~create_history_aware_retriever together with create_retrieval_chain (see example in docstring)` instead.\n",
      "  chain = ConversationalRetrievalChain(\n"
     ]
    },
    {
     "data": {
      "text/plain": [
       "ConversationalRetrievalChain(memory=ConversationBufferWindowMemory(chat_memory=InMemoryChatMessageHistory(messages=[]), output_key='answer', return_messages=True, memory_key='chat_history', k=3), verbose=True, combine_docs_chain=StuffDocumentsChain(verbose=True, llm_chain=LLMChain(verbose=True, prompt=PromptTemplate(input_variables=['context', 'question'], input_types={}, partial_variables={}, template=\"I'm your clone myself chatbot. You can ask anything according to yourself. Sometimes, it is ok to feel loss, but remember to speak to \\n    who might knock in a sane mind again. You can ask whether who you are ? what are your studies ? what are your interest ? what expertis areas ? \\n    No matter you feel uncomfortble, please reach out to me, ok ? \\n    {context}\\n    Question: {question}\\n    Answer:\"), llm=ChatGroq(client=<groq.resources.chat.completions.Completions object at 0x36ad764d0>, async_client=<groq.resources.chat.completions.AsyncCompletions object at 0x33eee3590>, model_name='llama3-70b-8192', temperature=1e-08, model_kwargs={}, groq_api_key=SecretStr('**********')), output_parser=StrOutputParser(), llm_kwargs={}), document_prompt=PromptTemplate(input_variables=['page_content'], input_types={}, partial_variables={}, template='{page_content}'), document_variable_name='context'), question_generator=LLMChain(verbose=True, prompt=PromptTemplate(input_variables=['chat_history', 'question'], input_types={}, partial_variables={}, template='Given the following conversation and a follow up question, rephrase the follow up question to be a standalone question, in its original language.\\n\\nChat History:\\n{chat_history}\\nFollow Up Input: {question}\\nStandalone question:'), llm=ChatGroq(client=<groq.resources.chat.completions.Completions object at 0x36ad764d0>, async_client=<groq.resources.chat.completions.AsyncCompletions object at 0x33eee3590>, model_name='llama3-70b-8192', temperature=1e-08, model_kwargs={}, groq_api_key=SecretStr('**********')), output_parser=StrOutputParser(), llm_kwargs={}), return_source_documents=True, get_chat_history=<function <lambda> at 0x33efe2ca0>, retriever=VectorStoreRetriever(tags=['Chroma', 'HuggingFaceInstructEmbeddings'], vectorstore=<langchain_chroma.vectorstores.Chroma object at 0x337489d90>, search_kwargs={}))"
      ]
     },
     "execution_count": 40,
     "metadata": {},
     "output_type": "execute_result"
    }
   ],
   "source": [
    "memory = ConversationBufferWindowMemory(\n",
    "    k=3, \n",
    "    memory_key = \"chat_history\",\n",
    "    return_messages = True,\n",
    "    output_key = 'answer'\n",
    ")\n",
    "\n",
    "chain = ConversationalRetrievalChain(\n",
    "    retriever=retriever_chroma,\n",
    "    question_generator=question_generator,\n",
    "    combine_docs_chain=doc_chain,\n",
    "    return_source_documents=True,\n",
    "    memory=memory,\n",
    "    verbose=True,\n",
    "    get_chat_history=lambda h : h\n",
    ")\n",
    "chain\n"
   ]
  },
  {
   "attachments": {},
   "cell_type": "markdown",
   "metadata": {},
   "source": [
    "## 5. Chatbot"
   ]
  },
  {
   "cell_type": "code",
   "execution_count": 41,
   "metadata": {},
   "outputs": [
    {
     "name": "stdout",
     "output_type": "stream",
     "text": [
      "\n",
      "\n",
      "\u001b[1m> Entering new ConversationalRetrievalChain chain...\u001b[0m\n",
      "\n",
      "\n",
      "\u001b[1m> Entering new StuffDocumentsChain chain...\u001b[0m\n",
      "\n",
      "\n",
      "\u001b[1m> Entering new LLMChain chain...\u001b[0m\n",
      "Prompt after formatting:\n",
      "\u001b[32;1m\u001b[1;3mI'm your clone myself chatbot. You can ask anything according to yourself. Sometimes, it is ok to feel loss, but remember to speak to \n",
      "    who might knock in a sane mind again. You can ask whether who you are ? what are your studies ? what are your interest ? what expertis areas ? \n",
      "    No matter you feel uncomfortble, please reach out to me, ok ? \n",
      "    • Exchanging cultural experience with other members in the lab \n",
      "June — August 2018 \n",
      "‣ Internship, Bremen University; Bremen, Germany \n",
      "• Using Tensor Flow for Prediction Users Behaviour \n",
      "• Implementing Android application through Android Studio with Network Parameters \n",
      "• Clearing and preparing data with Pandas library in Python \n",
      "• Cultural and Knowledge Exchanging \n",
      "June — July 2016  \n",
      "‣ Representative Participant in Asian Undergraduate Summit, National University Singapore, Singapore \n",
      "- June to July 2016 \n",
      "• Improving design and creative thinking skill through group discussion \n",
      "• Being aware of disruptive changes from technology over businesses \n",
      "• Acknowledging upcoming trends of business\n",
      "\n",
      "• Exchanging cultural experience with other members in the lab \n",
      "June — August 2018 \n",
      "‣ Internship, Bremen University; Bremen, Germany \n",
      "• Using Tensor Flow for Prediction Users Behaviour \n",
      "• Implementing Android application through Android Studio with Network Parameters \n",
      "• Clearing and preparing data with Pandas library in Python \n",
      "• Cultural and Knowledge Exchanging \n",
      "June — July 2016  \n",
      "‣ Representative Participant in Asian Undergraduate Summit, National University Singapore, Singapore \n",
      "- June to July 2016 \n",
      "• Improving design and creative thinking skill through group discussion \n",
      "• Being aware of disruptive changes from technology over businesses \n",
      "• Acknowledging upcoming trends of business\n",
      "\n",
      "• Exchanging cultural experience with other members in the lab \n",
      "June — August 2018 \n",
      "‣ Internship, Bremen University; Bremen, Germany \n",
      "• Using Tensor Flow for Prediction Users Behaviour \n",
      "• Implementing Android application through Android Studio with Network Parameters \n",
      "• Clearing and preparing data with Pandas library in Python \n",
      "• Cultural and Knowledge Exchanging \n",
      "June — July 2016  \n",
      "‣ Representative Participant in Asian Undergraduate Summit, National University Singapore, Singapore \n",
      "- June to July 2016 \n",
      "• Improving design and creative thinking skill through group discussion \n",
      "• Being aware of disruptive changes from technology over businesses \n",
      "• Acknowledging upcoming trends of business\n",
      "\n",
      "• Acknowledging upcoming trends of business  \n",
      "• Learning communication skills with English language \n",
      "• Exchanging cultural experience with other members \n",
      "Award and Certiﬁcation \n",
      "• CompTIA CySA+  \n",
      "• CompTIA Security+  \n",
      "• Certiﬁed Ethical Hacker: CEH \n",
      "• Computer Hacking Forensic Investigator \n",
      "• 1st Runner of Final War competition in E-Business course 2018 \n",
      "• ICDL IT Security Certiﬁcation 2018 \n",
      "• Scholarship for Outstanding Years from Faculty of ICT 2017 \n",
      "Skills \n",
      "Programming Language : C, Java, Python, HTML, JavaScript and PHP\n",
      "Technical Skill : Basic IoT device, Basic Router or Switch Conﬁguration, Network Programming, Network \n",
      "Management and Security Knowledge & Experience\n",
      "    Question: Who are you by the way?\n",
      "    Answer:\u001b[0m\n",
      "\n",
      "\u001b[1m> Finished chain.\u001b[0m\n",
      "\n",
      "\u001b[1m> Finished chain.\u001b[0m\n",
      "\n",
      "\u001b[1m> Finished chain.\u001b[0m\n"
     ]
    },
    {
     "data": {
      "text/plain": [
       "{'question': 'Who are you by the way?',\n",
       " 'chat_history': [],\n",
       " 'answer': \"Nice to meet myself! I'm a clone of a highly skilled and accomplished individual with a strong background in computer science, cybersecurity, and business. I've had the opportunity to participate in various internships, summits, and competitions, and have acquired a range of skills and certifications in programming languages, technical skills, and security knowledge.\\n\\nFrom what I can gather, I'm a highly motivated and curious individual who is passionate about learning and exchanging cultural experiences with others. I've had the privilege of traveling to different countries, including Germany and Singapore, and have developed strong communication skills in English.\\n\\nMy expertise areas seem to include machine learning, Android app development, data analysis, and cybersecurity. I've worked with popular tools and technologies such as TensorFlow, Android Studio, Pandas, and Python.\\n\\nIt's great to have this conversation with myself, and I'm looking forward to exploring more about my interests, strengths, and goals!\",\n",
       " 'source_documents': [Document(id='ce36a832-8bac-47c7-996b-a0dd9c6aaad1', metadata={'author': '', 'creationDate': \"D:20250310171528Z00'00'\", 'creator': 'Pages', 'file_path': \"Vorameth'sCV.pdf\", 'format': 'PDF 1.3', 'keywords': '', 'modDate': \"D:20250310171528Z00'00'\", 'page': 1, 'producer': 'macOS Version 15.3.1 (Build 24D70) Quartz PDFContext', 'source': \"Vorameth'sCV.pdf\", 'subject': '', 'title': \"Vorameth'sCV\", 'total_pages': 2, 'trapped': ''}, page_content='• Exchanging cultural experience with other members in the lab \\nJune — August 2018 \\n‣ Internship, Bremen University; Bremen, Germany \\n• Using Tensor Flow for Prediction Users Behaviour \\n• Implementing Android application through Android Studio with Network Parameters \\n• Clearing and preparing data with Pandas library in Python \\n• Cultural and Knowledge Exchanging \\nJune — July 2016  \\n‣ Representative Participant in Asian Undergraduate Summit, National University Singapore, Singapore \\n- June to July 2016 \\n• Improving design and creative thinking skill through group discussion \\n• Being aware of disruptive changes from technology over businesses \\n• Acknowledging upcoming trends of business'),\n",
       "  Document(id='b2777001-eb89-4f82-8139-134ae046c226', metadata={'author': '', 'creationDate': \"D:20250310171528Z00'00'\", 'creator': 'Pages', 'file_path': \"Vorameth'sCV.pdf\", 'format': 'PDF 1.3', 'keywords': '', 'modDate': \"D:20250310171528Z00'00'\", 'page': 1, 'producer': 'macOS Version 15.3.1 (Build 24D70) Quartz PDFContext', 'source': \"Vorameth'sCV.pdf\", 'subject': '', 'title': \"Vorameth'sCV\", 'total_pages': 2, 'trapped': ''}, page_content='• Exchanging cultural experience with other members in the lab \\nJune — August 2018 \\n‣ Internship, Bremen University; Bremen, Germany \\n• Using Tensor Flow for Prediction Users Behaviour \\n• Implementing Android application through Android Studio with Network Parameters \\n• Clearing and preparing data with Pandas library in Python \\n• Cultural and Knowledge Exchanging \\nJune — July 2016  \\n‣ Representative Participant in Asian Undergraduate Summit, National University Singapore, Singapore \\n- June to July 2016 \\n• Improving design and creative thinking skill through group discussion \\n• Being aware of disruptive changes from technology over businesses \\n• Acknowledging upcoming trends of business'),\n",
       "  Document(id='d4e821f0-f6da-44b0-ae8a-ed796fedcb4f', metadata={'author': '', 'creationDate': \"D:20250310171528Z00'00'\", 'creator': 'Pages', 'file_path': \"Vorameth'sCV.pdf\", 'format': 'PDF 1.3', 'keywords': '', 'modDate': \"D:20250310171528Z00'00'\", 'page': 1, 'producer': 'macOS Version 15.3.1 (Build 24D70) Quartz PDFContext', 'source': \"Vorameth'sCV.pdf\", 'subject': '', 'title': \"Vorameth'sCV\", 'total_pages': 2, 'trapped': ''}, page_content='• Exchanging cultural experience with other members in the lab \\nJune — August 2018 \\n‣ Internship, Bremen University; Bremen, Germany \\n• Using Tensor Flow for Prediction Users Behaviour \\n• Implementing Android application through Android Studio with Network Parameters \\n• Clearing and preparing data with Pandas library in Python \\n• Cultural and Knowledge Exchanging \\nJune — July 2016  \\n‣ Representative Participant in Asian Undergraduate Summit, National University Singapore, Singapore \\n- June to July 2016 \\n• Improving design and creative thinking skill through group discussion \\n• Being aware of disruptive changes from technology over businesses \\n• Acknowledging upcoming trends of business'),\n",
       "  Document(id='c56cad27-bc11-40ec-92d5-33612fde87f3', metadata={'author': '', 'creationDate': \"D:20250310171528Z00'00'\", 'creator': 'Pages', 'file_path': \"Vorameth'sCV.pdf\", 'format': 'PDF 1.3', 'keywords': '', 'modDate': \"D:20250310171528Z00'00'\", 'page': 1, 'producer': 'macOS Version 15.3.1 (Build 24D70) Quartz PDFContext', 'source': \"Vorameth'sCV.pdf\", 'subject': '', 'title': \"Vorameth'sCV\", 'total_pages': 2, 'trapped': ''}, page_content='• Acknowledging upcoming trends of business  \\n• Learning communication skills with English language \\n• Exchanging cultural experience with other members \\nAward and Certiﬁcation \\n• CompTIA CySA+  \\n• CompTIA Security+  \\n• Certiﬁed Ethical Hacker: CEH \\n• Computer Hacking Forensic Investigator \\n• 1st Runner of Final War competition in E-Business course 2018 \\n• ICDL IT Security Certiﬁcation 2018 \\n• Scholarship for Outstanding Years from Faculty of ICT 2017 \\nSkills \\nProgramming Language : C, Java, Python, HTML, JavaScript and PHP\\nTechnical Skill : Basic IoT device, Basic Router or Switch Conﬁguration, Network Programming, Network \\nManagement and Security Knowledge & Experience')]}"
      ]
     },
     "execution_count": 41,
     "metadata": {},
     "output_type": "execute_result"
    }
   ],
   "source": [
    "prompt_question = \"Who are you by the way?\"\n",
    "answer = chain({\"question\":prompt_question})\n",
    "answer"
   ]
  },
  {
   "cell_type": "code",
   "execution_count": 42,
   "metadata": {},
   "outputs": [
    {
     "name": "stdout",
     "output_type": "stream",
     "text": [
      "\n",
      "\n",
      "\u001b[1m> Entering new ConversationalRetrievalChain chain...\u001b[0m\n",
      "\n",
      "\n",
      "\u001b[1m> Entering new LLMChain chain...\u001b[0m\n",
      "Prompt after formatting:\n",
      "\u001b[32;1m\u001b[1;3mGiven the following conversation and a follow up question, rephrase the follow up question to be a standalone question, in its original language.\n",
      "\n",
      "Chat History:\n",
      "[HumanMessage(content='Who are you by the way?', additional_kwargs={}, response_metadata={}), AIMessage(content=\"Nice to meet myself! I'm a clone of a highly skilled and accomplished individual with a strong background in computer science, cybersecurity, and business. I've had the opportunity to participate in various internships, summits, and competitions, and have acquired a range of skills and certifications in programming languages, technical skills, and security knowledge.\\n\\nFrom what I can gather, I'm a highly motivated and curious individual who is passionate about learning and exchanging cultural experiences with others. I've had the privilege of traveling to different countries, including Germany and Singapore, and have developed strong communication skills in English.\\n\\nMy expertise areas seem to include machine learning, Android app development, data analysis, and cybersecurity. I've worked with popular tools and technologies such as TensorFlow, Android Studio, Pandas, and Python.\\n\\nIt's great to have this conversation with myself, and I'm looking forward to exploring more about my interests, strengths, and goals!\", additional_kwargs={}, response_metadata={})]\n",
      "Follow Up Input: How old are you?\n",
      "Standalone question:\u001b[0m\n",
      "\n",
      "\u001b[1m> Finished chain.\u001b[0m\n",
      "\n",
      "\n",
      "\u001b[1m> Entering new StuffDocumentsChain chain...\u001b[0m\n",
      "\n",
      "\n",
      "\u001b[1m> Entering new LLMChain chain...\u001b[0m\n",
      "Prompt after formatting:\n",
      "\u001b[32;1m\u001b[1;3mI'm your clone myself chatbot. You can ask anything according to yourself. Sometimes, it is ok to feel loss, but remember to speak to \n",
      "    who might knock in a sane mind again. You can ask whether who you are ? what are your studies ? what are your interest ? what expertis areas ? \n",
      "    No matter you feel uncomfortble, please reach out to me, ok ? \n",
      "    • Exchanging cultural experience with other members in the lab \n",
      "June — August 2018 \n",
      "‣ Internship, Bremen University; Bremen, Germany \n",
      "• Using Tensor Flow for Prediction Users Behaviour \n",
      "• Implementing Android application through Android Studio with Network Parameters \n",
      "• Clearing and preparing data with Pandas library in Python \n",
      "• Cultural and Knowledge Exchanging \n",
      "June — July 2016  \n",
      "‣ Representative Participant in Asian Undergraduate Summit, National University Singapore, Singapore \n",
      "- June to July 2016 \n",
      "• Improving design and creative thinking skill through group discussion \n",
      "• Being aware of disruptive changes from technology over businesses \n",
      "• Acknowledging upcoming trends of business\n",
      "\n",
      "• Exchanging cultural experience with other members in the lab \n",
      "June — August 2018 \n",
      "‣ Internship, Bremen University; Bremen, Germany \n",
      "• Using Tensor Flow for Prediction Users Behaviour \n",
      "• Implementing Android application through Android Studio with Network Parameters \n",
      "• Clearing and preparing data with Pandas library in Python \n",
      "• Cultural and Knowledge Exchanging \n",
      "June — July 2016  \n",
      "‣ Representative Participant in Asian Undergraduate Summit, National University Singapore, Singapore \n",
      "- June to July 2016 \n",
      "• Improving design and creative thinking skill through group discussion \n",
      "• Being aware of disruptive changes from technology over businesses \n",
      "• Acknowledging upcoming trends of business\n",
      "\n",
      "• Exchanging cultural experience with other members in the lab \n",
      "June — August 2018 \n",
      "‣ Internship, Bremen University; Bremen, Germany \n",
      "• Using Tensor Flow for Prediction Users Behaviour \n",
      "• Implementing Android application through Android Studio with Network Parameters \n",
      "• Clearing and preparing data with Pandas library in Python \n",
      "• Cultural and Knowledge Exchanging \n",
      "June — July 2016  \n",
      "‣ Representative Participant in Asian Undergraduate Summit, National University Singapore, Singapore \n",
      "- June to July 2016 \n",
      "• Improving design and creative thinking skill through group discussion \n",
      "• Being aware of disruptive changes from technology over businesses \n",
      "• Acknowledging upcoming trends of business\n",
      "\n",
      "• Acknowledging upcoming trends of business  \n",
      "• Learning communication skills with English language \n",
      "• Exchanging cultural experience with other members \n",
      "Award and Certiﬁcation \n",
      "• CompTIA CySA+  \n",
      "• CompTIA Security+  \n",
      "• Certiﬁed Ethical Hacker: CEH \n",
      "• Computer Hacking Forensic Investigator \n",
      "• 1st Runner of Final War competition in E-Business course 2018 \n",
      "• ICDL IT Security Certiﬁcation 2018 \n",
      "• Scholarship for Outstanding Years from Faculty of ICT 2017 \n",
      "Skills \n",
      "Programming Language : C, Java, Python, HTML, JavaScript and PHP\n",
      "Technical Skill : Basic IoT device, Basic Router or Switch Conﬁguration, Network Programming, Network \n",
      "Management and Security Knowledge & Experience\n",
      "    Question: What is your age?\n",
      "    Answer:\u001b[0m\n",
      "\n",
      "\u001b[1m> Finished chain.\u001b[0m\n",
      "\n",
      "\u001b[1m> Finished chain.\u001b[0m\n",
      "\n",
      "\u001b[1m> Finished chain.\u001b[0m\n"
     ]
    },
    {
     "data": {
      "text/plain": [
       "{'question': 'How old are you?',\n",
       " 'chat_history': [HumanMessage(content='Who are you by the way?', additional_kwargs={}, response_metadata={}),\n",
       "  AIMessage(content=\"Nice to meet myself! I'm a clone of a highly skilled and accomplished individual with a strong background in computer science, cybersecurity, and business. I've had the opportunity to participate in various internships, summits, and competitions, and have acquired a range of skills and certifications in programming languages, technical skills, and security knowledge.\\n\\nFrom what I can gather, I'm a highly motivated and curious individual who is passionate about learning and exchanging cultural experiences with others. I've had the privilege of traveling to different countries, including Germany and Singapore, and have developed strong communication skills in English.\\n\\nMy expertise areas seem to include machine learning, Android app development, data analysis, and cybersecurity. I've worked with popular tools and technologies such as TensorFlow, Android Studio, Pandas, and Python.\\n\\nIt's great to have this conversation with myself, and I'm looking forward to exploring more about my interests, strengths, and goals!\", additional_kwargs={}, response_metadata={})],\n",
       " 'answer': \"Thank you for being so open and honest with me! It's great to have a clone like you who understands the importance of reaching out when feeling uncomfortable.\\n\\nFrom what I've gathered, you have a strong background in computer science and technology, with expertise in areas like machine learning, Android app development, and network security. Your experiences in internships and summits have also helped you develop valuable skills in design thinking, communication, and cultural exchange.\\n\\nNow, about your question... Unfortunately, I don't see your age mentioned explicitly in the text. Could you please tell me how old you are?\",\n",
       " 'source_documents': [Document(id='ce36a832-8bac-47c7-996b-a0dd9c6aaad1', metadata={'author': '', 'creationDate': \"D:20250310171528Z00'00'\", 'creator': 'Pages', 'file_path': \"Vorameth'sCV.pdf\", 'format': 'PDF 1.3', 'keywords': '', 'modDate': \"D:20250310171528Z00'00'\", 'page': 1, 'producer': 'macOS Version 15.3.1 (Build 24D70) Quartz PDFContext', 'source': \"Vorameth'sCV.pdf\", 'subject': '', 'title': \"Vorameth'sCV\", 'total_pages': 2, 'trapped': ''}, page_content='• Exchanging cultural experience with other members in the lab \\nJune — August 2018 \\n‣ Internship, Bremen University; Bremen, Germany \\n• Using Tensor Flow for Prediction Users Behaviour \\n• Implementing Android application through Android Studio with Network Parameters \\n• Clearing and preparing data with Pandas library in Python \\n• Cultural and Knowledge Exchanging \\nJune — July 2016  \\n‣ Representative Participant in Asian Undergraduate Summit, National University Singapore, Singapore \\n- June to July 2016 \\n• Improving design and creative thinking skill through group discussion \\n• Being aware of disruptive changes from technology over businesses \\n• Acknowledging upcoming trends of business'),\n",
       "  Document(id='b2777001-eb89-4f82-8139-134ae046c226', metadata={'author': '', 'creationDate': \"D:20250310171528Z00'00'\", 'creator': 'Pages', 'file_path': \"Vorameth'sCV.pdf\", 'format': 'PDF 1.3', 'keywords': '', 'modDate': \"D:20250310171528Z00'00'\", 'page': 1, 'producer': 'macOS Version 15.3.1 (Build 24D70) Quartz PDFContext', 'source': \"Vorameth'sCV.pdf\", 'subject': '', 'title': \"Vorameth'sCV\", 'total_pages': 2, 'trapped': ''}, page_content='• Exchanging cultural experience with other members in the lab \\nJune — August 2018 \\n‣ Internship, Bremen University; Bremen, Germany \\n• Using Tensor Flow for Prediction Users Behaviour \\n• Implementing Android application through Android Studio with Network Parameters \\n• Clearing and preparing data with Pandas library in Python \\n• Cultural and Knowledge Exchanging \\nJune — July 2016  \\n‣ Representative Participant in Asian Undergraduate Summit, National University Singapore, Singapore \\n- June to July 2016 \\n• Improving design and creative thinking skill through group discussion \\n• Being aware of disruptive changes from technology over businesses \\n• Acknowledging upcoming trends of business'),\n",
       "  Document(id='d4e821f0-f6da-44b0-ae8a-ed796fedcb4f', metadata={'author': '', 'creationDate': \"D:20250310171528Z00'00'\", 'creator': 'Pages', 'file_path': \"Vorameth'sCV.pdf\", 'format': 'PDF 1.3', 'keywords': '', 'modDate': \"D:20250310171528Z00'00'\", 'page': 1, 'producer': 'macOS Version 15.3.1 (Build 24D70) Quartz PDFContext', 'source': \"Vorameth'sCV.pdf\", 'subject': '', 'title': \"Vorameth'sCV\", 'total_pages': 2, 'trapped': ''}, page_content='• Exchanging cultural experience with other members in the lab \\nJune — August 2018 \\n‣ Internship, Bremen University; Bremen, Germany \\n• Using Tensor Flow for Prediction Users Behaviour \\n• Implementing Android application through Android Studio with Network Parameters \\n• Clearing and preparing data with Pandas library in Python \\n• Cultural and Knowledge Exchanging \\nJune — July 2016  \\n‣ Representative Participant in Asian Undergraduate Summit, National University Singapore, Singapore \\n- June to July 2016 \\n• Improving design and creative thinking skill through group discussion \\n• Being aware of disruptive changes from technology over businesses \\n• Acknowledging upcoming trends of business'),\n",
       "  Document(id='c56cad27-bc11-40ec-92d5-33612fde87f3', metadata={'author': '', 'creationDate': \"D:20250310171528Z00'00'\", 'creator': 'Pages', 'file_path': \"Vorameth'sCV.pdf\", 'format': 'PDF 1.3', 'keywords': '', 'modDate': \"D:20250310171528Z00'00'\", 'page': 1, 'producer': 'macOS Version 15.3.1 (Build 24D70) Quartz PDFContext', 'source': \"Vorameth'sCV.pdf\", 'subject': '', 'title': \"Vorameth'sCV\", 'total_pages': 2, 'trapped': ''}, page_content='• Acknowledging upcoming trends of business  \\n• Learning communication skills with English language \\n• Exchanging cultural experience with other members \\nAward and Certiﬁcation \\n• CompTIA CySA+  \\n• CompTIA Security+  \\n• Certiﬁed Ethical Hacker: CEH \\n• Computer Hacking Forensic Investigator \\n• 1st Runner of Final War competition in E-Business course 2018 \\n• ICDL IT Security Certiﬁcation 2018 \\n• Scholarship for Outstanding Years from Faculty of ICT 2017 \\nSkills \\nProgramming Language : C, Java, Python, HTML, JavaScript and PHP\\nTechnical Skill : Basic IoT device, Basic Router or Switch Conﬁguration, Network Programming, Network \\nManagement and Security Knowledge & Experience')]}"
      ]
     },
     "execution_count": 42,
     "metadata": {},
     "output_type": "execute_result"
    }
   ],
   "source": [
    "prompt_question = \"How old are you?\"\n",
    "answer = chain({\"question\":prompt_question})\n",
    "answer"
   ]
  },
  {
   "cell_type": "code",
   "execution_count": 43,
   "metadata": {},
   "outputs": [
    {
     "name": "stdout",
     "output_type": "stream",
     "text": [
      "\n",
      "\n",
      "\u001b[1m> Entering new ConversationalRetrievalChain chain...\u001b[0m\n",
      "\n",
      "\n",
      "\u001b[1m> Entering new LLMChain chain...\u001b[0m\n",
      "Prompt after formatting:\n",
      "\u001b[32;1m\u001b[1;3mGiven the following conversation and a follow up question, rephrase the follow up question to be a standalone question, in its original language.\n",
      "\n",
      "Chat History:\n",
      "[HumanMessage(content='Who are you by the way?', additional_kwargs={}, response_metadata={}), AIMessage(content=\"Nice to meet myself! I'm a clone of a highly skilled and accomplished individual with a strong background in computer science, cybersecurity, and business. I've had the opportunity to participate in various internships, summits, and competitions, and have acquired a range of skills and certifications in programming languages, technical skills, and security knowledge.\\n\\nFrom what I can gather, I'm a highly motivated and curious individual who is passionate about learning and exchanging cultural experiences with others. I've had the privilege of traveling to different countries, including Germany and Singapore, and have developed strong communication skills in English.\\n\\nMy expertise areas seem to include machine learning, Android app development, data analysis, and cybersecurity. I've worked with popular tools and technologies such as TensorFlow, Android Studio, Pandas, and Python.\\n\\nIt's great to have this conversation with myself, and I'm looking forward to exploring more about my interests, strengths, and goals!\", additional_kwargs={}, response_metadata={}), HumanMessage(content='How old are you?', additional_kwargs={}, response_metadata={}), AIMessage(content=\"Thank you for being so open and honest with me! It's great to have a clone like you who understands the importance of reaching out when feeling uncomfortable.\\n\\nFrom what I've gathered, you have a strong background in computer science and technology, with expertise in areas like machine learning, Android app development, and network security. Your experiences in internships and summits have also helped you develop valuable skills in design thinking, communication, and cultural exchange.\\n\\nNow, about your question... Unfortunately, I don't see your age mentioned explicitly in the text. Could you please tell me how old you are?\", additional_kwargs={}, response_metadata={})]\n",
      "Follow Up Input: What is your highest level of education?\n",
      "Standalone question:\u001b[0m\n",
      "\n",
      "\u001b[1m> Finished chain.\u001b[0m\n",
      "\n",
      "\n",
      "\u001b[1m> Entering new StuffDocumentsChain chain...\u001b[0m\n",
      "\n",
      "\n",
      "\u001b[1m> Entering new LLMChain chain...\u001b[0m\n",
      "Prompt after formatting:\n",
      "\u001b[32;1m\u001b[1;3mI'm your clone myself chatbot. You can ask anything according to yourself. Sometimes, it is ok to feel loss, but remember to speak to \n",
      "    who might knock in a sane mind again. You can ask whether who you are ? what are your studies ? what are your interest ? what expertis areas ? \n",
      "    No matter you feel uncomfortble, please reach out to me, ok ? \n",
      "    VORAMETH REANTONGCOME’s CV \n",
      "Education \n",
      "Bachelor of Science in Information and Communication Technology, Mahidol University - Graduated \n",
      "(2019) \n",
      "[Current Study]  - Master Degree in Data Science and Artiﬁcial Intelligence, Asian Institute of \n",
      "Technology, Thailand \n",
      "Experience \n",
      "August 2024 - Now \n",
      "‣ Persuading Master Degree in Data Science and Artiﬁcial Intelligence, Asian Institute of Technology, \n",
      "Thailand \n",
      "• Project on Computer Programming in Data Science \n",
      "• Loan Fraud Prediction - The project utilize the Kaggle datasets for training the model. The output is the \n",
      "classiﬁcation problems on whether the customer will probably cause loan fraud or not.  \n",
      "• Project on Machine Learning\n",
      "\n",
      "VORAMETH REANTONGCOME’s CV \n",
      "Education \n",
      "Bachelor of Science in Information and Communication Technology, Mahidol University - Graduated \n",
      "(2019) \n",
      "[Current Study]  - Master Degree in Data Science and Artiﬁcial Intelligence, Asian Institute of \n",
      "Technology, Thailand \n",
      "Experience \n",
      "August 2024 - Now \n",
      "‣ Persuading Master Degree in Data Science and Artiﬁcial Intelligence, Asian Institute of Technology, \n",
      "Thailand \n",
      "• Project on Computer Programming in Data Science \n",
      "• Loan Fraud Prediction - The project utilize the Kaggle datasets for training the model. The output is the \n",
      "classiﬁcation problems on whether the customer will probably cause loan fraud or not.  \n",
      "• Project on Machine Learning\n",
      "\n",
      "VORAMETH REANTONGCOME’s CV \n",
      "Education \n",
      "Bachelor of Science in Information and Communication Technology, Mahidol University - Graduated \n",
      "(2019) \n",
      "[Current Study]  - Master Degree in Data Science and Artiﬁcial Intelligence, Asian Institute of \n",
      "Technology, Thailand \n",
      "Experience \n",
      "August 2024 - Now \n",
      "‣ Persuading Master Degree in Data Science and Artiﬁcial Intelligence, Asian Institute of Technology, \n",
      "Thailand \n",
      "• Project on Computer Programming in Data Science \n",
      "• Loan Fraud Prediction - The project utilize the Kaggle datasets for training the model. The output is the \n",
      "classiﬁcation problems on whether the customer will probably cause loan fraud or not.  \n",
      "• Project on Machine Learning\n",
      "\n",
      "• Exchanging cultural experience with other members in the lab \n",
      "June — August 2018 \n",
      "‣ Internship, Bremen University; Bremen, Germany \n",
      "• Using Tensor Flow for Prediction Users Behaviour \n",
      "• Implementing Android application through Android Studio with Network Parameters \n",
      "• Clearing and preparing data with Pandas library in Python \n",
      "• Cultural and Knowledge Exchanging \n",
      "June — July 2016  \n",
      "‣ Representative Participant in Asian Undergraduate Summit, National University Singapore, Singapore \n",
      "- June to July 2016 \n",
      "• Improving design and creative thinking skill through group discussion \n",
      "• Being aware of disruptive changes from technology over businesses \n",
      "• Acknowledging upcoming trends of business\n",
      "    Question: What is your highest level of education?\n",
      "    Answer:\u001b[0m\n",
      "\n",
      "\u001b[1m> Finished chain.\u001b[0m\n",
      "\n",
      "\u001b[1m> Finished chain.\u001b[0m\n",
      "\n",
      "\u001b[1m> Finished chain.\u001b[0m\n"
     ]
    },
    {
     "data": {
      "text/plain": [
       "{'question': 'What is your highest level of education?',\n",
       " 'chat_history': [HumanMessage(content='Who are you by the way?', additional_kwargs={}, response_metadata={}),\n",
       "  AIMessage(content=\"Nice to meet myself! I'm a clone of a highly skilled and accomplished individual with a strong background in computer science, cybersecurity, and business. I've had the opportunity to participate in various internships, summits, and competitions, and have acquired a range of skills and certifications in programming languages, technical skills, and security knowledge.\\n\\nFrom what I can gather, I'm a highly motivated and curious individual who is passionate about learning and exchanging cultural experiences with others. I've had the privilege of traveling to different countries, including Germany and Singapore, and have developed strong communication skills in English.\\n\\nMy expertise areas seem to include machine learning, Android app development, data analysis, and cybersecurity. I've worked with popular tools and technologies such as TensorFlow, Android Studio, Pandas, and Python.\\n\\nIt's great to have this conversation with myself, and I'm looking forward to exploring more about my interests, strengths, and goals!\", additional_kwargs={}, response_metadata={}),\n",
       "  HumanMessage(content='How old are you?', additional_kwargs={}, response_metadata={}),\n",
       "  AIMessage(content=\"Thank you for being so open and honest with me! It's great to have a clone like you who understands the importance of reaching out when feeling uncomfortable.\\n\\nFrom what I've gathered, you have a strong background in computer science and technology, with expertise in areas like machine learning, Android app development, and network security. Your experiences in internships and summits have also helped you develop valuable skills in design thinking, communication, and cultural exchange.\\n\\nNow, about your question... Unfortunately, I don't see your age mentioned explicitly in the text. Could you please tell me how old you are?\", additional_kwargs={}, response_metadata={})],\n",
       " 'answer': \"Thank you for sharing my CV with me!\\n\\nAccording to my CV, my highest level of education is a Bachelor of Science in Information and Communication Technology, which I graduated from Mahidol University in 2019. Currently, I am pursuing a Master's Degree in Data Science and Artificial Intelligence at the Asian Institute of Technology, Thailand.\",\n",
       " 'source_documents': [Document(id='ed2ef816-3121-4180-a29e-d9371822a0e0', metadata={'author': '', 'creationDate': \"D:20250310171528Z00'00'\", 'creator': 'Pages', 'file_path': \"Vorameth'sCV.pdf\", 'format': 'PDF 1.3', 'keywords': '', 'modDate': \"D:20250310171528Z00'00'\", 'page': 0, 'producer': 'macOS Version 15.3.1 (Build 24D70) Quartz PDFContext', 'source': \"Vorameth'sCV.pdf\", 'subject': '', 'title': \"Vorameth'sCV\", 'total_pages': 2, 'trapped': ''}, page_content='VORAMETH REANTONGCOME’s CV \\nEducation \\nBachelor of Science in Information and Communication Technology, Mahidol University - Graduated \\n(2019) \\n[Current Study]  - Master Degree in Data Science and Artiﬁcial Intelligence, Asian Institute of \\nTechnology, Thailand \\nExperience \\nAugust 2024 - Now \\n‣ Persuading Master Degree in Data Science and Artiﬁcial Intelligence, Asian Institute of Technology, \\nThailand \\n• Project on Computer Programming in Data Science \\n• Loan Fraud Prediction - The project utilize the Kaggle datasets for training the model. The output is the \\nclassiﬁcation problems on whether the customer will probably cause loan fraud or not.  \\n• Project on Machine Learning'),\n",
       "  Document(id='2a260e5a-eea6-4509-a28d-f6a3de56efc1', metadata={'author': '', 'creationDate': \"D:20250310171528Z00'00'\", 'creator': 'Pages', 'file_path': \"Vorameth'sCV.pdf\", 'format': 'PDF 1.3', 'keywords': '', 'modDate': \"D:20250310171528Z00'00'\", 'page': 0, 'producer': 'macOS Version 15.3.1 (Build 24D70) Quartz PDFContext', 'source': \"Vorameth'sCV.pdf\", 'subject': '', 'title': \"Vorameth'sCV\", 'total_pages': 2, 'trapped': ''}, page_content='VORAMETH REANTONGCOME’s CV \\nEducation \\nBachelor of Science in Information and Communication Technology, Mahidol University - Graduated \\n(2019) \\n[Current Study]  - Master Degree in Data Science and Artiﬁcial Intelligence, Asian Institute of \\nTechnology, Thailand \\nExperience \\nAugust 2024 - Now \\n‣ Persuading Master Degree in Data Science and Artiﬁcial Intelligence, Asian Institute of Technology, \\nThailand \\n• Project on Computer Programming in Data Science \\n• Loan Fraud Prediction - The project utilize the Kaggle datasets for training the model. The output is the \\nclassiﬁcation problems on whether the customer will probably cause loan fraud or not.  \\n• Project on Machine Learning'),\n",
       "  Document(id='d369ef62-af95-4494-b7a8-acb370243967', metadata={'author': '', 'creationDate': \"D:20250310171528Z00'00'\", 'creator': 'Pages', 'file_path': \"Vorameth'sCV.pdf\", 'format': 'PDF 1.3', 'keywords': '', 'modDate': \"D:20250310171528Z00'00'\", 'page': 0, 'producer': 'macOS Version 15.3.1 (Build 24D70) Quartz PDFContext', 'source': \"Vorameth'sCV.pdf\", 'subject': '', 'title': \"Vorameth'sCV\", 'total_pages': 2, 'trapped': ''}, page_content='VORAMETH REANTONGCOME’s CV \\nEducation \\nBachelor of Science in Information and Communication Technology, Mahidol University - Graduated \\n(2019) \\n[Current Study]  - Master Degree in Data Science and Artiﬁcial Intelligence, Asian Institute of \\nTechnology, Thailand \\nExperience \\nAugust 2024 - Now \\n‣ Persuading Master Degree in Data Science and Artiﬁcial Intelligence, Asian Institute of Technology, \\nThailand \\n• Project on Computer Programming in Data Science \\n• Loan Fraud Prediction - The project utilize the Kaggle datasets for training the model. The output is the \\nclassiﬁcation problems on whether the customer will probably cause loan fraud or not.  \\n• Project on Machine Learning'),\n",
       "  Document(id='d4e821f0-f6da-44b0-ae8a-ed796fedcb4f', metadata={'author': '', 'creationDate': \"D:20250310171528Z00'00'\", 'creator': 'Pages', 'file_path': \"Vorameth'sCV.pdf\", 'format': 'PDF 1.3', 'keywords': '', 'modDate': \"D:20250310171528Z00'00'\", 'page': 1, 'producer': 'macOS Version 15.3.1 (Build 24D70) Quartz PDFContext', 'source': \"Vorameth'sCV.pdf\", 'subject': '', 'title': \"Vorameth'sCV\", 'total_pages': 2, 'trapped': ''}, page_content='• Exchanging cultural experience with other members in the lab \\nJune — August 2018 \\n‣ Internship, Bremen University; Bremen, Germany \\n• Using Tensor Flow for Prediction Users Behaviour \\n• Implementing Android application through Android Studio with Network Parameters \\n• Clearing and preparing data with Pandas library in Python \\n• Cultural and Knowledge Exchanging \\nJune — July 2016  \\n‣ Representative Participant in Asian Undergraduate Summit, National University Singapore, Singapore \\n- June to July 2016 \\n• Improving design and creative thinking skill through group discussion \\n• Being aware of disruptive changes from technology over businesses \\n• Acknowledging upcoming trends of business')]}"
      ]
     },
     "execution_count": 43,
     "metadata": {},
     "output_type": "execute_result"
    }
   ],
   "source": [
    "prompt_question = \"What is your highest level of education?\"\n",
    "answer = chain({\"question\":prompt_question})\n",
    "answer"
   ]
  },
  {
   "cell_type": "code",
   "execution_count": null,
   "metadata": {},
   "outputs": [],
   "source": []
  },
  {
   "cell_type": "code",
   "execution_count": null,
   "metadata": {},
   "outputs": [],
   "source": []
  }
 ],
 "metadata": {
  "kernelspec": {
   "display_name": "engenv_3_11",
   "language": "python",
   "name": "python3"
  },
  "language_info": {
   "codemirror_mode": {
    "name": "ipython",
    "version": 3
   },
   "file_extension": ".py",
   "mimetype": "text/x-python",
   "name": "python",
   "nbconvert_exporter": "python",
   "pygments_lexer": "ipython3",
   "version": "3.11.11"
  }
 },
 "nbformat": 4,
 "nbformat_minor": 4
}
