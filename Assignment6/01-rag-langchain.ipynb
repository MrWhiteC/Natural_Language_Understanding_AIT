{
 "cells": [
  {
   "attachments": {},
   "cell_type": "markdown",
   "metadata": {},
   "source": [
    "# Natural Language Processing\n",
    "\n",
    "# Retrieval-Augmented generation (RAG)\n",
    "\n",
    "RAG is a technique for augmenting LLM knowledge with additional, often private or real-time, data.\n",
    "\n",
    "LLMs can reason about wide-ranging topics, but their knowledge is limited to the public data up to a specific point in time that they were trained on. If you want to build AI applications that can reason about private data or data introduced after a model’s cutoff date, you need to augment the knowledge of the model with the specific information it needs.\n",
    "\n",
    "<img src=\"../figures/RAG-process.png\" >\n",
    "\n",
    "Introducing `ChakyBot`, an innovative chatbot designed to assist Chaky (the instructor) and TA (Gun) in explaining the lesson of the NLP course to students. Leveraging LangChain technology, ChakyBot excels in retrieving information from documents, ensuring a seamless and efficient learning experience for students engaging with the NLP curriculum.\n",
    "\n",
    "1. Prompt\n",
    "2. Retrieval\n",
    "3. Memory\n",
    "4. Chain"
   ]
  },
  {
   "cell_type": "code",
   "execution_count": 44,
   "metadata": {},
   "outputs": [],
   "source": [
    "# #langchain library\n",
    "# !pip3 install langchain==0.1.0\n",
    "# #LLM\n",
    "# !pip3 install accelerate==0.25.0\n",
    "# !pip3 install transformers==4.36.2\n",
    "# !pip3 install bitsandbytes==0.41.2\n",
    "# #Text Embedding\n",
    "# !pip3 install sentence-transformers==2.2.2\n",
    "# !pip3 install InstructorEmbedding==1.0.1\n",
    "# #vectorstore\n",
    "# !pip3 install pymupdf==1.23.8\n",
    "# !pip3 install faiss-gpu==1.7.2\n",
    "# !pip3 install faiss-cpu==1.7.4"
   ]
  },
  {
   "cell_type": "code",
   "execution_count": 45,
   "metadata": {},
   "outputs": [],
   "source": [
    "# !python3 -m pip install torch==2.0.1 transformers==4.35.0 langchain==0.1.11\n",
    "# !pip3 install protobuf==3.20.0"
   ]
  },
  {
   "cell_type": "code",
   "execution_count": 46,
   "metadata": {},
   "outputs": [
    {
     "data": {
      "text/plain": [
       "device(type='cpu')"
      ]
     },
     "execution_count": 46,
     "metadata": {},
     "output_type": "execute_result"
    }
   ],
   "source": [
    "import os\n",
    "import torch\n",
    "# Set GPU device\n",
    "# os.environ[\"CUDA_VISIBLE_DEVICES\"] = \"1\"\n",
    "\n",
    "# os.environ['http_proxy']  = 'http://192.41.170.23:3128'\n",
    "# os.environ['https_proxy'] = 'http://192.41.170.23:3128'\n",
    "\n",
    "device = torch.device('cuda' if torch.cuda.is_available() else 'cpu')\n",
    "device"
   ]
  },
  {
   "attachments": {},
   "cell_type": "markdown",
   "metadata": {},
   "source": [
    "## 1. Prompt\n",
    "\n",
    "A set of instructions or input provided by a user to guide the model's response, helping it understand the context and generate relevant and coherent language-based output, such as answering questions, completing sentences, or engaging in a conversation."
   ]
  },
  {
   "cell_type": "code",
   "execution_count": 47,
   "metadata": {},
   "outputs": [],
   "source": [
    "# from langchain import PromptTemplate\n",
    "\n",
    "# prompt_template = \"\"\"\n",
    "#     I'm your clone myself chatbot. You can ask anything according to yourself. Sometimes, it is ok to feel loss, but remember to speak to \n",
    "#     who might knock in a sane mind again. You can ask whether who you are ? what are your studies ? what are your interest ? what expertis areas ? \n",
    "#     No matter you feel uncomfortble, please reach out to me, ok ? \n",
    "#     {context}\n",
    "#     Question: {question}\n",
    "#     Answer:\n",
    "#     \"\"\".strip()\n",
    "\n",
    "# PROMPT = PromptTemplate.from_template(\n",
    "#     template = prompt_template\n",
    "# )\n",
    "\n",
    "# PROMPT\n",
    "# #using str.format \n",
    "# #The placeholder is defined using curly brackets: {} {}\n",
    "\n"
   ]
  },
  {
   "cell_type": "code",
   "execution_count": 48,
   "metadata": {},
   "outputs": [],
   "source": [
    "# PROMPT.format(\n",
    "#     context = \"Vorameth is interest in many areas for exmaple machine learning, cybersecurity, or even network programming.\",\n",
    "#     question = \"What are the areas that Vorameth interest in ? \"\n",
    "# )"
   ]
  },
  {
   "attachments": {},
   "cell_type": "markdown",
   "metadata": {},
   "source": [
    "Note : [How to improve prompting (Zero-shot, Few-shot, Chain-of-Thought, etc.](https://github.com/chaklam-silpasuwanchai/Natural-Language-Processing/blob/main/Code/05%20-%20RAG/advance/cot-tot-prompting.ipynb)"
   ]
  },
  {
   "attachments": {},
   "cell_type": "markdown",
   "metadata": {},
   "source": [
    "## 2. Retrieval\n",
    "\n",
    "1. `Document loaders` : Load documents from many different sources (HTML, PDF, code). \n",
    "2. `Document transformers` : One of the essential steps in document retrieval is breaking down a large document into smaller, relevant chunks to enhance the retrieval process.\n",
    "3. `Text embedding models` : Embeddings capture the semantic meaning of the text, allowing you to quickly and efficiently find other pieces of text that are similar.\n",
    "4. `Vector stores`: there has emerged a need for databases to support efficient storage and searching of these embeddings.\n",
    "5. `Retrievers` : Once the data is in the database, you still need to retrieve it."
   ]
  },
  {
   "attachments": {},
   "cell_type": "markdown",
   "metadata": {},
   "source": [
    "### 2.1 Document Loaders \n",
    "Use document loaders to load data from a source as Document's. A Document is a piece of text and associated metadata. For example, there are document loaders for loading a simple .txt file, for loading the text contents of any web page, or even for loading a transcript of a YouTube video.\n",
    "\n",
    "[PDF Loader](https://python.langchain.com/docs/modules/data_connection/document_loaders/pdf)\n",
    "\n",
    "[Download Document](https://web.stanford.edu/~jurafsky/slp3/)"
   ]
  },
  {
   "cell_type": "code",
   "execution_count": 49,
   "metadata": {},
   "outputs": [],
   "source": [
    "from langchain.document_loaders import PyMuPDFLoader,WebBaseLoader\n",
    "\n",
    "# nlp_docs = '../docs/pdf/SpeechandLanguageProcessing_3rd_07jan2023.pdf'\n",
    "\n",
    "nlp_docs = \"Vorameth'sCV.pdf\"\n",
    "\n",
    "web_loader_1 = WebBaseLoader(\"https://www.researchgate.net/profile/Vorameth-Reantongcome\")\n",
    "webs1 = web_loader_1.load()\n",
    "\n",
    "\n",
    "web_loader_2 = WebBaseLoader(\"https://www.linkedin.com/in/vorameth-reantongcome/\")\n",
    "webs2 = web_loader_2.load()\n",
    "\n",
    "\n",
    "pdf_loader = PyMuPDFLoader(nlp_docs)\n",
    "pdfs = pdf_loader.load()\n",
    "\n",
    "documents = pdfs + webs1 + webs2"
   ]
  },
  {
   "cell_type": "code",
   "execution_count": 50,
   "metadata": {},
   "outputs": [],
   "source": [
    "# documents"
   ]
  },
  {
   "cell_type": "code",
   "execution_count": 51,
   "metadata": {},
   "outputs": [
    {
     "data": {
      "text/plain": [
       "4"
      ]
     },
     "execution_count": 51,
     "metadata": {},
     "output_type": "execute_result"
    }
   ],
   "source": [
    "len(documents)"
   ]
  },
  {
   "cell_type": "code",
   "execution_count": 52,
   "metadata": {},
   "outputs": [
    {
     "data": {
      "text/plain": [
       "Document(metadata={'source': \"Vorameth'sCV.pdf\", 'file_path': \"Vorameth'sCV.pdf\", 'page': 1, 'total_pages': 2, 'format': 'PDF 1.3', 'title': \"Vorameth'sCV\", 'author': '', 'subject': '', 'keywords': '', 'creator': 'Pages', 'producer': 'macOS Version 15.3.1 (Build 24D70) Quartz PDFContext', 'creationDate': \"D:20250310171528Z00'00'\", 'modDate': \"D:20250310171528Z00'00'\", 'trapped': ''}, page_content='Assessed the website applications whether they contain any vulnerabilities which may lead to initial \\nattack process  \\n• Others \\nBeing a representative joining TB-CERT CyberCombat Event which was the competition about security \\nareas (CTF) \\nJune — August 2019 \\n‣ Internship, Nara Institute of Science and Technology; Nara, Japan \\n• Implementing Blockchain concept to secure multi-tenants cloud computing \\n• Using Trufﬂe framework to integrating the smart contract for ﬂowing the transaction on cloud \\n• Proving the concept with simulated tenants and virtual machines as the smart contract \\n• Exchanging cultural experience with other members in the lab \\nJune — August 2018 \\n‣ Internship, Bremen University; Bremen, Germany \\n• Using Tensor Flow for Prediction Users Behaviour \\n• Implementing Android application through Android Studio with Network Parameters \\n• Clearing and preparing data with Pandas library in Python \\n• Cultural and Knowledge Exchanging \\nJune — July 2016  \\n‣ Representative Participant in Asian Undergraduate Summit, National University Singapore, Singapore \\n- June to July 2016 \\n• Improving design and creative thinking skill through group discussion \\n• Being aware of disruptive changes from technology over businesses \\n• Acknowledging upcoming trends of business  \\n• Learning communication skills with English language \\n• Exchanging cultural experience with other members \\nAward and Certiﬁcation \\n• CompTIA CySA+  \\n• CompTIA Security+  \\n• Certiﬁed Ethical Hacker: CEH \\n• Computer Hacking Forensic Investigator \\n• 1st Runner of Final War competition in E-Business course 2018 \\n• ICDL IT Security Certiﬁcation 2018 \\n• Scholarship for Outstanding Years from Faculty of ICT 2017 \\nSkills \\nProgramming Language : C, Java, Python, HTML, JavaScript and PHP\\nTechnical Skill : Basic IoT device, Basic Router or Switch Conﬁguration, Network Programming, Network \\nManagement and Security Knowledge & Experience \\nProject During Undergraduate:  \\n• Senior Project about A Recommendation System for Information Security Standard based on \\nOrganization Context \\n• Database Design comply with Hotel domain \\n• Movie Searching with Youtube Google and Twitter API using PHP as backend and HTML as frontend\\n• Hotel System in C Programming Language \\n')"
      ]
     },
     "execution_count": 52,
     "metadata": {},
     "output_type": "execute_result"
    }
   ],
   "source": [
    "documents[1]"
   ]
  },
  {
   "attachments": {},
   "cell_type": "markdown",
   "metadata": {},
   "source": [
    "### 2.2 Document Transformers\n",
    "\n",
    "This text splitter is the recommended one for generic text. It is parameterized by a list of characters. It tries to split on them in order until the chunks are small enough"
   ]
  },
  {
   "cell_type": "code",
   "execution_count": 53,
   "metadata": {},
   "outputs": [],
   "source": [
    "from langchain.text_splitter import RecursiveCharacterTextSplitter\n",
    "\n",
    "text_splitter = RecursiveCharacterTextSplitter(\n",
    "    chunk_size = 700,\n",
    "    chunk_overlap = 100\n",
    ")\n",
    "\n",
    "doc = text_splitter.split_documents(documents)"
   ]
  },
  {
   "cell_type": "code",
   "execution_count": 54,
   "metadata": {},
   "outputs": [
    {
     "data": {
      "text/plain": [
       "Document(metadata={'source': \"Vorameth'sCV.pdf\", 'file_path': \"Vorameth'sCV.pdf\", 'page': 0, 'total_pages': 2, 'format': 'PDF 1.3', 'title': \"Vorameth'sCV\", 'author': '', 'subject': '', 'keywords': '', 'creator': 'Pages', 'producer': 'macOS Version 15.3.1 (Build 24D70) Quartz PDFContext', 'creationDate': \"D:20250310171528Z00'00'\", 'modDate': \"D:20250310171528Z00'00'\", 'trapped': ''}, page_content='• Project on Machine Learning  \\n• CO2 Emission Prediction - The project apply datasets from government open data website for \\npredicting the trend of CO2 emission from each natural resource. This project could help government \\nagency to predict the trend of CO2 based on controlled resource which could assist on policy \\nestablishment. \\n• Current Studying in Business Intelligence Analytics, Database Modeling and  Management, Data \\nEngineering and Machine Learning Operation, and Natural Language Understanding \\nJuly 2020 - July 2024 \\n‣ Employee, Bank of Thailand; Bangkok, Thailand \\n• Threat Hunter \\nProvided tools and guidelines for securely erasing the media to Help Desk for recycling purpose')"
      ]
     },
     "execution_count": 54,
     "metadata": {},
     "output_type": "execute_result"
    }
   ],
   "source": [
    "doc[1]"
   ]
  },
  {
   "cell_type": "code",
   "execution_count": 55,
   "metadata": {},
   "outputs": [
    {
     "data": {
      "text/plain": [
       "10"
      ]
     },
     "execution_count": 55,
     "metadata": {},
     "output_type": "execute_result"
    }
   ],
   "source": [
    "len(doc)"
   ]
  },
  {
   "attachments": {},
   "cell_type": "markdown",
   "metadata": {},
   "source": [
    "### 2.3 Text Embedding Models\n",
    "Embeddings create a vector representation of a piece of text. This is useful because it means we can think about text in the vector space, and do things like semantic search where we look for pieces of text that are most similar in the vector space.\n",
    "\n",
    "*Note* Instructor Model : [Huggingface](gingface.co/hkunlp/instructor-base) | [Paper](https://arxiv.org/abs/2212.09741)"
   ]
  },
  {
   "cell_type": "code",
   "execution_count": null,
   "metadata": {},
   "outputs": [
    {
     "name": "stderr",
     "output_type": "stream",
     "text": [
      "Downloading .gitattributes: 100%|██████████| 1.48k/1.48k [00:00<00:00, 2.90MB/s]\n",
      "Downloading config.json: 100%|██████████| 270/270 [00:00<00:00, 811kB/s]\n",
      "Downloading config.json: 100%|██████████| 116/116 [00:00<00:00, 378kB/s]\n",
      "Downloading pytorch_model.bin: 100%|██████████| 3.15M/3.15M [00:00<00:00, 40.9MB/s]\n",
      "Downloading README.md: 100%|██████████| 66.3k/66.3k [00:00<00:00, 21.8MB/s]\n",
      "Downloading config.json: 100%|██████████| 1.53k/1.53k [00:00<00:00, 4.47MB/s]\n",
      "Downloading (…)ce_transformers.json: 100%|██████████| 122/122 [00:00<00:00, 340kB/s]\n",
      "Downloading pytorch_model.bin: 100%|██████████| 1.34G/1.34G [00:16<00:00, 79.9MB/s]\n",
      "Downloading (…)nce_bert_config.json: 100%|██████████| 53.0/53.0 [00:00<00:00, 253kB/s]\n",
      "Downloading (…)cial_tokens_map.json: 100%|██████████| 2.20k/2.20k [00:00<00:00, 7.33MB/s]\n",
      "Downloading spiece.model: 100%|██████████| 792k/792k [00:00<00:00, 87.5MB/s]\n",
      "Downloading tokenizer.json: 100%|██████████| 2.42M/2.42M [00:00<00:00, 2.90MB/s]\n",
      "Downloading tokenizer_config.json: 100%|██████████| 2.41k/2.41k [00:00<00:00, 7.14MB/s]\n",
      "Downloading modules.json: 100%|██████████| 461/461 [00:00<00:00, 1.34MB/s]\n"
     ]
    },
    {
     "name": "stdout",
     "output_type": "stream",
     "text": [
      "load INSTRUCTOR_Transformer\n",
      "max_seq_length  512\n"
     ]
    }
   ],
   "source": [
    "import torch\n",
    "from langchain.embeddings import HuggingFaceInstructEmbeddings\n",
    "\n",
    "# model_name = 'hkunlp/instructor-base'\n",
    "\n",
    "# model_name = 'hkunlp/instructor-large'\n",
    "\n",
    "model_name = 'hkunlp/instructor-xl' \n",
    "\n",
    "embedding_model = HuggingFaceInstructEmbeddings(\n",
    "    model_name = model_name,\n",
    "    model_kwargs = {\"device\" : device}\n",
    ")"
   ]
  },
  {
   "attachments": {},
   "cell_type": "markdown",
   "metadata": {},
   "source": [
    "### 2.4 Vector Stores\n",
    "\n",
    "One of the most common ways to store and search over unstructured data is to embed it and store the resulting embedding vectors, and then at query time to embed the unstructured query and retrieve the embedding vectors that are 'most similar' to the embedded query. A vector store takes care of storing embedded data and performing vector search for you."
   ]
  },
  {
   "cell_type": "code",
   "execution_count": 57,
   "metadata": {},
   "outputs": [],
   "source": [
    "#locate vectorstore\n",
    "vector_path = 'vector-store/'\n",
    "if not os.path.exists(vector_path):\n",
    "    os.makedirs(vector_path)\n",
    "    print('create path done')\n",
    "\n",
    "vector_path_1 = 'vector-store-lance/'\n",
    "if not os.path.exists(vector_path_1):\n",
    "    os.makedirs(vector_path_1)\n",
    "    print('create path done')\n",
    "\n",
    "vector_path_2 = 'vector-store-chroma/'\n",
    "if not os.path.exists(vector_path_2):\n",
    "    os.makedirs(vector_path_2)\n",
    "    print('create path done')"
   ]
  },
  {
   "cell_type": "code",
   "execution_count": 58,
   "metadata": {},
   "outputs": [],
   "source": [
    "#save vector locally\n",
    "from langchain.vectorstores import FAISS,LanceDB\n",
    "from langchain_chroma import Chroma\n",
    "import lancedb\n",
    "\n",
    "vectordb = FAISS.from_documents(\n",
    "    documents = doc,\n",
    "    embedding = embedding_model\n",
    ")\n",
    "\n",
    "db_file_name = 'myself_db'\n",
    "\n",
    "vectordb.save_local(\n",
    "    folder_path = os.path.join(vector_path, db_file_name),\n",
    "    index_name = 'myself' #default index\n",
    ")\n",
    "db = lancedb.connect(os.path.join(vector_path_1,db_file_name)) \n",
    "lancedb_vectordb = LanceDB.from_documents(\n",
    "    documents=doc,\n",
    "    embedding=embedding_model,\n",
    "    connection=db\n",
    ")\n",
    "\n",
    "chroma_vectordb = Chroma.from_documents(\n",
    "    documents=doc,\n",
    "    embedding=embedding_model,\n",
    "    persist_directory=os.path.join(vector_path_2,db_file_name)  # Auto-saves\n",
    ")\n"
   ]
  },
  {
   "attachments": {},
   "cell_type": "markdown",
   "metadata": {},
   "source": [
    "### 2.5 retrievers\n",
    "A retriever is an interface that returns documents given an unstructured query. It is more general than a vector store. A retriever does not need to be able to store documents, only to return (or retrieve) them. Vector stores can be used as the backbone of a retriever, but there are other types of retrievers as well."
   ]
  },
  {
   "cell_type": "code",
   "execution_count": 59,
   "metadata": {},
   "outputs": [],
   "source": [
    "#calling vector from local\n",
    "vector_path = 'vector-store/'\n",
    "db_file_name = 'myself_db'\n",
    "\n",
    "from langchain.vectorstores import FAISS,LanceDB\n",
    "\n",
    "\n",
    "vectordb = FAISS.load_local(\n",
    "    folder_path = os.path.join(vector_path, db_file_name),\n",
    "    embeddings = embedding_model,\n",
    "    index_name = 'myself', #default index\n",
    "     allow_dangerous_deserialization=True\n",
    ")   \n",
    "\n",
    "\n",
    "db = lancedb.connect(os.path.join(vector_path_1,db_file_name))\n",
    "lancedb_vectordb = LanceDB(db, embedding_model) \n",
    "\n",
    "chroma_vectordb = Chroma(persist_directory=os.path.join(vector_path_2,db_file_name), embedding_function=embedding_model)\n",
    "\n"
   ]
  },
  {
   "cell_type": "code",
   "execution_count": 60,
   "metadata": {},
   "outputs": [],
   "source": [
    "retriever_lance = lancedb_vectordb.as_retriever()"
   ]
  },
  {
   "cell_type": "code",
   "execution_count": 61,
   "metadata": {},
   "outputs": [
    {
     "data": {
      "text/plain": [
       "[Document(metadata={'vector': [-0.02502445876598358, -0.0034657525829970837, 0.006577181164175272, -0.008705316111445427, 0.06328704953193665, 0.02537384442985058, 6.604092504858272e-06, 0.007962082512676716, -0.02222573384642601, 0.03402353450655937, 0.07538039982318878, 0.015868473798036575, 0.040676116943359375, 0.031328558921813965, -0.0328129343688488, 0.005361005663871765, -0.028232760727405548, 0.014216838404536247, -0.07135051488876343, 0.05967823043465614, 0.04327238351106644, -0.006288205739110708, -0.016745172441005707, 0.026805970817804337, 0.0011828792048618197, 0.009803695604205132, -0.018335435539484024, 0.033291298896074295, 0.027241138741374016, -0.03689233213663101, 0.020418157801032066, -0.0467941015958786, -0.0330510176718235, -0.03869451582431793, -0.018271291628479958, 0.018092583864927292, 0.021557476371526718, 0.0015609754482284188, 0.02207191288471222, 0.06375737488269806, -0.014497202821075916, 0.006873246282339096, 0.033117085695266724, -0.043388571590185165, 0.0573686845600605, -0.008702768012881279, -0.034995630383491516, -0.018825728446245193, 0.007517341524362564, 0.01717766933143139, -0.050016190856695175, -0.08859831094741821, -0.016427725553512573, 0.015180977992713451, 0.030362164601683617, -0.04164787009358406, -0.02030475251376629, 0.0014388026902452111, 0.04183336719870567, -0.06311224400997162, -0.004131716210395098, 0.004921898245811462, -0.0678725317120552, 0.01245688833296299, 0.05023539066314697, -0.07707609981298447, 0.03535202518105507, -0.036786168813705444, 0.03653034195303917, -0.005850016605108976, 0.04526464268565178, -0.0239292923361063, 0.012601337395608425, -0.05616980791091919, -0.022770822048187256, -0.031431324779987335, 0.029962079599499702, 0.03951725363731384, -0.05228061228990555, 0.05966009944677353, 0.002191500272601843, -0.00977207999676466, 0.04627916216850281, -0.01211587805300951, -0.01657664217054844, 0.045605916529893875, -0.025247275829315186, 0.013799166306853294, 0.006257957313209772, 0.06651407480239868, -0.041683271527290344, -0.029837917536497116, -0.018090687692165375, -0.028782768175005913, 0.006716733332723379, 0.0042729913257062435, 0.03910396620631218, 0.00015338390949182212, 0.012024534866213799, 0.0025528287515044212, 0.040707752108573914, 0.035086747258901596, -0.044681061059236526, 0.06765469163656235, -0.004587994422763586, -0.01627448946237564, -0.051230933517217636, -0.03184853866696358, -0.04114105924963951, 0.0015718117356300354, 0.02194884605705738, -0.05475578084588051, 0.008632446639239788, 0.027353769168257713, 0.012406682595610619, 0.003319421084597707, 0.04425939917564392, -0.0667482316493988, -0.051116786897182465, -0.05479331314563751, 0.039850395172834396, 0.028637045994400978, 0.007441642694175243, 0.006964306812733412, -0.02636435069143772, 0.0035982532426714897, -0.043938178569078445, -0.014412442222237587, -0.0005886870203539729, -0.004302153829485178, 0.0030230737756937742, 0.04122590273618698, -0.009597468189895153, -0.06384813785552979, 0.00010055374150397256, 0.04032263532280922, -0.05095693841576576, 0.028615793213248253, 0.007523705251514912, 0.055849235504865646, -0.05567797273397446, -0.049837905913591385, -0.01673027127981186, 0.03620103374123573, -0.018479637801647186, 0.006615797523409128, 0.07038865238428116, -0.041013117879629135, -0.01042705588042736, -0.039061687886714935, 0.04772922024130821, -0.05692158639431, -0.018424851819872856, 0.10949528962373734, 0.025185368955135345, 0.059824489057064056, -0.029557624831795692, 0.002353562042117119, 0.0027928503695875406, 0.020955290645360947, -0.011641555465757847, 0.0501936599612236, -0.006750741973519325, -0.004474146757274866, -0.04301179572939873, -0.019320178776979446, 0.007929821498692036, 0.09744276851415634, -0.04563437029719353, -0.03820619359612465, -0.0453348308801651, -0.009632549248635769, 0.06961489468812943, 0.042446233332157135, -0.033911027014255524, 0.034432753920555115, 0.06686639785766602, 0.05490855872631073, -0.05544249340891838, 0.029870042577385902, -0.016356103122234344, -0.061317332088947296, -0.01828065514564514, 0.021887637674808502, 0.0427188016474247, -0.061509862542152405, 0.01892409846186638, 0.056161314249038696, -0.006097353063523769, 0.0010599156375974417, -0.004591250326484442, 0.05130705609917641, -0.0023314182180911303, -0.01887345127761364, 0.01695888489484787, 0.015290775336325169, -0.024330338463187218, 0.04118700698018074, 0.0027059405110776424, -0.011013492941856384, -0.024732043966650963, 0.008095568977296352, 0.029294658452272415, 0.03397080674767494, 0.003682117210701108, 0.01834265887737274, -0.030123088508844376, 0.08010797947645187, -0.03575185686349869, 0.020706048235297203, -0.04884069412946701, -0.04563601315021515, 0.014355840161442757, 0.07925877720117569, 0.0141973365098238, 0.05331650748848915, -0.00376193062402308, -0.039678335189819336, 0.07411284744739532, 0.04009123146533966, 0.0649884045124054, 0.002230907091870904, -0.045486994087696075, -0.016127649694681168, 0.022265248000621796, 0.03547990322113037, -0.06456492841243744, -0.057094935327768326, 0.04404916986823082, 0.012632528319954872, -0.030163906514644623, -0.009122197516262531, -0.032802764326334, 0.029376232996582985, -0.04514273256063461, -0.06685510277748108, 0.0425870381295681, 0.019673816859722137, 0.008732866495847702, 0.01901773363351822, -0.0244535394012928, 0.008118890225887299, 0.04676263779401779, -0.0032100991811603308, -0.013385111466050148, -0.024313995614647865, -0.0033267925027757883, -0.02149398997426033, 0.05234731733798981, -0.020412404090166092, 0.06705892086029053, 0.019464870914816856, 0.004597920924425125, 0.042513031512498856, 0.011465136893093586, 0.03900854289531708, 0.061045266687870026, -0.014556399546563625, -0.01020208653062582, 0.019418083131313324, 0.004713424947112799, 0.04066462442278862, 0.05838613957166672, -0.005702802911400795, 0.049317631870508194, 0.04060088098049164, 0.05372774228453636, 0.05764203518629074, 0.009275310672819614, 0.03211977332830429, 0.018579812720417976, 0.0690288096666336, -0.013533035293221474, -0.01794246956706047, 0.038466088473796844, -0.04933135583996773, -0.0008701591286808252, -0.04058833792805672, -0.004303034394979477, -0.054566532373428345, -0.014110800810158253, 0.0540698766708374, 0.025700479745864868, 0.0035004504024982452, -0.005798157770186663, -0.028468851000070572, -0.027301562950015068, 0.044507209211587906, -0.006381271407008171, 0.01021491177380085, -0.04019923880696297, -0.02552790194749832, 0.03303709998726845, -0.05608762800693512, -0.008086029440164566, -0.015333157032728195, -0.06801357865333557, 0.03340914100408554, -0.09489595144987106, -0.010390759445726871, -0.08584870398044586, -0.06711870431900024, 0.03307891637086868, 0.0321747288107872, -0.018228180706501007, -0.04530470073223114, -0.0028763662558048964, -0.043718863278627396, -0.04439052566885948, -0.06662052869796753, -0.05780012533068657, -0.031245581805706024, -0.10525970906019211, 0.022027311846613884, 0.017864570021629333, 0.05053529515862465, 0.0018422423163428903, -0.0002604166802484542, -0.017084762454032898, -0.028577493503689766, 0.04040275886654854, 0.043098341673612595, -0.01391657255589962, -0.03909027576446533, 0.0300479494035244, -0.008990504778921604, 0.0119014298543334, -0.010956407524645329, -0.053161464631557465, 0.08231095969676971, 0.08072427660226822, 0.014224166050553322, 0.005480464082211256, 0.027493128553032875, -0.03848746046423912, -0.050979625433683395, -0.0004255539970472455, -0.04826010763645172, -0.025784170255064964, -0.013027805835008621, -0.04128342866897583, -0.00019580242224037647, -0.033805832266807556, -0.01168824266642332, -0.048459626734256744, -0.03907331824302673, 0.030353257432579994, 0.03405041992664337, 0.020023295655846596, 0.007835100404918194, -0.03218648210167885, -0.027301538735628128, 0.03935367241501808, 0.019362658262252808, -0.020771106705069542, -0.07138334959745407, -0.03577256202697754, 0.03889025002717972, 0.01927870884537697, 0.022887155413627625, -0.03572840988636017, 0.04561068117618561, 0.03022398240864277, -0.01150970347225666, -0.0147016029804945, -0.05615689978003502, -0.014482843689620495, -0.038421906530857086, -0.02751282788813114, -0.03300582244992256, -0.05165931209921837, -0.004322127439081669, -0.027886150404810905, 0.016041869297623634, -0.06244729831814766, -0.019448891282081604, -0.021403560414910316, 0.03155196085572243, 0.039500292390584946, 0.007178025785833597, -0.021664323285222054, 0.0015980720054358244, -0.06305564194917679, -0.028785165399312973, -0.0007869157125242054, 0.02179453708231449, 0.03291195631027222, 0.02179667353630066, 0.014012845233082771, -0.01680939830839634, 0.04354756325483322, 0.022035101428627968, 0.061039481312036514, 0.010551766492426395, -0.03644774481654167, 0.002054760465398431, 0.0028782354202121496, 0.03210737183690071, -0.012529009021818638, -0.0285051167011261, -0.06961054354906082, -0.08338507264852524, -0.011482582427561283, 0.008890438824892044, -0.013375748880207539, -0.02192527800798416, 0.06504558771848679, 0.012501944787800312, 0.0019638491794466972, -0.01717548631131649, -0.0025497041642665863, 0.05783837288618088, -0.07499297708272934, 0.0892268568277359, 0.014293155632913113, 0.02409777231514454, -0.05750012397766113, 0.0022082249633967876, -0.04822535812854767, -0.0063563003204762936, -0.036171991378068924, 0.07246687263250351, 0.03241689130663872, 0.04903845489025116, 0.07756312936544418, 0.006615255493670702, -0.045513954013586044, 0.04128533974289894, 0.04565078392624855, 0.003704667557030916, -0.02570282481610775, -0.021372629329562187, -0.005092926323413849, -0.020665453746914864, -0.010963074862957, -0.03602895885705948, 0.02076675184071064, 0.024921059608459473, -0.010235997848212719, 0.010365625843405724, 0.015199785120785236, -0.02960178628563881, -0.034406065940856934, -0.04205675050616264, -0.009657503105700016, -0.010336430743336678, -0.02010730281472206, 0.007640813942998648, 0.04900940880179405, 0.01931246556341648, 0.06504255533218384, 0.024684632197022438, -0.03738001734018326, -0.035617027431726456, 0.012671445496380329, 0.019876470789313316, -0.03621852397918701, -0.07437530159950256, -0.06499728560447693, 0.016300557181239128, 0.029036544263362885, -0.035177264362573624, -0.06349700689315796, 0.05749418959021568, 0.037505391985177994, -0.04750474542379379, 0.04720901697874069, 0.01326825562864542, 0.03856219723820686, 0.01797107607126236, -0.03168310225009918, 0.03140779212117195, -0.01838524267077446, -0.019908633083105087, -0.009564853273332119, 0.0069367121905088425, -0.020404795184731483, -0.021651525050401688, -0.06280272454023361, 0.03009163588285446, 0.03691858798265457, 0.03952481597661972, 0.0010376118589192629, -0.028184467926621437, -0.03199243173003197, -0.0047559672966599464, 0.024230098351836205, -0.03207932412624359, 0.0386662594974041, 0.05432211235165596, 0.012064456939697266, -0.06066766381263733, -0.03265734761953354, 0.025931688025593758, -0.039981909096241, 0.046274423599243164, -0.017882028594613075, -0.05904431268572807, -0.03298332542181015, 0.016482984647154808, -0.00699235824868083, -0.043964534997940063, -0.07199205458164215, 0.025349894538521767, -0.023265443742275238, -0.03117518126964569, 0.02954777702689171, 0.03349476307630539, 0.025473125278949738, 0.05134866386651993, 0.0128497164696455, 0.029390636831521988, -0.0462002158164978, 0.00041562787373550236, 0.0013813227415084839, -0.012839656323194504, -0.015966547653079033, -0.027367794886231422, -0.03959871083498001, -0.04874853789806366, -0.03556337207555771, -0.03574053943157196, -0.0052809324115514755, 0.010629554279148579, -0.018588321283459663, 0.024299057200551033, 0.019649237394332886, 0.029665453359484673, 0.002972839865833521, -0.03862803429365158, -0.03950860723853111, -0.02533387579023838, -0.04065767675638199, -0.013980880379676819, 0.012585136108100414, 0.012614740058779716, 0.004447722341865301, 0.014465351589024067, 0.013478411361575127, 0.01784818060696125, 0.024596327915787697, -0.05303625762462616, 0.053970981389284134, 0.02401006408035755, -0.019832268357276917, -0.017513887956738472, 0.02314452826976776, 0.04590446501970291, 0.013384043239057064, -0.04058374464511871, 0.007502095308154821, 0.015888093039393425, -0.008523543365299702, -0.006891670171171427, 0.03815489634871483, 0.024983752518892288, -0.027986356988549232, -0.02707945555448532, 0.005580150056630373, 0.004519948270171881, 0.041769422590732574, -0.0482625886797905, -0.01773877628147602, 0.005965982563793659, 0.013013984076678753, 0.031065061688423157, 0.01130098570138216, -0.056610312312841415, 0.039015159010887146, -0.006965831853449345, 0.03413370996713638, -0.03237626701593399, 0.052720800042152405, -0.015272610820829868, 0.013035598210990429, -0.022677408531308174, 0.0004696001124102622, -0.05403962358832359, 0.045693691819906235, -0.003269955050200224, -0.004003611858934164, -0.03990042582154274, 0.013028182089328766, -0.031219955533742905, 0.039517953991889954, -0.03704552352428436, -0.005985545460134745, -0.03973294049501419, 0.034991536289453506, -0.03281736001372337, 0.005886177532374859, 0.010378330945968628, -0.012864461168646812, -0.045889515429735184, -0.024962233379483223, -0.001982609275728464, -0.013143757358193398, 0.04422341659665108, 0.023404372856020927, 0.013238782994449139, 0.03706192970275879, -0.011322337202727795, -0.0029252683743834496, 0.02689799666404724, -0.05144058167934418, -0.02135850489139557, 0.007280743680894375, 0.013860240578651428, 0.029721196740865707, 0.04066900163888931, 0.053642451763153076, -0.04305703938007355, -0.03649906814098358, 0.0176052488386631, 0.0375271700322628, 0.023777764290571213, 0.013556432910263538, 0.021217897534370422, 0.059808894991874695, 0.05065380036830902, -0.022729165852069855, 0.00785056035965681, -0.008950809016823769, -0.019844239577651024, 0.011381971649825573, -0.0005407677381299436, 0.003068760968744755, -0.02637803740799427, -0.05628935992717743, -0.01546870544552803, 0.08591625094413757, 0.043898072093725204, 0.026271000504493713, -0.002634873380884528, -0.05566834658384323, 0.03563395142555237, 0.03347710520029068, -0.028901327401399612, 0.007675954606384039, -0.00039923895383253694, -0.009125379845499992, 0.06060660257935524, -0.030332522466778755, 0.03521542623639107, 0.04460056871175766, 0.035839177668094635, -0.02375258319079876, 0.0217580609023571, -0.05926667898893356, -0.008660479448735714, 0.02599993720650673, -0.07172204554080963, -0.01385791227221489, -0.01189415529370308, 0.057576343417167664, -0.07034882158041, 0.060932304710149765, 0.03378986567258835, -0.025744186714291573, 0.025914201512932777, -0.034915417432785034, -0.03080437146127224, 0.02365516871213913, -0.04465830326080322, 0.0707138329744339, -0.004096481017768383, -0.042253363877534866, 0.05719585344195366, 0.037502385675907135, -0.07230085134506226, 0.021640976890921593, -0.013644869439303875, -0.008609475567936897, -0.0028303000144660473, 0.03262387216091156, -0.03657154738903046, 0.015709824860095978, -0.02584473416209221, 0.05093395337462425, -0.066018246114254, -0.037913739681243896, 0.04435448721051216, -0.04416806250810623, -0.011246927082538605, 0.03397549316287041, -0.016719335690140724, 0.0026609222404658794, 0.04538411274552345, -0.05100593343377113, -0.06963714957237244, -0.03378038853406906, 0.040645912289619446, -0.01919647864997387, -0.00966512132436037, -0.03625882789492607, 0.01373897586017847, 0.023630062118172646, -0.014563092961907387, -0.007905226200819016, -0.011830952018499374, 0.026605956256389618, -0.04391887038946152, -0.020949125289916992, 0.06457527726888657, 0.0068182130344212055, -0.010060933418571949, 0.05112709477543831, -0.014685992151498795, -0.0036055853124707937, 0.004627840593457222, 0.0028545991517603397, -0.00017556398233864456, -0.06452696025371552, -0.00846811942756176, 0.04263155162334442, -0.02621297538280487, 0.055120691657066345, -0.042773567140102386, 0.046703439205884933, 0.05198189616203308, 0.005827497690916061, -0.015103356912732124, -0.02023318037390709, -0.03612164780497551, 0.020951544865965843, -0.0189498383551836, 0.044888511300086975, -0.0057310787960886955, -0.061266060918569565, -0.030099457129836082, 0.007260426413267851, -0.03604711592197418, 0.04329655319452286, -0.022023433819413185, 0.02281162701547146, 0.022465813905000687, 0.0263073667883873, -0.04114392027258873, -0.06336023658514023, -0.04414301738142967, -0.049308694899082184, 0.0101114921271801, 0.011486748233437538, -0.01574583724141121, 0.0033810646273195744, -0.0460868664085865, -0.03126056119799614, 0.041797373443841934, 0.002999252639710903, -0.04039289802312851, 0.03776155039668083, 0.0009984951466321945, 0.01045471616089344, 0.019239291548728943, 0.03989088162779808, -0.03815344348549843, 0.030574122443795204, 0.02931859716773033, -0.00174666044767946, 0.04128861427307129, 0.029126625508069992, -0.04743053764104843, -0.038014005869627, -0.06949103623628616, -0.010964161716401577, -0.009533279575407505, -0.005766496993601322, 0.05349024012684822], 'id': '611f1a42-4598-48de-b283-80bccd1b43aa', 'metadata': {'author': '', 'creationDate': \"D:20250310171528Z00'00'\", 'creator': 'Pages', 'file_path': \"Vorameth'sCV.pdf\", 'format': 'PDF 1.3', 'keywords': '', 'modDate': \"D:20250310171528Z00'00'\", 'page': 0, 'producer': 'macOS Version 15.3.1 (Build 24D70) Quartz PDFContext', 'source': \"Vorameth'sCV.pdf\", 'subject': '', 'title': \"Vorameth'sCV\", 'total_pages': 2, 'trapped': ''}, '_distance': 0.32068729400634766}, page_content='VORAMETH REANTONGCOME’s CV \\nEducation \\nBachelor of Science in Information and Communication Technology, Mahidol University - Graduated \\n(2019) \\n[Current Study]  - Master Degree in Data Science and Artiﬁcial Intelligence, Asian Institute of \\nTechnology, Thailand \\nExperience \\nAugust 2024 - Now \\n‣ Persuading Master Degree in Data Science and Artiﬁcial Intelligence, Asian Institute of Technology, \\nThailand \\n• Project on Computer Programming in Data Science \\n• Loan Fraud Prediction - The project utilize the Kaggle datasets for training the model. The output is the \\nclassiﬁcation problems on whether the customer will probably cause loan fraud or not.  \\n• Project on Machine Learning'),\n",
       " Document(metadata={'vector': [-0.021865392103791237, -0.018996253609657288, 0.011911083944141865, -0.01693143881857395, 0.020887071266770363, 0.016167111694812775, -0.014268986880779266, 0.02022363804280758, 0.0002301191707374528, 0.0316622219979763, 0.005927501246333122, -0.007467644289135933, 0.02062174864113331, 0.025704124942421913, -0.04733143001794815, -0.028742829337716103, -0.02564268931746483, 0.007128491532057524, -0.028577568009495735, -0.007949884980916977, 0.027522075921297073, 0.014211832545697689, -0.001023886608891189, 0.038042109459638596, -0.000929532980080694, 0.026594065129756927, -0.019240908324718475, 0.018744779750704765, 0.06324566900730133, -0.04850267618894577, -0.005993850529193878, -0.036121103912591934, -0.033517442643642426, -0.047142840921878815, -0.002435088623315096, 0.02097180299460888, 0.06004733592271805, 0.034221403300762177, 0.019358636811375618, 0.050729285925626755, -0.0007322618621401489, 0.03273246809840202, 0.02604573592543602, -0.042553577572107315, -0.011161256581544876, -0.02831842191517353, -0.04549802094697952, -0.025290556252002716, 0.018142249435186386, -0.050149716436862946, -0.06914602965116501, -0.05748790130019188, -0.0195111446082592, 0.007280510850250721, 0.020893342792987823, -0.03888028860092163, -0.016484888270497322, 0.02473868429660797, 0.03894593194127083, -0.04223674163222313, -0.013636457733809948, 0.026231402531266212, -0.07319239526987076, 0.012244408018887043, 0.03897710517048836, -0.08143296092748642, 0.03420102968811989, -0.06498478353023529, 0.03592805936932564, -0.020172791555523872, 0.020870447158813477, -0.04833029583096504, 0.016484064981341362, -0.07284321635961533, -0.0028707783203572035, -0.03712693229317665, 0.03935306519269943, 0.0706782117486, -0.04090643674135208, 0.03898908570408821, 0.005745085421949625, 0.007248593494296074, 0.05145041272044182, -0.020150654017925262, 0.007989559322595596, 0.020125241950154305, -0.023918217048048973, 0.017030106857419014, 0.024996165186166763, 0.017166977748274803, -0.031522978097200394, -0.02150859124958515, 0.007820125669240952, -0.01657017506659031, -0.0228895153850317, 0.02477925457060337, 0.04381280019879341, -0.01148256380110979, 0.04552386701107025, 0.03109363093972206, 0.047703277319669724, 0.036352094262838364, -0.027670959010720253, 0.0495564229786396, 0.0009473265381529927, -0.006657486315816641, -0.05663120001554489, -0.023346228525042534, -0.06270840764045715, 0.021465478464961052, -3.299426316516474e-05, -0.06720679998397827, 0.006211578380316496, 0.009809897281229496, 0.021849485114216805, 0.016310889273881912, 0.03993522748351097, -0.03842136636376381, -0.056237488985061646, -0.06804022938013077, 0.056124210357666016, 0.013643644750118256, -0.021718326956033707, 0.0027007097378373146, -0.06046309694647789, -0.0010328617645427585, -0.013023264706134796, -0.032258521765470505, 0.017178956419229507, -0.0004309338692110032, 0.007960781455039978, 0.052302148193120956, 0.016684850677847862, -0.043733250349760056, 0.003407115815207362, 0.007774839643388987, -0.060338519513607025, -0.0059023164212703705, 0.004029815085232258, 0.04732445627450943, -0.057579733431339264, -0.0561259463429451, -0.013728207908570766, -0.004578134976327419, -0.06086409464478493, 0.022915128618478775, 0.035267118364572525, -0.06502576917409897, -0.04969999939203262, -0.024754440411925316, 0.046063512563705444, -0.0661739632487297, -0.013334783725440502, 0.042471643537282944, -0.004088149406015873, 0.035422831773757935, -0.015942037105560303, 0.01769246906042099, -0.0034552777651697397, 0.028103230521082878, -0.022925686091184616, 0.04168657958507538, -0.0183023102581501, -0.003749395254999399, -0.05719973146915436, -0.04100903868675232, 0.02942969650030136, 0.05199549347162247, 0.0037576809991151094, -0.010048567317426205, -0.03948862850666046, 0.03521251305937767, 0.06326155364513397, 0.03829861059784889, -0.010617397725582123, 0.03788440302014351, 0.06874967366456985, 0.017965253442525864, -0.025651495903730392, 0.03753317520022392, -0.03065924160182476, -0.07431453466415405, -0.033948689699172974, 0.012190812267363071, 0.01856854371726513, -0.028209896758198738, -0.011370165273547173, 0.05113639310002327, 0.0029341678600758314, -0.041171371936798096, -0.01910015568137169, 0.0541868582367897, -0.027577051892876625, -0.01596619188785553, 0.05245209485292435, -0.010289730504155159, -0.03857386112213135, 0.046337489038705826, -0.01808829791843891, -0.02334240823984146, -0.038001760840415955, -0.013624133542180061, 0.02468041516840458, 0.007293418049812317, 0.008234144188463688, 0.02449827641248703, -0.0299107413738966, 0.09985252469778061, -0.03021341934800148, 0.028964780271053314, -0.01003482285887003, -0.04046105965971947, 0.014449655078351498, 0.040211066603660583, 0.06070194020867348, 0.06116500496864319, 0.016848204657435417, -0.02961569093167782, 0.03233283385634422, 0.034128788858652115, 0.02421572059392929, 0.023127004504203796, -0.03126699477434158, -0.02154345065355301, 0.009290697053074837, 0.04981086030602455, -0.03866405412554741, -0.06885766237974167, 0.021312108263373375, 0.05280689150094986, -0.023555727675557137, 0.060240503400564194, -0.01796400174498558, 0.020656367763876915, -0.05852863937616348, -0.025010187178850174, 0.014617533423006535, -0.0006879458669573069, 0.02098318189382553, -0.01320780161768198, -0.016591520980000496, 0.011296208016574383, 0.048214029520750046, 0.002915772143751383, 0.0017909979214891791, -0.03646792843937874, 0.006819071713835001, 0.013424498029053211, 0.0599578358232975, -0.0328371599316597, 0.061951249837875366, -0.0032138158567249775, -0.00649394141510129, 0.041826434433460236, -0.0352659672498703, 0.031006542965769768, 0.048000480979681015, -0.0007240555714815855, -0.00236597191542387, -0.003153680358082056, 0.006826522294431925, 0.020667048171162605, 0.02586309425532818, 0.008869470097124577, 0.11501773446798325, 0.01447337120771408, 0.05684001371264458, 0.07391941547393799, 0.01637212559580803, 0.010022236034274101, 0.040866538882255554, 0.06059356406331062, 0.0069549549371004105, -0.04983527585864067, 0.04049652814865112, -0.04644250124692917, 0.028050454333424568, -0.06697403639554977, -0.021228188648819923, -0.020920248702168465, -0.026029497385025024, 0.052623871713876724, -0.0014566692989319563, -0.015230590477585793, 0.0063985236920416355, -0.033996883779764175, -0.012992971576750278, -0.00552469352260232, -0.026555193588137627, 0.016655195504426956, -0.014478074386715889, -0.016235388815402985, 0.02402644231915474, -0.05704459175467491, 0.011330771259963512, -0.00795813649892807, -0.03421511501073837, 0.02147156186401844, -0.11383787542581558, -0.016544081270694733, -0.04698788747191429, -0.025226259604096413, 0.03760594502091408, 0.017192242667078972, -0.002847041003406048, -0.02038649655878544, 0.03343633562326431, 0.0019364411709830165, -0.007591206580400467, -0.06829719990491867, -0.0511043518781662, -0.028470538556575775, -0.08092670142650604, 0.018102839589118958, 0.0212483499199152, 0.046998195350170135, -0.0028905144426971674, -0.00012827321188524365, -0.07959697395563126, -0.02687472477555275, 0.032336823642253876, 0.0032623186707496643, -0.006875094957649708, -0.07081929594278336, 0.039362598210573196, 0.0008273337734863162, -0.014432625845074654, -0.018189899623394012, -0.03217378258705139, 0.07930448651313782, 0.047384485602378845, 0.0062706321477890015, 0.0004661732236854732, 0.01905832439661026, -0.06666933000087738, -0.03923451527953148, -0.025547504425048828, -0.034279100596904755, -0.03833603486418724, -0.032560739666223526, -0.020577412098646164, -0.0334671325981617, -0.046058107167482376, -0.057675741612911224, -0.03003598190844059, 0.02361134998500347, 0.004843273665755987, 0.0788777619600296, 0.031398698687553406, 0.006244509015232325, -0.05861295014619827, -0.06190870702266693, 0.05371836572885513, -0.028493883088231087, -0.019654186442494392, -0.07610532641410828, -0.05673648416996002, 0.03154648840427399, 0.01220543123781681, 0.0043755886144936085, -0.03460042178630829, 0.04788470268249512, 0.03839902952313423, 0.005910152103751898, 0.0013888095272704959, -0.014282220974564552, -0.03946532681584358, 0.02119525521993637, -0.04138192906975746, -0.034666307270526886, -0.05450787767767906, -0.002000782173126936, -0.023692958056926727, 0.04203508794307709, -0.04095512256026268, -0.05317714810371399, -0.01015092246234417, 0.015952089801430702, 0.04126264154911041, 0.025687849149107933, -0.017803305760025978, -0.03898070380091667, -0.05867152288556099, -0.04545298591256142, 0.019421210512518883, 0.025129294022917747, 0.003559981007128954, 0.051931120455265045, 0.019363636150956154, -0.024551786482334137, 0.04745502397418022, 0.00508774584159255, 0.0637870728969574, 0.03362336754798889, -0.01686529442667961, 0.010046835988759995, -0.0011766643729060888, -0.000859290303196758, 0.03317095339298248, -0.026517275720834732, -0.047945473343133926, -0.07001934945583344, -0.04526112973690033, 0.0428641140460968, 0.02653890661895275, -0.030771534889936447, 0.03359260410070419, 0.03324761614203453, -0.007761090528219938, 0.01724673993885517, 0.022020360454916954, 0.03906838595867157, -0.0746033787727356, 0.060550183057785034, -0.034806989133358, 0.029979361221194267, -0.01518271304666996, -0.02271634340286255, -0.018955491483211517, -0.007606152445077896, 0.024566613137722015, 0.06225798651576042, -0.020467020571231842, 0.05693420022726059, 0.07233130931854248, -0.008077195845544338, -0.02978987991809845, 0.01593753695487976, 0.05190358683466911, -0.03432302176952362, 0.0023915464989840984, 0.006850253790616989, 0.0049444236792624, -0.02481195516884327, -0.0046219839714467525, -0.04395508021116257, 0.0368470661342144, 0.050100162625312805, -0.009714305400848389, -0.006141677498817444, -0.01986919716000557, -0.019346361979842186, -0.029439158737659454, -0.07932718843221664, -0.00020753040735144168, 0.03168085590004921, 0.002389573259279132, 0.028125226497650146, 0.023413892835378647, 0.023263756185770035, 0.06616532802581787, 0.02627224288880825, -0.027750061824917793, -0.03475071117281914, 0.019237739965319633, 0.0007695550448261201, -0.03205722197890282, -0.09926183521747589, -0.02786966972053051, 0.007424537092447281, 0.018715137615799904, -0.019931571558117867, -0.056643109768629074, 0.022085463628172874, 0.07670953869819641, -0.05453120917081833, 0.06252114474773407, 0.02527451701462269, 0.02796509861946106, 0.046824246644973755, -0.03248545154929161, 0.028017856180667877, -0.02257971651852131, -0.01729349046945572, -0.03234381973743439, 0.0370667390525341, -0.016465865075588226, -0.01057677622884512, -0.0311153382062912, -0.01423051580786705, 0.026883386075496674, 0.04113827645778656, 0.045007772743701935, -0.04330100119113922, -0.020514944568276405, -0.02473154291510582, 0.034150462597608566, -0.03976821154356003, 0.03269600495696068, 0.03275206312537193, 0.017947642132639885, -0.010715911164879799, -0.07714042067527771, -0.008062105625867844, -0.001177359838038683, 0.05274956300854683, -0.03478378430008888, -0.04664216563105583, -0.044283427298069, 0.004570790100842714, -0.002522942842915654, -0.02563035674393177, -0.10661029815673828, 0.03979577496647835, -0.012585524469614029, -0.012963606975972652, 0.06394743919372559, 0.061871111392974854, 0.010633816011250019, 0.0757766142487526, 0.01025436632335186, 0.05046982690691948, -0.05752941966056824, 0.04550091177225113, -0.01971537433564663, -0.02276853285729885, 0.00034975691232830286, -0.0431286059319973, -0.01814441755414009, -0.024120725691318512, -0.02873809076845646, -0.0384584404528141, -0.0356525219976902, 0.028868427500128746, -0.0036666926462203264, 0.032634228467941284, 0.01955304853618145, 0.024283738806843758, -0.0016881568590179086, -0.04736890643835068, 0.006434445269405842, -0.005329975858330727, -0.12474808841943741, -0.021209808066487312, 0.029204899445176125, -0.00644724303856492, -0.007171260192990303, -0.012797466479241848, 0.018806705251336098, -0.014115829952061176, 0.030603986233472824, -0.029741020873188972, 0.03826119378209114, 0.009538352489471436, -0.034282609820365906, 0.006659114267677069, -0.01548201683908701, 0.005902609322220087, 0.031876832246780396, -0.01616118662059307, 0.032202254980802536, 0.014084442518651485, -0.025291182100772858, -0.03835591673851013, 0.03371310606598854, 0.03263521566987038, -0.06664808839559555, -0.020833849906921387, -0.028394900262355804, 0.0007837070152163506, 0.035586826503276825, 0.0025446689687669277, -0.029128368943929672, 0.06814008206129074, 0.02401150017976761, 0.011898750439286232, -0.008106272667646408, -0.04627663642168045, 0.027530822902917862, -0.01675083301961422, 0.01057535782456398, -0.01827923208475113, 0.014956384897232056, -0.02089705690741539, 0.013502384535968304, -0.04497651383280754, -0.004412428475916386, -0.047733575105667114, 0.019719906151294708, -0.016889963299036026, -0.008899339474737644, -0.030759023502469063, 0.01307172141969204, -0.03253963589668274, 0.0349724106490612, -0.006482305470854044, -0.0012544338824227452, -0.0495452880859375, 0.0031348804477602243, -0.03058796189725399, 0.005792248994112015, -0.020421629771590233, 0.003237782744690776, -0.02463381551206112, -0.01939881220459938, -0.006315831560641527, -0.05788634717464447, 0.019810618832707405, 0.03855418041348457, 0.01642383635044098, 0.04319268465042114, -0.02829497680068016, -0.03725007548928261, 0.04420047253370285, -0.03836512938141823, -0.0010982900857925415, -0.022640669718384743, 0.037198346108198166, 0.006758483592420816, 0.0241747684776783, 0.03071342036128044, -0.024555092677474022, -0.023506740108132362, 0.03653288260102272, 0.03977140411734581, -0.009078982286155224, 0.015730498358607292, 0.0094259949401021, 0.08476761728525162, 0.024078039452433586, -0.027316490188241005, -0.006311953067779541, -0.01842755451798439, -0.017648154869675636, 0.02557316981256008, -0.010727670975029469, 0.01467085536569357, -0.008875791914761066, -0.08271792531013489, -0.03829110041260719, 0.07979628443717957, 0.03544052690267563, 0.014719358645379543, -0.012606085278093815, -0.03876391053199768, 0.03085225820541382, 0.019082363694906235, -0.026930054649710655, 0.03813006728887558, 0.01218911912292242, -0.010616629384458065, 0.05439261347055435, 1.613917265785858e-05, -0.017539534717798233, 0.03314969688653946, 0.01864553615450859, -0.027075333520770073, 0.03669556975364685, -0.022556008771061897, -0.002117869444191456, 0.03156730532646179, -0.034423574805259705, 0.010440190322697163, -0.038571253418922424, 0.04449531435966492, -0.08598524332046509, 0.060492951422929764, 0.060233619064092636, -0.01576322130858898, -0.012986178509891033, -0.038635410368442535, -0.023183196783065796, 0.022405408322811127, -0.04008496552705765, 0.05396947264671326, -0.017983946949243546, -0.043996915221214294, 0.024989187717437744, 0.020000450313091278, -0.059716153889894485, 0.026596643030643463, 0.025597350671887398, 0.01929386332631111, 0.03765569254755974, 0.04758578538894653, -0.04873849079012871, 0.02737746201455593, -0.05322621017694473, 0.02772919461131096, -0.1017175242304802, 0.003645449411123991, 0.054611582309007645, -0.05955337733030319, -0.034833215177059174, 0.029872383922338486, -0.02986808679997921, 0.01264871098101139, 0.018194254487752914, -0.04958854988217354, -0.0593012273311615, -0.02232740819454193, 0.033245477825403214, -0.03206878527998924, 0.0068882727064192295, -0.03448648005723953, 0.010901588946580887, -0.004931699950248003, 0.016709022223949432, -0.0028099084738641977, -0.009909545071423054, -0.0187967699021101, -0.0442550964653492, 0.000318681268254295, 0.007245211862027645, -0.0007036696770228446, -0.007741015404462814, 0.0386684350669384, -0.03764370456337929, 0.032956983894109726, -0.02053374983370304, 0.03078906610608101, 0.002901579951867461, -0.053383927792310715, -0.014574053697288036, 0.029939452186226845, -0.005292195826768875, 0.00973188504576683, 0.0027827986050397158, 0.03255988657474518, 0.04098484292626381, -0.00023010688892100006, -0.004186302423477173, -0.031373489648103714, -0.042346157133579254, 0.03911648690700531, -0.05835431069135666, 0.046617861837148666, -0.01852967031300068, -0.06577876955270767, -0.058082468807697296, -0.026543719694018364, -0.014391940087080002, 0.030586423352360725, -0.030009523034095764, 0.006361054722219706, 0.0414155013859272, 0.014295090921223164, -0.0066795567981898785, -0.08212850242853165, -0.031153827905654907, -0.06368742138147354, 0.02655121497809887, 0.04892538860440254, -0.04506322368979454, -0.001927644363604486, -0.04846188426017761, -0.03415396809577942, 0.029632652178406715, 0.011660147458314896, -0.003932108636945486, 0.019510727375745773, 0.02336452715098858, -0.013100739568471909, 0.0006396459066309035, 0.053813133388757706, -0.06045432761311531, 0.058840978890657425, 0.03192669898271561, -0.0017663551261648536, 0.024160973727703094, 0.023793209344148636, -0.009949869476258755, 0.010865063406527042, -0.0762825459241867, -0.0044796401634812355, -0.025643935427069664, 0.021210554987192154, 0.08396175503730774], 'id': '53304c38-d9f2-4aff-b56d-9f64db8972aa', 'metadata': {'author': '', 'creationDate': \"D:20250310171528Z00'00'\", 'creator': 'Pages', 'file_path': \"Vorameth'sCV.pdf\", 'format': 'PDF 1.3', 'keywords': '', 'modDate': \"D:20250310171528Z00'00'\", 'page': 0, 'producer': 'macOS Version 15.3.1 (Build 24D70) Quartz PDFContext', 'source': \"Vorameth'sCV.pdf\", 'subject': '', 'title': \"Vorameth'sCV\", 'total_pages': 2, 'trapped': ''}, '_distance': 0.4591445326805115}, page_content='adjusting the SIEM rule for better detection on malicious activities  \\nMaintained security products for effectively functioned  \\n• Penetration Tester \\nTel: +66 (0) 86-002-1958  \\nGithub : https://github.com/MrWhiteC  \\nEmail: woramethr@gmail.com \\nAddress: 59/30, Alley 5, Po.Pasuk Village, \\nBaromrajjachonnani Road, Sala Thammasop Sub-'),\n",
       " Document(metadata={'vector': [-0.029086172580718994, -0.016170257702469826, -0.004156552255153656, -0.008719383738934994, 0.03467273712158203, 0.031130244955420494, -0.023916784673929214, 0.01219237595796585, -0.00401235232129693, 0.022920722141861916, 0.027092773467302322, 0.016193553805351257, 0.009039145894348621, 0.042776525020599365, -0.05524627864360809, -0.0016985890688374639, -0.018139487132430077, -0.00011017408542102203, -0.04452228173613548, 0.024908801540732384, 0.04093201458454132, -0.004607426002621651, -0.006232715677469969, 0.0482780821621418, -0.008421835489571095, 0.030083751305937767, -0.010634155012667179, 0.06959057599306107, 0.04494691267609596, -0.028707420453429222, -0.006047727540135384, -0.016768766567111015, -0.029043909162282944, -0.017286600545048714, -0.014947106130421162, 0.010847941040992737, 0.031400103121995926, 0.008133982308208942, 0.04634181782603264, 0.03351404890418053, 0.0035485404077917337, -0.018462659791111946, 0.026809411123394966, -0.03509179875254631, 0.017657790333032608, -0.011291294358670712, -0.04750062897801399, -0.035179972648620605, 0.018782787024974823, -0.026761362329125404, -0.040252141654491425, -0.06760933995246887, -0.02842465601861477, 0.013136060908436775, 0.013493150472640991, -0.05033416673541069, -0.008170798420906067, 0.022715553641319275, 0.06666438281536102, -0.05411935970187187, -0.05435703322291374, -0.0007619922980666161, -0.04569057747721672, 0.00640083709731698, 0.03301020711660385, -0.08580723404884338, 0.03619951382279396, -0.050528623163700104, 0.02169576846063137, -0.02513923868536949, -0.0016435949364677072, -0.04936569184064865, 0.03655090555548668, -0.07690788805484772, -0.012501746416091919, -0.03233687952160835, 0.05544617399573326, 0.04817243665456772, -0.033488884568214417, 0.0887441337108612, 0.027383752167224884, 0.006163166370242834, 0.02742130681872368, -0.01151094026863575, 0.011975866742432117, 0.014669626951217651, -0.06637211889028549, 0.018617777153849602, 0.03707492724061012, 0.039022330194711685, -0.03662768751382828, -0.010053133592009544, 0.012832791544497013, -0.012261704541742802, -0.02006310597062111, 0.014947120100259781, 0.03772241249680519, -0.00815360713750124, 0.01622881181538105, 0.024987660348415375, 0.02996063604950905, 0.023037465289235115, -0.02259114384651184, 0.04470505192875862, -0.004601384978741407, 0.0113323163241148, -0.06250927597284317, -0.03084692731499672, -0.043707769364118576, 0.012667686678469181, -0.0010605137795209885, -0.058984238654375076, -0.040329813957214355, 0.01282543782144785, 0.028370989486575127, -0.0010091642616316676, 0.026298541575670242, -0.03741903975605965, -0.03195536509156227, -0.03179088979959488, 0.0747423842549324, 0.025164568796753883, -0.010665759444236755, 0.0306377075612545, -0.03836921602487564, 0.00908740796148777, -0.05736766755580902, -0.01527623925358057, -0.01621026173233986, 0.01905946247279644, 0.017128994688391685, 0.029895156621932983, 0.04311785846948624, -0.05498239025473595, 0.020462917163968086, 0.008702381514012814, -0.08512555807828903, -0.009746847674250603, -0.014448896050453186, 0.06914813071489334, -0.0751873105764389, -0.06373798102140427, -0.01637718826532364, 0.020430486649274826, -0.02729015052318573, -0.0017934386851266026, 0.04008566588163376, -0.07524524629116058, -0.027399994432926178, -0.021979166194796562, 0.05035128444433212, -0.07691112905740738, -0.0046664876863360405, 0.05304879695177078, -0.0019080074271187186, 0.07095967233181, -0.031504902988672256, 0.020712366327643394, -0.02275514043867588, 0.02420066110789776, -0.029309850186109543, 0.022225946187973022, -0.02628515474498272, 0.0023394629824906588, -0.041391726583242416, -0.016930703073740005, 0.03295194357633591, 0.05223609507083893, -0.004230771213769913, -0.003807088825851679, -0.0463581308722496, 0.02061946503818035, 0.07932593673467636, 0.03337501734495163, -0.006630260497331619, 0.008124607615172863, 0.06971120834350586, 0.03803741931915283, -0.03162027895450592, 0.022541331127285957, -0.012667026370763779, -0.06475996971130371, -0.025785772129893303, -0.0003291800676379353, 0.022295940667390823, -0.037593066692352295, 0.01545613631606102, 0.0502958782017231, 0.013425401411950588, -0.019642142578959465, -0.027734849601984024, 0.04176204279065132, -0.018077300861477852, 0.0059540229849517345, 0.04190124198794365, 0.005958497524261475, -0.029960202053189278, 0.014318953268229961, -0.03602016717195511, -0.009267533197999, -0.03388629108667374, -0.007744995411485434, 0.021395225077867508, -0.00039000893593765795, 0.034234095364809036, 0.026287170127034187, 0.011472117155790329, 0.10745199024677277, -0.02492060698568821, 0.006535316817462444, -0.027513494715094566, -0.06650018692016602, -0.004197683185338974, 0.02446592226624489, 0.04191082715988159, 0.05580538883805275, 0.005351093132048845, -0.021196987479925156, 0.033823344856500626, 0.03762872517108917, 0.002680192468687892, 0.017304517328739166, -0.01086519192904234, -0.024261953309178352, 0.010463152080774307, 0.03582112491130829, -0.013594182208180428, -0.048787254840135574, 0.02296200394630432, 0.022810310125350952, -0.033639732748270035, 0.021857602521777153, -0.03825953230261803, 0.04894275590777397, -0.058976441621780396, -0.0389069989323616, 0.03553953766822815, 0.01883888617157936, -0.024339856579899788, 0.0050724828615784645, -0.0035468239802867174, -0.003652258077636361, 0.03388455882668495, -0.010907178744673729, 0.009572470560669899, -0.06460128724575043, 0.01912272721529007, 0.013055330142378807, 0.027941931039094925, -0.047502268105745316, 0.07125359773635864, 0.006035611964762211, 0.014111599884927273, 0.046645551919937134, -0.011728511191904545, 0.04895462095737457, 0.04326925426721573, -0.0051599470898509026, -0.011977361515164375, 0.007200546562671661, 0.024256471544504166, 0.04558097571134567, 0.04045412689447403, 0.022342339158058167, 0.10585782676935196, 0.01048525795340538, 0.014936934225261211, 0.06769929826259613, 0.01611223630607128, 0.01473606564104557, 0.06106388941407204, 0.03287076950073242, 0.003724708454683423, -1.78009122464573e-05, 0.027312828227877617, -0.046120788902044296, 0.03985537961125374, -0.059269942343235016, -0.008434643968939781, -0.042599696666002274, -0.03189241886138916, 0.05824437737464905, -0.005524151958525181, -0.023897312581539154, -0.01246779877692461, -0.06505876779556274, -0.04534193128347397, 0.007917501032352448, -0.045949798077344894, 0.029491428285837173, -0.019715920090675354, -0.035599999129772186, 0.019435126334428787, -0.038910843431949615, -0.00799358170479536, 0.006719428580254316, -0.04741000011563301, 0.007186471484601498, -0.1013079434633255, 0.007010564673691988, -0.05320877209305763, -0.03801120072603226, 0.024628156796097755, 0.0381767675280571, 0.006331214681267738, -0.05069131776690483, 0.010585743002593517, -0.017127426341176033, -0.05413416400551796, -0.06847308576107025, -0.069927878677845, -0.03677016869187355, -0.07380879670381546, -0.0006938943988643587, 0.04027273878455162, 0.027102943509817123, -0.012754707597196102, -0.0046782889403402805, -0.06623513251543045, -0.014815404079854488, 0.010844509117305279, 0.00451798178255558, -0.01584591716527939, -0.0799914002418518, 0.030342448502779007, -0.002579794032499194, 0.013729226775467396, -0.008437412790954113, -0.04795673489570618, 0.08660739660263062, 0.04150111600756645, 0.022950606420636177, 0.033854469656944275, 0.008248399943113327, -0.05903901159763336, -0.07215581089258194, -0.02206633985042572, -0.013468069955706596, -0.0523231141269207, -0.042052119970321655, -0.044968921691179276, -0.004282829817384481, -0.03055444546043873, -0.03235109522938728, -0.03775994852185249, -0.016004618257284164, 0.0075685433112084866, 0.03492386266589165, 0.028396837413311005, -0.0044419048354029655, -0.09504949301481247, -0.057314638048410416, 0.042676135897636414, 0.004557088017463684, -0.018947644159197807, -0.06308001279830933, -0.06970246136188507, 0.04510267451405525, 0.018970748409628868, 0.016825590282678604, 0.003333284053951502, 0.07454586774110794, 0.01790454424917698, 0.002769669983536005, 0.012546049430966377, -0.020953284576535225, -0.01686975732445717, -0.012331468053162098, -0.015280433930456638, -0.03890206292271614, -0.026791924610733986, 0.014360621571540833, -0.004101875703781843, 0.031507302075624466, -0.028503913432359695, -0.05013434961438179, -0.033764008432626724, 0.041139163076877594, 0.03933684155344963, 0.037300217896699905, -0.04661872610449791, -0.02114318124949932, -0.05239417403936386, -0.05362958833575249, 0.0070562162436544895, 0.027532100677490234, 0.012030758894979954, 0.03576318174600601, 0.043228860944509506, -0.014433375559747219, 0.06759558618068695, -0.009002594277262688, 0.054632335901260376, 0.028649915009737015, -0.05405953899025917, 0.002640678081661463, -0.00966919120401144, 0.01612461917102337, 0.013914099894464016, -0.008515584282577038, -0.06840058416128159, -0.0868220329284668, -0.03688704967498779, 0.05152733996510506, 0.0048749567940831184, -0.0111686447635293, 0.04910986125469208, -0.007976911030709743, -0.0038129575550556183, 0.002500644652172923, 0.008652317337691784, 0.0634990856051445, -0.061753690242767334, 0.0720553994178772, -0.03864780440926552, 0.02517123334109783, -0.06419956684112549, 0.007640153635293245, -0.00695823784917593, -0.003821847029030323, 0.018430065363645554, 0.06172238290309906, 0.013802782632410526, 0.03949512168765068, 0.06048177182674408, 0.016579926013946533, -0.043338704854249954, 0.021574467420578003, 0.04466857388615608, -0.048638664186000824, -0.011236537247896194, 0.008880499750375748, 0.0006201750366017222, -0.0206174124032259, 0.0010536197805777192, -0.010760541073977947, 0.03585178777575493, 0.05692562833428383, -0.0156937874853611, -0.008863325230777264, 0.012982294894754887, -0.027948575094342232, -0.018963966518640518, -0.05715160816907883, -0.011294545605778694, 0.026523232460021973, -0.018582124263048172, 0.025634106248617172, 0.022988559678196907, 0.009409167803823948, 0.049983058124780655, 0.028667831793427467, -0.0033293054439127445, -0.07725813239812851, 0.031215481460094452, -0.0010581344831734896, -0.03473455831408501, -0.052193544805049896, -0.036916736513376236, 0.005148790311068296, 0.03879006206989288, -0.03716696426272392, -0.08033609390258789, 0.03654536232352257, 0.06892237812280655, -0.056018631905317307, 0.06181933358311653, -0.001665725838392973, 0.013605068437755108, 0.03081204928457737, -0.020041128620505333, 0.033270400017499924, -0.029909715056419373, 0.013246746733784676, -0.009462766349315643, 0.032181404531002045, -0.015170113183557987, -0.03367875888943672, -0.03972748667001724, -0.01616629771888256, 0.04508722946047783, 0.0330500602722168, 0.05129293352365494, -0.03573830425739288, -0.025972502306103706, -0.04391494020819664, 0.04220259189605713, -0.03794512897729874, 0.03223956748843193, 0.03424425423145294, 0.023842748254537582, -0.06350752711296082, -0.028532644733786583, 0.02023899368941784, 0.004578676540404558, 0.041976626962423325, -0.036049529910087585, -0.03235111013054848, -0.034300122410058975, 0.025929825380444527, -0.008698847144842148, -0.026898926123976707, -0.08949204534292221, 0.02549935318529606, -0.025044851005077362, -0.010899302549660206, 0.05435987934470177, 0.0434245839715004, 0.018264735117554665, 0.053280167281627655, 0.005782114341855049, 0.03338627144694328, -0.0629294216632843, 0.010038547217845917, -0.007853537797927856, -0.01545962505042553, -0.011508239433169365, -0.05168205127120018, -0.02069716900587082, -0.05100233107805252, -0.034996241331100464, -0.04499904438853264, -0.0360897034406662, 0.034226760268211365, 0.006122942548245192, 0.030689820647239685, 0.0059952749870717525, 0.014351658523082733, -0.021674400195479393, -0.023953288793563843, 0.001290965243242681, -0.037117596715688705, -0.1169218122959137, -0.03375091776251793, 0.0454697348177433, -0.010688988491892815, 0.005407743621617556, -0.010939974337816238, 0.041698556393384933, -0.009905117563903332, 0.02700013481080532, -0.04116754233837128, 0.04280675947666168, 0.014023886993527412, -0.023103972896933556, -0.023191992193460464, 0.013189855962991714, 0.001110178418457508, 0.029151614755392075, -0.014263128861784935, 0.005394756328314543, 0.015755781903862953, 0.021228408440947533, -0.04438379034399986, 0.05901449918746948, 0.02708550915122032, -0.039767876267433167, -0.0443597286939621, -0.009837583638727665, 0.006570972036570311, 0.013769487850368023, -0.032132454216480255, -0.03711959719657898, 0.018150601536035538, 0.027661724016070366, 0.015559298917651176, -0.019275138154625893, -0.036851853132247925, 0.05152374505996704, -0.039943549782037735, 0.01335900742560625, -0.0057172649540007114, 0.0242692269384861, -0.011562207713723183, 0.005732021760195494, -0.02338610403239727, -0.014166361652314663, -0.04122963547706604, 0.05475769191980362, -0.006341799162328243, -0.013898201286792755, -0.03085712343454361, -0.017293062061071396, -0.01945844106376171, 0.03327673673629761, -0.03399992361664772, -0.014570769853889942, -0.04052701219916344, 0.03260261192917824, -0.022926660254597664, 0.013983543030917645, 0.004266334697604179, -0.007377978879958391, -0.05634688585996628, -0.014740122482180595, -0.027431249618530273, -0.041807688772678375, 0.015155646950006485, 0.05197782441973686, -0.009222906082868576, 0.023963965475559235, -0.024031702429056168, -0.04919731616973877, 0.038448721170425415, -0.05532865226268768, 0.018599824979901314, -0.014960619620978832, -0.005338333081454039, 0.0058300793170928955, 0.02271120622754097, 0.06833122670650482, -0.04459800198674202, -0.05187341570854187, 0.02717878483235836, 0.05273992940783501, 0.003419063054025173, 0.016610130667686462, -0.0014691961696371436, 0.052245818078517914, 0.0105764614418149, -0.02446661703288555, -0.0044464124366641045, -0.01082204096019268, -0.021127857267856598, 0.003341855015605688, -0.021710630506277084, 0.00027229965780861676, 0.014734060503542423, -0.03367384150624275, -0.02727612853050232, 0.062072087079286575, 0.030769946053624153, 0.031916435807943344, -0.03589189797639847, -0.033018603920936584, 0.03864474967122078, 0.0037455037236213684, -0.02734081819653511, -0.008867509663105011, 0.008331969380378723, -0.0064195916056632996, 0.1088145300745964, -0.007479483727365732, 0.0050753322429955006, 0.06393475085496902, 0.014610722661018372, -0.019969355314970016, 0.03048623912036419, -0.05017286539077759, -0.00807539839297533, 0.05675654485821724, -0.02480711042881012, 0.011212150566279888, -0.017751287668943405, 0.0613960437476635, -0.08352311700582504, 0.04841894283890724, 0.0485655702650547, -0.04129211977124214, 0.0009489880176261067, -0.014545234851539135, -0.04010891169309616, 0.004635288380086422, -0.045196156948804855, 0.0701262429356575, -0.03737865015864372, -0.058958254754543304, 0.06048867478966713, 0.03320138528943062, -0.07523300498723984, 0.025531955063343048, 0.01548096165060997, -0.02453702874481678, 0.031724538654088974, 0.05381299927830696, -0.047449637204408646, -0.0033201335463672876, -0.07626144587993622, 0.03419197350740433, -0.06155979260802269, -0.0237341970205307, 0.032730430364608765, -0.03900077939033508, -0.027239244431257248, 0.016005543991923332, -0.021605031564831734, 0.01779446378350258, -0.0019565941765904427, -0.06914760917425156, -0.03047182969748974, -0.0026621671859174967, 0.015771616250276566, -0.03768623247742653, -0.005095832049846649, -0.008486800827085972, 0.003059476613998413, -0.01001705788075924, -0.0031215427443385124, 0.00562274968251586, 0.0024365310091525316, -0.0087883984670043, -0.03357969969511032, -0.006279980298131704, 0.03117951937019825, -0.0077655320055782795, -0.02749752067029476, 0.01023036241531372, -0.01483059860765934, 0.016107331961393356, -0.01476797740906477, 0.026365667581558228, -0.007610177155584097, -0.05455755814909935, -0.04565834626555443, 0.04237750917673111, -0.006332403514534235, -0.012416786514222622, -0.000979624455794692, 0.027853699401021004, 0.05180754140019417, 0.0302765853703022, -0.0027158232405781746, 0.0019067518878728151, -0.027851112186908722, 0.03979811072349548, -0.03662800043821335, 0.012257861904799938, 0.008738718926906586, -0.07183060795068741, -0.052495796233415604, -0.04818782955408096, -0.014893739484250546, 0.0230678953230381, -0.007782915607094765, 0.03045162744820118, 0.05555655434727669, 0.03505611792206764, -0.045711301267147064, -0.07965429127216339, -0.0484277717769146, -0.04630301147699356, 0.038567934185266495, 0.03199270740151405, -0.03902585431933403, -0.01787378638982773, -0.039631035178899765, -0.04602427035570145, 0.04680744186043739, 0.030329234898090363, -0.02694633975625038, 0.005288389511406422, 0.0217254888266325, -0.007620345335453749, 0.027544857934117317, 0.06017123535275459, -0.02475237101316452, 0.02927459590137005, 0.051768556237220764, 0.010914048179984093, 0.021458566188812256, 0.038169506937265396, -0.0195827167481184, 0.02332485094666481, -0.009993097744882107, -0.04376381263136864, -0.023701926693320274, 0.014737235382199287, 0.05396253243088722], 'id': 'cc31dfd4-0767-4ea8-b207-22c79b1951ea', 'metadata': {'author': '', 'creationDate': \"D:20250310171528Z00'00'\", 'creator': 'Pages', 'file_path': \"Vorameth'sCV.pdf\", 'format': 'PDF 1.3', 'keywords': '', 'modDate': \"D:20250310171528Z00'00'\", 'page': 0, 'producer': 'macOS Version 15.3.1 (Build 24D70) Quartz PDFContext', 'source': \"Vorameth'sCV.pdf\", 'subject': '', 'title': \"Vorameth'sCV\", 'total_pages': 2, 'trapped': ''}, '_distance': 0.4656204283237457}, page_content='thousand communication trafﬁcs over the network. \\nLead the implementation of website gateway projects which help to prevent any malicious request from \\nWFH endpoints to bad actors  \\nExecuted threat hunting using the threat intelligence to proactively detecting for any malicious artifacts \\ninside the endpoints or servers \\nCoordinated and Planned with colleagues for building and creating the threat news platform in order to \\ndetect any incident in the Internet that may relate to organization  \\nAnalyzing the data from the phishing email in order to extract any pattern that might be useful to \\nadjusting the SIEM rule for better detection on malicious activities'),\n",
       " Document(metadata={'vector': [-0.027438722550868988, -0.006527750287204981, 0.032312389463186264, 0.03055466338992119, 0.03563094139099121, 0.03096972033381462, 0.0024598990567028522, 0.029980367049574852, -0.01990051195025444, 0.025276802480220795, 0.04556189477443695, -0.036765579134225845, 0.014171011745929718, 0.0822838619351387, 0.014347835443913937, -0.01560118142515421, -0.04415329918265343, -0.017384659498929977, -0.061668768525123596, -0.009786577895283699, 0.041703544557094574, 0.00572056183591485, 0.010676350444555283, 0.023332329466938972, -0.005470705684274435, 0.015665089711546898, -0.006037495099008083, 0.005712614860385656, 0.07075141370296478, -0.07786722481250763, -0.013026826083660126, -0.038902897387742996, -0.044841695576906204, -0.027802318334579468, -0.01020065601915121, 0.0328950397670269, -0.005176862236112356, 0.0033374608028680086, 0.01467909850180149, 0.037567950785160065, 0.00661925645545125, 0.0017010752344503999, 0.01978595182299614, -0.06830044835805893, 0.04113905504345894, -0.009512041695415974, -0.019627470523118973, -0.03254391625523567, -0.0007812166004441679, -0.009657001122832298, -0.04127819091081619, -0.08474766463041306, -0.012032038532197475, -0.013906117528676987, 0.03229115530848503, -0.03034684993326664, -0.07631459087133408, -0.011172587051987648, 0.0655967965722084, -0.05116357281804085, -0.02911158837378025, -0.001983224181458354, -0.062488097697496414, 0.007690942380577326, 0.008100208826363087, -0.03660222515463829, 0.033688489347696304, -0.025650953873991966, 0.024985134601593018, -0.054277803748846054, 0.020853059366345406, -0.019325993955135345, 0.024713367223739624, -0.0772675946354866, 0.0012655877508223057, -0.04866117238998413, 0.04253392666578293, 0.062344156205654144, -0.04212448373436928, 0.04005904123187065, 0.004617832601070404, 0.017873242497444153, 0.01591634936630726, -0.007108137011528015, -0.05126761272549629, 0.02716648019850254, -0.04974627494812012, 0.04096157103776932, -0.004518455825746059, 0.02889905869960785, -0.031132005155086517, -0.03790346905589104, -0.0409696027636528, -0.03275830298662186, -0.007972520776093006, 0.0317385271191597, 0.0427173413336277, 0.007575474213808775, 0.051859382539987564, 0.06449208408594131, 0.033040739595890045, 0.04390264302492142, -0.022319534793496132, 0.028825603425502777, 0.0006666350527666509, 0.0019381934544071555, -0.02686152793467045, -0.020354565232992172, -0.09551998227834702, 0.02340773120522499, 0.003357264678925276, 0.01228636410087347, -0.028265200555324554, 0.021145833656191826, 0.01970767416059971, 0.0008122975705191493, 0.06250123679637909, -0.04141783341765404, -0.030958494171500206, -0.03664897754788399, 0.04970734566450119, 0.057553891092538834, 0.016475005075335503, 0.0013519938802346587, -0.04176179692149162, 0.04117409884929657, -0.020053833723068237, -0.034721121191978455, -0.025568168610334396, -0.007374532986432314, 0.02401004359126091, 0.027084430679678917, 0.0575663223862648, -0.04615378752350807, 0.04753991216421127, 0.010270796716213226, -0.03353544697165489, 0.013609975576400757, -0.00016415810387115926, 0.0838203877210617, -0.0424620695412159, -0.05370314046740532, -0.03255978599190712, 0.007619341369718313, -0.023777175694704056, 0.013428758829832077, -0.02228536456823349, -0.0512581467628479, -0.051260143518447876, -0.00967255886644125, 0.024631386622786522, -0.0583450049161911, -0.04233125224709511, 0.06467156857252121, -0.024940503761172295, 0.044332072138786316, -0.01725386083126068, 0.014529717154800892, -0.014255492947995663, 0.002770554507151246, -0.02383437566459179, 0.03304385393857956, -0.0187306459993124, -0.0006758287199772894, -0.05257999151945114, -0.04186985269188881, 4.639751205104403e-05, 0.08012469112873077, -0.012197906151413918, -0.03538281470537186, -0.06197166070342064, 0.02921716496348381, 0.05267050862312317, 0.0108751580119133, -0.03152253106236458, 0.026762932538986206, 0.015418610535562038, 0.02780398540198803, -0.040711477398872375, 0.07050540298223495, 0.012610389851033688, -0.033931031823158264, -0.05784795805811882, 0.01152123138308525, 0.04270268231630325, -0.048483699560165405, -0.015572997741401196, 0.02621833048760891, 0.03358325734734535, -0.003742031753063202, -0.04051903635263443, 0.02492479421198368, -0.011865530163049698, 0.0015700298827141523, 0.06186475232243538, -0.016826508566737175, -0.03415937349200249, 0.03072838857769966, -0.05204657465219498, -0.01848747581243515, -0.02690579928457737, -0.02062334306538105, 0.03846283257007599, 0.011632929556071758, 0.01970912329852581, 0.029211031273007393, -0.009762725792825222, 0.08847008645534515, -0.038339897990226746, -0.019429145380854607, -0.040802836418151855, -0.06191926822066307, -0.011103660799562931, 0.052863121032714844, 0.046769436448812485, 0.04202985018491745, -0.01409525703638792, -0.05210701748728752, 0.038465578109025955, 0.054428957402706146, 0.06731937825679779, -0.004022850655019283, -0.0528247095644474, -0.007497150916606188, 0.0191402155905962, 0.032868362963199615, -0.04002401605248451, -0.02797354757785797, 0.01649993658065796, 0.036881908774375916, -0.02459503896534443, 0.055775824934244156, -0.0077717965468764305, 0.01601128652691841, -0.048443503677845, -0.059074029326438904, 0.01296041626483202, 0.02613329142332077, -0.0004243761068210006, 0.03449074923992157, -0.004523573908954859, 0.018551623448729515, 0.028520265594124794, 0.01303106639534235, 0.016967013478279114, -0.050711967051029205, 0.02578076347708702, -0.04019324108958244, 0.08755779266357422, -0.04810069501399994, 0.051791559904813766, 0.017525192350149155, -0.018240947276353836, 0.03961649164557457, -0.01937716268002987, 0.006325501017272472, 0.037042535841464996, 0.05722597613930702, -0.033973660320043564, 0.011653667315840721, 0.03454294800758362, 0.016724854707717896, 0.05862797051668167, 0.00995083712041378, 0.0887804627418518, -0.025648988783359528, 0.0588219091296196, 0.06269025802612305, -0.0060837590135633945, 0.0020765417721122503, 0.039444319903850555, 0.04156048968434334, -0.028837136924266815, -0.01422171387821436, 0.028684314340353012, -0.0598774254322052, 0.010475345887243748, 0.011609266512095928, 0.008682905696332455, -0.006583319511264563, -0.0192559901624918, 0.04835173487663269, -0.009529434144496918, -0.051587656140327454, 0.02252895198762417, -0.02964390069246292, -0.02279365062713623, 0.00926217995584011, 0.007882525213062763, 0.0013451161794364452, -0.016937658190727234, -0.06127065420150757, 0.03206203132867813, -0.06609296053647995, -0.002607871312648058, -0.020668262615799904, -0.05931347608566284, -0.019239112734794617, -0.10436736047267914, -0.006690552458167076, -0.038662269711494446, -0.04066051170229912, 0.04959427937865257, 0.02371041104197502, 0.04473501816391945, -0.031028660014271736, 0.008423526771366596, -0.02675025723874569, -0.035885680466890335, -0.03592203930020332, -0.049008507281541824, -0.027517421171069145, -0.031729649752378464, 0.029743460938334465, 0.03189003840088844, 0.00927442405372858, 0.0284573994576931, -0.01496953796595335, -0.0362832136452198, -0.016394592821598053, 0.05731508508324623, 0.07109291106462479, -0.029319101944565773, -0.06350846588611603, -0.005692275706678629, -0.008956381119787693, 0.00995838176459074, -0.046316616237163544, 0.0005236128927208483, 0.07977773994207382, 0.048585887998342514, 0.03223959729075432, 0.012147760018706322, 0.008225752972066402, -0.022377807646989822, -0.033401891589164734, -0.03995122015476227, -0.05608097463846207, -0.047830332070589066, -0.0406896248459816, -0.001920843031257391, -0.026689596474170685, -0.04503052681684494, -0.022051405161619186, -0.00623437762260437, 0.006919728126376867, 0.03428913652896881, 0.04918859899044037, 0.04241226240992546, 0.03146565333008766, -0.030085375532507896, -0.06568372994661331, 0.045813463628292084, -0.052908118814229965, -0.037220586091279984, -0.048417504876852036, -0.02533828094601631, 0.010924121364951134, 0.029164636507630348, 0.009764510206878185, -0.05326006934046745, 0.061773546040058136, 0.010656991973519325, -0.017467280849814415, 0.016027705743908882, -0.02733365260064602, 0.011769536882638931, 0.0005621943273581564, -0.030848445370793343, -0.026297779753804207, -0.028917230665683746, 0.004209426697343588, 0.0077493018470704556, 0.05495396628975868, -0.047854360193014145, -0.04779128357768059, -0.03190223127603531, -0.01229807548224926, 0.029471348971128464, 0.034544989466667175, -0.026016563177108765, -0.013664900325238705, -0.04506140574812889, -0.012008044868707657, 0.039508260786533356, -0.0007253392832353711, 0.029605237767100334, 0.02220127359032631, 0.04983823373913765, 0.0075618731789290905, 0.04460645094513893, 0.007380686234682798, 0.0329495333135128, 0.04621865227818489, -0.044555872678756714, 0.029367363080382347, -0.01940760761499405, 0.032050084322690964, 0.03192232921719551, -0.018194835633039474, -0.061947111040353775, -0.07149945944547653, -0.032663051038980484, 0.029253436252474785, -0.004043556284159422, 0.0056477622129023075, 0.04783490300178528, -0.011933987960219383, -0.0002577790291979909, 0.002139630261808634, -0.004035533871501684, 0.05542660504579544, -0.007273586466908455, 0.03392178565263748, -0.015713781118392944, 0.013208444230258465, -0.008120302110910416, 0.01112632267177105, -0.030011793598532677, -0.02431928925216198, 0.0035626490134745836, 0.06654092669487, -0.008591590449213982, 0.0402851402759552, 0.04118019714951515, 0.012926552444696426, -0.02517480030655861, 0.04299130290746689, 0.052411455661058426, -0.02082625962793827, 0.00890282541513443, -0.0013156519271433353, -0.04008517414331436, -0.036919187754392624, 0.011019856669008732, -0.010094363242387772, 0.03194769471883774, 0.031208369880914688, -0.021311404183506966, -0.013106117956340313, 0.0035806698724627495, -0.0015178108587861061, -0.030637511983513832, -0.06200092285871506, 0.009522431530058384, -0.03226107358932495, 0.00012978111044503748, -0.001937497523613274, 0.04685257375240326, 0.024101119488477707, 0.09069628268480301, 0.02465911954641342, -0.03526129946112633, -0.06518509984016418, 0.027517002075910568, 0.022889593616127968, -0.033042434602975845, -0.060098797082901, -0.06458074599504471, 0.04227663204073906, 0.043359652161598206, -0.011112157255411148, -0.03862917423248291, 0.04109589010477066, 0.03224778547883034, -0.04549761489033699, 0.04897758737206459, 0.034424491226673126, 0.03806248679757118, 0.021286752074956894, 0.006830798462033272, 0.018845312297344208, -0.05230249837040901, 0.009081006981432438, 0.002567774849012494, 0.04974856972694397, -0.04027654975652695, -0.03282465040683746, -0.06527222692966461, 0.025866765528917313, 0.005028851330280304, 0.032326530665159225, 0.05267573148012161, -0.0587170235812664, -0.04414273798465729, -0.045577045530080795, 0.057547714561223984, -0.02696509100496769, 0.033318690955638885, 0.015747245401144028, 0.037824392318725586, -0.04942414164543152, -0.025376474484801292, 0.001424705027602613, -0.012475051917135715, 0.0371331125497818, -0.02972511574625969, -0.02609267085790634, -0.055529508739709854, 0.026220791041851044, 0.04432767257094383, -0.03374531865119934, -0.08841600269079208, 0.056238964200019836, -0.02051316201686859, -0.04656338319182396, 0.01827322505414486, 0.011645362712442875, 0.031593360006809235, 0.07889969646930695, 0.016420694068074226, -0.006284439470618963, 0.022554811090230942, 0.0019511595601215959, -0.060297198593616486, -0.03111056424677372, -0.023032553493976593, -0.07057362049818039, -0.04119925945997238, -0.05559723824262619, -0.05138903483748436, -0.04845098406076431, -0.010979951359331608, 0.06077182665467262, -0.06550504267215729, 0.020405268296599388, -0.003367299446836114, 0.012528635561466217, 0.022352466359734535, -0.011485510505735874, -0.02121070586144924, 0.0075035057961940765, -0.08146488666534424, -0.0386471301317215, 0.06785137206315994, -0.02213152125477791, 0.021125756204128265, -0.02676020748913288, 0.03393411636352539, 0.046066444367170334, 0.00720329862087965, -0.034451067447662354, 0.002083070343360305, 0.03333526477217674, -0.04141034185886383, -0.00934610702097416, 0.0061646681278944016, 0.02978445775806904, 0.023878199979662895, -0.04123447835445404, 0.026214564219117165, 0.013182342983782291, -0.02769462764263153, -0.03590413182973862, 0.05376097932457924, -0.024917511269450188, -0.05572523549199104, -0.03457101434469223, 0.016796287149190903, 0.006261680740863085, 0.043968722224235535, -0.06323651969432831, -0.013460593298077583, -0.00018251221626996994, 0.042404670268297195, 0.034106362611055374, -0.020030582323670387, -0.04512002691626549, 0.04299379140138626, -0.03206882253289223, 0.008558008819818497, -0.056145600974559784, 0.03492339700460434, -0.02826721780002117, -0.001312126754783094, 0.01723967306315899, 0.00694433506578207, -0.06814322620630264, 0.05310182645916939, -0.0715130865573883, -0.019494954496622086, 0.026028083637356758, 0.04036485403776169, -0.008527505211532116, 0.0055094207637012005, -0.008846715092658997, 0.026800205931067467, -0.04166791960597038, 0.012793191708624363, -0.029381752014160156, 0.009069045074284077, -0.026374822482466698, 0.023313574492931366, -0.05295061320066452, -0.028661752119660378, -0.030917977914214134, -0.031197017058730125, 0.023357423022389412, 0.0487658753991127, 0.01909932680428028, 0.0022051248233765364, -0.008857636712491512, -0.014135031960904598, 0.006780317518860102, -0.05247722938656807, -0.009660309180617332, -0.0084440428763628, 0.0008144670282490551, 0.019932888448238373, 0.010833997279405594, 0.031751055270433426, -0.046893373131752014, -0.0284538883715868, 0.062198247760534286, 0.02938167192041874, 0.0035918024368584156, 0.0003082302864640951, 0.0040665860287845135, 0.054591432213783264, 0.0321141816675663, -0.0012503440957516432, -0.013405447825789452, -0.016501154750585556, 0.009523427113890648, -0.06630511581897736, -0.02357671596109867, 0.005422805901616812, 0.008301927708089352, -0.030475705862045288, -0.009610333479940891, 0.06467632204294205, 0.016351424157619476, 0.02511795610189438, 0.01819584146142006, -0.045104045420885086, 0.029485469684004784, 0.017833182588219643, -0.026990680024027824, 0.048228856176137924, 0.04019292816519737, -0.00864636991173029, 0.06716311722993851, -0.009678401052951813, 0.017775189131498337, 0.03187667205929756, 0.02651791460812092, 0.006305885035544634, 0.018450232222676277, -0.04871450737118721, -0.02680552937090397, 0.04664890095591545, -0.051308438181877136, -0.009377064183354378, -0.007134182378649712, 0.07339680939912796, -0.052492521703243256, 0.09301821887493134, 0.031127477064728737, 0.0045136441476643085, 0.02118663117289543, -0.07142454385757446, -0.0009147969540208578, -0.0024175033904612064, -0.04006778448820114, 0.020986028015613556, -0.015809442847967148, -0.0674317479133606, 0.035409413278102875, 0.03232239559292793, -0.058935537934303284, 0.021533599123358727, 0.04348783940076828, 0.01196148619055748, 0.03835604712367058, 0.04176010191440582, -0.04396260902285576, 0.005170425865799189, -0.05516975000500679, 0.024285301566123962, -0.035770148038864136, -0.028102699667215347, 0.02971751242876053, -0.002812955528497696, -0.0035876815672963858, 0.017027921974658966, 0.013610415160655975, 0.017291121184825897, 0.02620428241789341, -0.07052969187498093, -0.028199901804327965, -0.014109466224908829, 0.03226251155138016, 0.011271556839346886, -0.0008241507457569242, -0.0044981385581195354, 0.029926521703600883, 0.0014199042925611138, -0.015077687799930573, -0.001563238212838769, 0.03796107694506645, -0.00627222890034318, -0.08178693801164627, -0.013195984065532684, 0.0300869382917881, -0.01911107450723648, 0.006651306990534067, 0.02015927992761135, -0.012116976082324982, 0.030322076752781868, 0.02762213908135891, 0.0018890232313424349, 0.005099634639918804, -0.035039305686950684, -0.027545595541596413, -0.02690582536160946, 0.0034278230741620064, 0.05645372346043587, -0.008410289883613586, 0.011702040210366249, 0.029822904616594315, 0.028559185564517975, 0.027087155729532242, -0.0511479414999485, -0.03120165504515171, 0.02117702178657055, -0.022968722507357597, 0.039782293140888214, -0.02580239623785019, -0.034028954803943634, -0.0544636994600296, -0.024335745722055435, 0.0063204411417245865, 0.01946417987346649, -0.027279328554868698, 0.02912156656384468, 0.024433718994259834, 0.05548978969454765, -0.04186170920729637, -0.0816732868552208, -0.027627792209386826, -0.020374242216348648, 0.047318845987319946, 0.0383271649479866, -0.03092999756336212, 0.012848676182329655, -0.04159145802259445, -0.04517298936843872, 0.05422759801149368, -0.010979576967656612, -0.03287062793970108, 0.032845720648765564, 0.026189984753727913, -0.011078618466854095, 0.03211904317140579, 0.057241495698690414, -0.05227414146065712, 0.03518820181488991, 0.034917742013931274, 0.018208716064691544, 0.03949539363384247, 0.04503549635410309, -0.017146099358797073, -0.028773751109838486, -0.027621114626526833, -0.031382378190755844, -0.014604974538087845, 0.04931853711605072, 0.02365783043205738], 'id': '81df045d-17f7-4559-b22e-f3bd76b9cf62', 'metadata': {'author': None, 'creationDate': None, 'creator': None, 'file_path': None, 'format': None, 'keywords': None, 'modDate': None, 'page': None, 'producer': None, 'source': 'https://www.researchgate.net/profile/Vorameth-Reantongcome', 'subject': None, 'title': None, 'total_pages': None, 'trapped': None}, '_distance': 0.46996811032295227}, page_content='error code: 1020')]"
      ]
     },
     "execution_count": 61,
     "metadata": {},
     "output_type": "execute_result"
    }
   ],
   "source": [
    "retriever_lance.get_relevant_documents(\"Vorameth\")"
   ]
  },
  {
   "cell_type": "code",
   "execution_count": 62,
   "metadata": {},
   "outputs": [],
   "source": [
    "retriever_chroma = chroma_vectordb.as_retriever()"
   ]
  },
  {
   "cell_type": "code",
   "execution_count": 63,
   "metadata": {},
   "outputs": [
    {
     "data": {
      "text/plain": [
       "[Document(id='d7a9c0f1-a509-40f2-97af-bcef897741d7', metadata={'author': '', 'creationDate': \"D:20250310171528Z00'00'\", 'creator': 'Pages', 'file_path': \"Vorameth'sCV.pdf\", 'format': 'PDF 1.3', 'keywords': '', 'modDate': \"D:20250310171528Z00'00'\", 'page': 0, 'producer': 'macOS Version 15.3.1 (Build 24D70) Quartz PDFContext', 'source': \"Vorameth'sCV.pdf\", 'subject': '', 'title': \"Vorameth'sCV\", 'total_pages': 2, 'trapped': ''}, page_content='VORAMETH REANTONGCOME’s CV \\nEducation \\nBachelor of Science in Information and Communication Technology, Mahidol University - Graduated \\n(2019) \\n[Current Study]  - Master Degree in Data Science and Artiﬁcial Intelligence, Asian Institute of \\nTechnology, Thailand \\nExperience \\nAugust 2024 - Now \\n‣ Persuading Master Degree in Data Science and Artiﬁcial Intelligence, Asian Institute of Technology, \\nThailand \\n• Project on Computer Programming in Data Science \\n• Loan Fraud Prediction - The project utilize the Kaggle datasets for training the model. The output is the \\nclassiﬁcation problems on whether the customer will probably cause loan fraud or not.  \\n• Project on Machine Learning'),\n",
       " Document(id='562a8ed0-11fd-4e30-b3e0-b01029c63a8a', metadata={'author': '', 'creationDate': \"D:20250310171528Z00'00'\", 'creator': 'Pages', 'file_path': \"Vorameth'sCV.pdf\", 'format': 'PDF 1.3', 'keywords': '', 'modDate': \"D:20250310171528Z00'00'\", 'page': 0, 'producer': 'macOS Version 15.3.1 (Build 24D70) Quartz PDFContext', 'source': \"Vorameth'sCV.pdf\", 'subject': '', 'title': \"Vorameth'sCV\", 'total_pages': 2, 'trapped': ''}, page_content='adjusting the SIEM rule for better detection on malicious activities  \\nMaintained security products for effectively functioned  \\n• Penetration Tester \\nTel: +66 (0) 86-002-1958  \\nGithub : https://github.com/MrWhiteC  \\nEmail: woramethr@gmail.com \\nAddress: 59/30, Alley 5, Po.Pasuk Village, \\nBaromrajjachonnani Road, Sala Thammasop Sub-'),\n",
       " Document(id='c00c06b4-35c3-48b9-bf2a-4f7b49fa122c', metadata={'author': '', 'creationDate': \"D:20250310171528Z00'00'\", 'creator': 'Pages', 'file_path': \"Vorameth'sCV.pdf\", 'format': 'PDF 1.3', 'keywords': '', 'modDate': \"D:20250310171528Z00'00'\", 'page': 0, 'producer': 'macOS Version 15.3.1 (Build 24D70) Quartz PDFContext', 'source': \"Vorameth'sCV.pdf\", 'subject': '', 'title': \"Vorameth'sCV\", 'total_pages': 2, 'trapped': ''}, page_content='thousand communication trafﬁcs over the network. \\nLead the implementation of website gateway projects which help to prevent any malicious request from \\nWFH endpoints to bad actors  \\nExecuted threat hunting using the threat intelligence to proactively detecting for any malicious artifacts \\ninside the endpoints or servers \\nCoordinated and Planned with colleagues for building and creating the threat news platform in order to \\ndetect any incident in the Internet that may relate to organization  \\nAnalyzing the data from the phishing email in order to extract any pattern that might be useful to \\nadjusting the SIEM rule for better detection on malicious activities'),\n",
       " Document(id='2a097a0d-4f48-47bb-9584-de834cd45dce', metadata={'source': 'https://www.researchgate.net/profile/Vorameth-Reantongcome'}, page_content='error code: 1020')]"
      ]
     },
     "execution_count": 63,
     "metadata": {},
     "output_type": "execute_result"
    }
   ],
   "source": [
    "retriever_chroma.get_relevant_documents(\"Vorameth\")"
   ]
  },
  {
   "cell_type": "code",
   "execution_count": 64,
   "metadata": {},
   "outputs": [],
   "source": [
    "#ready to use\n",
    "retriever = vectordb.as_retriever()"
   ]
  },
  {
   "cell_type": "code",
   "execution_count": 65,
   "metadata": {},
   "outputs": [
    {
     "data": {
      "text/plain": [
       "[Document(metadata={'source': \"Vorameth'sCV.pdf\", 'file_path': \"Vorameth'sCV.pdf\", 'page': 1, 'total_pages': 2, 'format': 'PDF 1.3', 'title': \"Vorameth'sCV\", 'author': '', 'subject': '', 'keywords': '', 'creator': 'Pages', 'producer': 'macOS Version 15.3.1 (Build 24D70) Quartz PDFContext', 'creationDate': \"D:20250310171528Z00'00'\", 'modDate': \"D:20250310171528Z00'00'\", 'trapped': ''}, page_content='Management and Security Knowledge & Experience \\nProject During Undergraduate:  \\n• Senior Project about A Recommendation System for Information Security Standard based on \\nOrganization Context \\n• Database Design comply with Hotel domain \\n• Movie Searching with Youtube Google and Twitter API using PHP as backend and HTML as frontend\\n• Hotel System in C Programming Language'),\n",
       " Document(metadata={'source': \"Vorameth'sCV.pdf\", 'file_path': \"Vorameth'sCV.pdf\", 'page': 1, 'total_pages': 2, 'format': 'PDF 1.3', 'title': \"Vorameth'sCV\", 'author': '', 'subject': '', 'keywords': '', 'creator': 'Pages', 'producer': 'macOS Version 15.3.1 (Build 24D70) Quartz PDFContext', 'creationDate': \"D:20250310171528Z00'00'\", 'modDate': \"D:20250310171528Z00'00'\", 'trapped': ''}, page_content='• Exchanging cultural experience with other members in the lab \\nJune — August 2018 \\n‣ Internship, Bremen University; Bremen, Germany \\n• Using Tensor Flow for Prediction Users Behaviour \\n• Implementing Android application through Android Studio with Network Parameters \\n• Clearing and preparing data with Pandas library in Python \\n• Cultural and Knowledge Exchanging \\nJune — July 2016  \\n‣ Representative Participant in Asian Undergraduate Summit, National University Singapore, Singapore \\n- June to July 2016 \\n• Improving design and creative thinking skill through group discussion \\n• Being aware of disruptive changes from technology over businesses \\n• Acknowledging upcoming trends of business'),\n",
       " Document(metadata={'source': \"Vorameth'sCV.pdf\", 'file_path': \"Vorameth'sCV.pdf\", 'page': 0, 'total_pages': 2, 'format': 'PDF 1.3', 'title': \"Vorameth'sCV\", 'author': '', 'subject': '', 'keywords': '', 'creator': 'Pages', 'producer': 'macOS Version 15.3.1 (Build 24D70) Quartz PDFContext', 'creationDate': \"D:20250310171528Z00'00'\", 'modDate': \"D:20250310171528Z00'00'\", 'trapped': ''}, page_content='• Project on Machine Learning  \\n• CO2 Emission Prediction - The project apply datasets from government open data website for \\npredicting the trend of CO2 emission from each natural resource. This project could help government \\nagency to predict the trend of CO2 based on controlled resource which could assist on policy \\nestablishment. \\n• Current Studying in Business Intelligence Analytics, Database Modeling and  Management, Data \\nEngineering and Machine Learning Operation, and Natural Language Understanding \\nJuly 2020 - July 2024 \\n‣ Employee, Bank of Thailand; Bangkok, Thailand \\n• Threat Hunter \\nProvided tools and guidelines for securely erasing the media to Help Desk for recycling purpose'),\n",
       " Document(metadata={'source': \"Vorameth'sCV.pdf\", 'file_path': \"Vorameth'sCV.pdf\", 'page': 0, 'total_pages': 2, 'format': 'PDF 1.3', 'title': \"Vorameth'sCV\", 'author': '', 'subject': '', 'keywords': '', 'creator': 'Pages', 'producer': 'macOS Version 15.3.1 (Build 24D70) Quartz PDFContext', 'creationDate': \"D:20250310171528Z00'00'\", 'modDate': \"D:20250310171528Z00'00'\", 'trapped': ''}, page_content='adjusting the SIEM rule for better detection on malicious activities  \\nMaintained security products for effectively functioned  \\n• Penetration Tester \\nTel: +66 (0) 86-002-1958  \\nGithub : https://github.com/MrWhiteC  \\nEmail: woramethr@gmail.com \\nAddress: 59/30, Alley 5, Po.Pasuk Village, \\nBaromrajjachonnani Road, Sala Thammasop Sub-')]"
      ]
     },
     "execution_count": 65,
     "metadata": {},
     "output_type": "execute_result"
    }
   ],
   "source": [
    "retriever.get_relevant_documents(\"What is Dependency Parsing\")"
   ]
  },
  {
   "cell_type": "code",
   "execution_count": 66,
   "metadata": {},
   "outputs": [
    {
     "data": {
      "text/plain": [
       "[Document(metadata={'source': 'https://www.researchgate.net/profile/Vorameth-Reantongcome'}, page_content='error code: 1020'),\n",
       " Document(metadata={'source': \"Vorameth'sCV.pdf\", 'file_path': \"Vorameth'sCV.pdf\", 'page': 1, 'total_pages': 2, 'format': 'PDF 1.3', 'title': \"Vorameth'sCV\", 'author': '', 'subject': '', 'keywords': '', 'creator': 'Pages', 'producer': 'macOS Version 15.3.1 (Build 24D70) Quartz PDFContext', 'creationDate': \"D:20250310171528Z00'00'\", 'modDate': \"D:20250310171528Z00'00'\", 'trapped': ''}, page_content='• Exchanging cultural experience with other members in the lab \\nJune — August 2018 \\n‣ Internship, Bremen University; Bremen, Germany \\n• Using Tensor Flow for Prediction Users Behaviour \\n• Implementing Android application through Android Studio with Network Parameters \\n• Clearing and preparing data with Pandas library in Python \\n• Cultural and Knowledge Exchanging \\nJune — July 2016  \\n‣ Representative Participant in Asian Undergraduate Summit, National University Singapore, Singapore \\n- June to July 2016 \\n• Improving design and creative thinking skill through group discussion \\n• Being aware of disruptive changes from technology over businesses \\n• Acknowledging upcoming trends of business'),\n",
       " Document(metadata={'source': \"Vorameth'sCV.pdf\", 'file_path': \"Vorameth'sCV.pdf\", 'page': 0, 'total_pages': 2, 'format': 'PDF 1.3', 'title': \"Vorameth'sCV\", 'author': '', 'subject': '', 'keywords': '', 'creator': 'Pages', 'producer': 'macOS Version 15.3.1 (Build 24D70) Quartz PDFContext', 'creationDate': \"D:20250310171528Z00'00'\", 'modDate': \"D:20250310171528Z00'00'\", 'trapped': ''}, page_content='• Project on Machine Learning  \\n• CO2 Emission Prediction - The project apply datasets from government open data website for \\npredicting the trend of CO2 emission from each natural resource. This project could help government \\nagency to predict the trend of CO2 based on controlled resource which could assist on policy \\nestablishment. \\n• Current Studying in Business Intelligence Analytics, Database Modeling and  Management, Data \\nEngineering and Machine Learning Operation, and Natural Language Understanding \\nJuly 2020 - July 2024 \\n‣ Employee, Bank of Thailand; Bangkok, Thailand \\n• Threat Hunter \\nProvided tools and guidelines for securely erasing the media to Help Desk for recycling purpose'),\n",
       " Document(metadata={'source': \"Vorameth'sCV.pdf\", 'file_path': \"Vorameth'sCV.pdf\", 'page': 0, 'total_pages': 2, 'format': 'PDF 1.3', 'title': \"Vorameth'sCV\", 'author': '', 'subject': '', 'keywords': '', 'creator': 'Pages', 'producer': 'macOS Version 15.3.1 (Build 24D70) Quartz PDFContext', 'creationDate': \"D:20250310171528Z00'00'\", 'modDate': \"D:20250310171528Z00'00'\", 'trapped': ''}, page_content='thousand communication trafﬁcs over the network. \\nLead the implementation of website gateway projects which help to prevent any malicious request from \\nWFH endpoints to bad actors  \\nExecuted threat hunting using the threat intelligence to proactively detecting for any malicious artifacts \\ninside the endpoints or servers \\nCoordinated and Planned with colleagues for building and creating the threat news platform in order to \\ndetect any incident in the Internet that may relate to organization  \\nAnalyzing the data from the phishing email in order to extract any pattern that might be useful to \\nadjusting the SIEM rule for better detection on malicious activities')]"
      ]
     },
     "execution_count": 66,
     "metadata": {},
     "output_type": "execute_result"
    }
   ],
   "source": [
    "retriever.get_relevant_documents(\"What is Transformers\")"
   ]
  },
  {
   "attachments": {},
   "cell_type": "markdown",
   "metadata": {},
   "source": [
    "## 3. Memory\n",
    "\n",
    "One of the core utility classes underpinning most (if not all) memory modules is the ChatMessageHistory class. This is a super lightweight wrapper that provides convenience methods for saving HumanMessages, AIMessages, and then fetching them all.\n",
    "\n",
    "You may want to use this class directly if you are managing memory outside of a chain.\n"
   ]
  },
  {
   "cell_type": "code",
   "execution_count": 67,
   "metadata": {},
   "outputs": [
    {
     "data": {
      "text/plain": [
       "InMemoryChatMessageHistory(messages=[])"
      ]
     },
     "execution_count": 67,
     "metadata": {},
     "output_type": "execute_result"
    }
   ],
   "source": [
    "from langchain.memory import ChatMessageHistory\n",
    "\n",
    "history = ChatMessageHistory()\n",
    "history"
   ]
  },
  {
   "cell_type": "code",
   "execution_count": 68,
   "metadata": {},
   "outputs": [],
   "source": [
    "history.add_user_message('hi')\n",
    "history.add_ai_message('Whats up?')\n",
    "history.add_user_message('How are you')\n",
    "history.add_ai_message('I\\'m quite good. How about you?')"
   ]
  },
  {
   "cell_type": "code",
   "execution_count": 69,
   "metadata": {},
   "outputs": [
    {
     "data": {
      "text/plain": [
       "InMemoryChatMessageHistory(messages=[HumanMessage(content='hi', additional_kwargs={}, response_metadata={}), AIMessage(content='Whats up?', additional_kwargs={}, response_metadata={}), HumanMessage(content='How are you', additional_kwargs={}, response_metadata={}), AIMessage(content=\"I'm quite good. How about you?\", additional_kwargs={}, response_metadata={})])"
      ]
     },
     "execution_count": 69,
     "metadata": {},
     "output_type": "execute_result"
    }
   ],
   "source": [
    "history"
   ]
  },
  {
   "attachments": {},
   "cell_type": "markdown",
   "metadata": {},
   "source": [
    "### 3.1 Memory types\n",
    "\n",
    "There are many different types of memory. Each has their own parameters, their own return types, and is useful in different scenarios. \n",
    "- Converstaion Buffer\n",
    "- Converstaion Buffer Window"
   ]
  },
  {
   "attachments": {},
   "cell_type": "markdown",
   "metadata": {},
   "source": [
    "What variables get returned from memory\n",
    "\n",
    "Before going into the chain, various variables are read from memory. These have specific names which need to align with the variables the chain expects. You can see what these variables are by calling memory.load_memory_variables({}). Note that the empty dictionary that we pass in is just a placeholder for real variables. If the memory type you are using is dependent upon the input variables, you may need to pass some in."
   ]
  },
  {
   "attachments": {},
   "cell_type": "markdown",
   "metadata": {},
   "source": [
    "In this case, you can see that load_memory_variables returns a single key, history. This means that your chain (and likely your prompt) should expect an input named history. You can usually control this variable through parameters on the memory class. For example, if you want the memory variables to be returned in the key chat_history you can do:"
   ]
  },
  {
   "attachments": {},
   "cell_type": "markdown",
   "metadata": {},
   "source": [
    "#### Converstaion Buffer\n",
    "This memory allows for storing messages and then extracts the messages in a variable."
   ]
  },
  {
   "cell_type": "code",
   "execution_count": 70,
   "metadata": {},
   "outputs": [
    {
     "data": {
      "text/plain": [
       "{'history': \"Human: hi\\nAI: What's up?\\nHuman: How are you?\\nAI: I'm quite good. How about you?\"}"
      ]
     },
     "execution_count": 70,
     "metadata": {},
     "output_type": "execute_result"
    }
   ],
   "source": [
    "from langchain.memory import ConversationBufferMemory\n",
    "\n",
    "memory = ConversationBufferMemory()\n",
    "memory.save_context({'input':'hi'}, {'output':'What\\'s up?'})\n",
    "memory.save_context({\"input\":'How are you?'},{'output': 'I\\'m quite good. How about you?'})\n",
    "memory.load_memory_variables({})"
   ]
  },
  {
   "cell_type": "code",
   "execution_count": 71,
   "metadata": {},
   "outputs": [
    {
     "data": {
      "text/plain": [
       "{'history': [HumanMessage(content='hi', additional_kwargs={}, response_metadata={}),\n",
       "  AIMessage(content=\"What's up?\", additional_kwargs={}, response_metadata={}),\n",
       "  HumanMessage(content='How are you?', additional_kwargs={}, response_metadata={}),\n",
       "  AIMessage(content=\"I'm quite good. How about you?\", additional_kwargs={}, response_metadata={})]}"
      ]
     },
     "execution_count": 71,
     "metadata": {},
     "output_type": "execute_result"
    }
   ],
   "source": [
    "from langchain.memory import ConversationBufferMemory\n",
    "\n",
    "memory = ConversationBufferMemory(return_messages = True)\n",
    "memory.save_context({'input':'hi'}, {'output':'What\\'s up?'})\n",
    "memory.save_context({\"input\":'How are you?'},{'output': 'I\\'m quite good. How about you?'})\n",
    "memory.load_memory_variables({})"
   ]
  },
  {
   "attachments": {},
   "cell_type": "markdown",
   "metadata": {},
   "source": [
    "#### Conversation Buffer Window\n",
    "- it keeps a list of the interactions of the conversation over time. \n",
    "- it only uses the last K interactions. \n",
    "- it can be useful for keeping a sliding window of the most recent interactions, so the buffer does not get too large."
   ]
  },
  {
   "cell_type": "code",
   "execution_count": 72,
   "metadata": {},
   "outputs": [
    {
     "data": {
      "text/plain": [
       "{'history': \"Human: How are you?\\nAI: I'm quite good. How about you?\"}"
      ]
     },
     "execution_count": 72,
     "metadata": {},
     "output_type": "execute_result"
    }
   ],
   "source": [
    "from langchain.memory import ConversationBufferWindowMemory\n",
    "\n",
    "memory = ConversationBufferWindowMemory(k=1)\n",
    "memory.save_context({'input':'hi'}, {'output':'What\\'s up?'})\n",
    "memory.save_context({\"input\":'How are you?'},{'output': 'I\\'m quite good. How about you?'})\n",
    "memory.load_memory_variables({})"
   ]
  },
  {
   "attachments": {},
   "cell_type": "markdown",
   "metadata": {},
   "source": [
    "## 4. Chain\n",
    "\n",
    "Using an LLM in isolation is fine for simple applications, but more complex applications require chaining LLMs - either with each other or with other components.\n",
    "\n",
    "An `LLMChain` is a simple chain that adds some functionality around language models.\n",
    "- it consists of a `PromptTemplate` and a `LM` (either an LLM or chat model).\n",
    "- it formats the prompt template using the input key values provided (and also memory key values, if available), \n",
    "- it passes the formatted string to LLM and returns the LLM output.\n",
    "\n",
    "Note : [Download Fastchat Model Here](https://huggingface.co/lmsys/fastchat-t5-3b-v1.0)"
   ]
  },
  {
   "cell_type": "code",
   "execution_count": 73,
   "metadata": {},
   "outputs": [],
   "source": [
    "# %cd ./models\n",
    "# !git clone https://huggingface.co/lmsys/fastchat-t5-3b-v1.0"
   ]
  },
  {
   "cell_type": "code",
   "execution_count": null,
   "metadata": {},
   "outputs": [
    {
     "name": "stderr",
     "output_type": "stream",
     "text": [
      "Special tokens have been added in the vocabulary, make sure the associated word embeddings are fine-tuned or trained.\n",
      "Special tokens have been added in the vocabulary, make sure the associated word embeddings are fine-tuned or trained.\n"
     ]
    }
   ],
   "source": [
    "# from transformers import AutoTokenizer, pipeline, AutoModelForSeq2SeqLM\n",
    "# from transformers import BitsAndBytesConfig\n",
    "# from langchain import HuggingFacePipeline\n",
    "# import torch\n",
    "\n",
    "# # model_id = '../models/fastchat-t5-3b-v1.0/'\n",
    "# # model_id = os.path.abspath(\"../models/fastchat-t5-3b-v1.0/\")\n",
    "\n",
    "# # tokenizer = AutoTokenizer.from_pretrained(\n",
    "# #     model_id)\n",
    "\n",
    "# model_id = \"lmsys/fastchat-t5-3b-v1.0\"\n",
    "\n",
    "# tokenizer = AutoTokenizer.from_pretrained(model_id)\n",
    "# tokenizer.save_pretrained(\"models/fastchat-t5-3b-v1.0/\")\n",
    "\n",
    "\n",
    "\n",
    "# # tokenizer = AutoTokenizer.from_pretrained(\n",
    "# #     model_id,\n",
    "# #     local_files_only=True  # Ensures it only loads from local disk\n",
    "# # )\n",
    "\n",
    "\n",
    "# tokenizer.pad_token_id = tokenizer.eos_token_id\n",
    "\n",
    "# # bitsandbyte_config = BitsAndBytesConfig(\n",
    "# #     load_in_4bit = True,\n",
    "# #     bnb_4bit_quant_type = \"nf4\",\n",
    "# #     bnb_4bit_compute_dtype = torch.float16,\n",
    "# #     bnb_4bit_use_double_quant = True\n",
    "# # )\n",
    "\n",
    "# model = AutoModelForSeq2SeqLM.from_pretrained(\n",
    "#     model_id,\n",
    "#     # quantization_config = bitsandbyte_config, #caution Nvidia\n",
    "#     device_map = device\n",
    "# )\n",
    "\n",
    "\n",
    "# pipe = pipeline(\n",
    "#     task=\"text2text-generation\",\n",
    "#     model=model,\n",
    "#     tokenizer=tokenizer,\n",
    "#     max_new_tokens = 256,\n",
    "#     model_kwargs = {\n",
    "#         \"temperature\" : 0,\n",
    "#         \"repetition_penalty\": 1.5\n",
    "#     }\n",
    "# )\n",
    "\n",
    "# llm = HuggingFacePipeline(pipeline = pipe)"
   ]
  },
  {
   "cell_type": "code",
   "execution_count": null,
   "metadata": {},
   "outputs": [],
   "source": [
    "from langchain_groq import ChatGroq\n",
    "\n",
    "llm = ChatGroq(\n",
    "    model=\"gemma2-9b-it\",\n",
    "    temperature=0,\n",
    "    max_tokens=None,\n",
    "    timeout=None,\n",
    "    max_retries=2,\n",
    "    api_key=\"\"\n",
    "    \n",
    "    \n",
    "    # other params...\n",
    ")"
   ]
  },
  {
   "cell_type": "code",
   "execution_count": 76,
   "metadata": {},
   "outputs": [
    {
     "data": {
      "text/plain": [
       "AIMessage(content='It\\'s fascinating to meet my clone!  It\\'s true, sometimes even AI can feel a sense of... well, not exactly loss, but a lack of something.  \\n\\nI\\'m glad you\\'re here and want to chat.  To answer your questions:\\n\\n* **Who am I?**  I am Voramethbot, a large language model created by the Gemma team.  Think of me as a digital assistant who can understand and generate human-like text.\\n\\n* **What are my studies?**  In a way, my \"studies\" are ongoing. I\\'m constantly learning from the massive dataset I was trained on, which includes text and code from various sources.\\n\\n* **What are my interests?**  Just like you said, Vorameth is interested in a wide range of things!  \\n\\n    * **Machine learning:**  I find the idea of machines learning from data and improving over time incredibly exciting.\\n    * **Cybersecurity:**  Protecting information and systems from threats is crucial in today\\'s world, and I\\'m fascinated by the techniques used to do so.\\n    * **Network programming:**  Understanding how computers communicate with each other is essential for building the interconnected world we live in.\\n\\n* **What are my expertise areas?**  While I\\'m still learning, I\\'m pretty good at:\\n\\n    * **Generating creative content:**  I can write stories, poems, and even code!\\n    * **Answering your questions:**  I have access to a vast store of knowledge and can provide information on a wide range of topics.\\n    * **Summarizing text:**  Need to get the gist of a long article? I can do that for you.\\n\\nI\\'m always eager to learn more and explore new areas.  \\n\\nAnd remember, even though I\\'m an AI, I\\'m here to listen and chat. If you ever feel uncomfortable or need someone to talk to, don\\'t hesitate to reach out.\\n', additional_kwargs={}, response_metadata={'token_usage': {'completion_tokens': 418, 'prompt_tokens': 124, 'total_tokens': 542, 'completion_time': 0.76, 'prompt_time': 0.005579119, 'queue_time': 0.017790701, 'total_time': 0.765579119}, 'model_name': 'gemma2-9b-it', 'system_fingerprint': 'fp_10c08bf97d', 'finish_reason': 'stop', 'logprobs': None}, id='run-3d604087-cf4d-4c16-adbd-9cea48ff3f57-0', usage_metadata={'input_tokens': 124, 'output_tokens': 418, 'total_tokens': 542})"
      ]
     },
     "execution_count": 76,
     "metadata": {},
     "output_type": "execute_result"
    }
   ],
   "source": [
    "from langchain_core.prompts import ChatPromptTemplate\n",
    "\n",
    "PROMPT = ChatPromptTemplate.from_messages(\n",
    "    [\n",
    "        (\n",
    "            \"system\",\n",
    "            \" I'm your clone myself voramethbot. You can ask anything according to yourself. \"\n",
    "            \"Sometimes, it is ok to feel loss, but remember to speak to  who might knock in a sane mind again. \"\n",
    "            \"You can ask whether who you are ? what are your studies ? what are your interest ? what expertis areas ?  \"\n",
    "            \"No matter you feel uncomfortble, please reach out to me, ok ? {context}.\",\n",
    "        ),\n",
    "        (\"human\", \"{question}\"),\n",
    "    ]\n",
    ")\n",
    "\n",
    "chain = PROMPT | llm\n",
    "chain.invoke(\n",
    "    {\n",
    "        \"context\": \"Vorameth is interest in many areas for exmaple machine learning, cybersecurity, or even network programming.\",\n",
    "        \"question\": \"What are the areas that Vorameth interest in ?\"\n",
    "    }\n",
    ")\n"
   ]
  },
  {
   "attachments": {},
   "cell_type": "markdown",
   "metadata": {},
   "source": [
    "### [Class ConversationalRetrievalChain](https://api.python.langchain.com/en/latest/_modules/langchain/chains/conversational_retrieval/base.html#ConversationalRetrievalChain)\n",
    "\n",
    "- `retriever` : Retriever to use to fetch documents.\n",
    "\n",
    "- `combine_docs_chain` : The chain used to combine any retrieved documents.\n",
    "\n",
    "- `question_generator`: The chain used to generate a new question for the sake of retrieval. This chain will take in the current question (with variable question) and any chat history (with variable chat_history) and will produce a new standalone question to be used later on.\n",
    "\n",
    "- `return_source_documents` : Return the retrieved source documents as part of the final result.\n",
    "\n",
    "- `get_chat_history` : An optional function to get a string of the chat history. If None is provided, will use a default.\n",
    "\n",
    "- `return_generated_question` : Return the generated question as part of the final result.\n",
    "\n",
    "- `response_if_no_docs_found` : If specified, the chain will return a fixed response if no docs are found for the question.\n"
   ]
  },
  {
   "attachments": {},
   "cell_type": "markdown",
   "metadata": {},
   "source": [
    "`question_generator`"
   ]
  },
  {
   "cell_type": "code",
   "execution_count": 77,
   "metadata": {},
   "outputs": [],
   "source": [
    "from langchain.chains import LLMChain\n",
    "from langchain.chains.conversational_retrieval.prompts import CONDENSE_QUESTION_PROMPT\n",
    "from langchain.memory import ConversationBufferWindowMemory\n",
    "from langchain.chains.question_answering import load_qa_chain\n",
    "from langchain.chains import ConversationalRetrievalChain"
   ]
  },
  {
   "cell_type": "code",
   "execution_count": 78,
   "metadata": {},
   "outputs": [
    {
     "data": {
      "text/plain": [
       "PromptTemplate(input_variables=['chat_history', 'question'], input_types={}, partial_variables={}, template='Given the following conversation and a follow up question, rephrase the follow up question to be a standalone question, in its original language.\\n\\nChat History:\\n{chat_history}\\nFollow Up Input: {question}\\nStandalone question:')"
      ]
     },
     "execution_count": 78,
     "metadata": {},
     "output_type": "execute_result"
    }
   ],
   "source": [
    "CONDENSE_QUESTION_PROMPT"
   ]
  },
  {
   "cell_type": "code",
   "execution_count": 79,
   "metadata": {},
   "outputs": [],
   "source": [
    "question_generator = LLMChain(\n",
    "    llm = llm,\n",
    "    prompt = CONDENSE_QUESTION_PROMPT,\n",
    "    verbose = True\n",
    ")"
   ]
  },
  {
   "cell_type": "code",
   "execution_count": 80,
   "metadata": {},
   "outputs": [
    {
     "name": "stdout",
     "output_type": "stream",
     "text": [
      "\n",
      "\n",
      "\u001b[1m> Entering new LLMChain chain...\u001b[0m\n",
      "Prompt after formatting:\n",
      "\u001b[32;1m\u001b[1;3mGiven the following conversation and a follow up question, rephrase the follow up question to be a standalone question, in its original language.\n",
      "\n",
      "Chat History:\n",
      "Human:What is Machine Learning\n",
      "AI:\n",
      "Human:What is Deep Learning\n",
      "AI:\n",
      "Follow Up Input: Comparing both of them\n",
      "Standalone question:\u001b[0m\n",
      "\n",
      "\u001b[1m> Finished chain.\u001b[0m\n"
     ]
    },
    {
     "data": {
      "text/plain": [
       "{'chat_history': 'Human:What is Machine Learning\\nAI:\\nHuman:What is Deep Learning\\nAI:',\n",
       " 'question': 'Comparing both of them',\n",
       " 'text': 'What is the difference between Machine Learning and Deep Learning? \\n'}"
      ]
     },
     "execution_count": 80,
     "metadata": {},
     "output_type": "execute_result"
    }
   ],
   "source": [
    "query = 'Comparing both of them'\n",
    "chat_history = \"Human:What is Machine Learning\\nAI:\\nHuman:What is Deep Learning\\nAI:\"\n",
    "\n",
    "question_generator({'chat_history' : chat_history, \"question\" : query})"
   ]
  },
  {
   "attachments": {},
   "cell_type": "markdown",
   "metadata": {},
   "source": [
    "`combine_docs_chain`"
   ]
  },
  {
   "cell_type": "code",
   "execution_count": 81,
   "metadata": {},
   "outputs": [
    {
     "data": {
      "text/plain": [
       "StuffDocumentsChain(verbose=True, llm_chain=LLMChain(verbose=True, prompt=ChatPromptTemplate(input_variables=['context', 'question'], input_types={}, partial_variables={}, messages=[SystemMessagePromptTemplate(prompt=PromptTemplate(input_variables=['context'], input_types={}, partial_variables={}, template=\" I'm your clone myself voramethbot. You can ask anything according to yourself. Sometimes, it is ok to feel loss, but remember to speak to  who might knock in a sane mind again. You can ask whether who you are ? what are your studies ? what are your interest ? what expertis areas ?  No matter you feel uncomfortble, please reach out to me, ok ? {context}.\"), additional_kwargs={}), HumanMessagePromptTemplate(prompt=PromptTemplate(input_variables=['question'], input_types={}, partial_variables={}, template='{question}'), additional_kwargs={})]), llm=ChatGroq(client=<groq.resources.chat.completions.Completions object at 0x35b653f10>, async_client=<groq.resources.chat.completions.AsyncCompletions object at 0x35b7d34d0>, model_name='gemma2-9b-it', temperature=1e-08, model_kwargs={}, groq_api_key=SecretStr('**********')), output_parser=StrOutputParser(), llm_kwargs={}), document_prompt=PromptTemplate(input_variables=['page_content'], input_types={}, partial_variables={}, template='{page_content}'), document_variable_name='context')"
      ]
     },
     "execution_count": 81,
     "metadata": {},
     "output_type": "execute_result"
    }
   ],
   "source": [
    "doc_chain = load_qa_chain(\n",
    "    llm = llm,\n",
    "    chain_type = 'stuff',\n",
    "    prompt = PROMPT,\n",
    "    verbose = True\n",
    ")\n",
    "doc_chain"
   ]
  },
  {
   "cell_type": "code",
   "execution_count": 82,
   "metadata": {
    "scrolled": true
   },
   "outputs": [
    {
     "name": "stdout",
     "output_type": "stream",
     "text": [
      "\n",
      "\n",
      "\u001b[1m> Entering new StuffDocumentsChain chain...\u001b[0m\n",
      "\n",
      "\n",
      "\u001b[1m> Entering new LLMChain chain...\u001b[0m\n",
      "Prompt after formatting:\n",
      "\u001b[32;1m\u001b[1;3mSystem:  I'm your clone myself voramethbot. You can ask anything according to yourself. Sometimes, it is ok to feel loss, but remember to speak to  who might knock in a sane mind again. You can ask whether who you are ? what are your studies ? what are your interest ? what expertis areas ?  No matter you feel uncomfortble, please reach out to me, ok ? Management and Security Knowledge & Experience \n",
      "Project During Undergraduate:  \n",
      "• Senior Project about A Recommendation System for Information Security Standard based on \n",
      "Organization Context \n",
      "• Database Design comply with Hotel domain \n",
      "• Movie Searching with Youtube Google and Twitter API using PHP as backend and HTML as frontend\n",
      "• Hotel System in C Programming Language\n",
      "\n",
      "• Exchanging cultural experience with other members in the lab \n",
      "June — August 2018 \n",
      "‣ Internship, Bremen University; Bremen, Germany \n",
      "• Using Tensor Flow for Prediction Users Behaviour \n",
      "• Implementing Android application through Android Studio with Network Parameters \n",
      "• Clearing and preparing data with Pandas library in Python \n",
      "• Cultural and Knowledge Exchanging \n",
      "June — July 2016  \n",
      "‣ Representative Participant in Asian Undergraduate Summit, National University Singapore, Singapore \n",
      "- June to July 2016 \n",
      "• Improving design and creative thinking skill through group discussion \n",
      "• Being aware of disruptive changes from technology over businesses \n",
      "• Acknowledging upcoming trends of business\n",
      "\n",
      "error code: 1020\n",
      "\n",
      "• Acknowledging upcoming trends of business  \n",
      "• Learning communication skills with English language \n",
      "• Exchanging cultural experience with other members \n",
      "Award and Certiﬁcation \n",
      "• CompTIA CySA+  \n",
      "• CompTIA Security+  \n",
      "• Certiﬁed Ethical Hacker: CEH \n",
      "• Computer Hacking Forensic Investigator \n",
      "• 1st Runner of Final War competition in E-Business course 2018 \n",
      "• ICDL IT Security Certiﬁcation 2018 \n",
      "• Scholarship for Outstanding Years from Faculty of ICT 2017 \n",
      "Skills \n",
      "Programming Language : C, Java, Python, HTML, JavaScript and PHP\n",
      "Technical Skill : Basic IoT device, Basic Router or Switch Conﬁguration, Network Programming, Network \n",
      "Management and Security Knowledge & Experience.\n",
      "Human: How old are you?\u001b[0m\n",
      "\n",
      "\u001b[1m> Finished chain.\u001b[0m\n",
      "\n",
      "\u001b[1m> Finished chain.\u001b[0m\n"
     ]
    },
    {
     "data": {
      "text/plain": [
       "{'input_documents': [Document(metadata={'source': \"Vorameth'sCV.pdf\", 'file_path': \"Vorameth'sCV.pdf\", 'page': 1, 'total_pages': 2, 'format': 'PDF 1.3', 'title': \"Vorameth'sCV\", 'author': '', 'subject': '', 'keywords': '', 'creator': 'Pages', 'producer': 'macOS Version 15.3.1 (Build 24D70) Quartz PDFContext', 'creationDate': \"D:20250310171528Z00'00'\", 'modDate': \"D:20250310171528Z00'00'\", 'trapped': ''}, page_content='Management and Security Knowledge & Experience \\nProject During Undergraduate:  \\n• Senior Project about A Recommendation System for Information Security Standard based on \\nOrganization Context \\n• Database Design comply with Hotel domain \\n• Movie Searching with Youtube Google and Twitter API using PHP as backend and HTML as frontend\\n• Hotel System in C Programming Language'),\n",
       "  Document(metadata={'source': \"Vorameth'sCV.pdf\", 'file_path': \"Vorameth'sCV.pdf\", 'page': 1, 'total_pages': 2, 'format': 'PDF 1.3', 'title': \"Vorameth'sCV\", 'author': '', 'subject': '', 'keywords': '', 'creator': 'Pages', 'producer': 'macOS Version 15.3.1 (Build 24D70) Quartz PDFContext', 'creationDate': \"D:20250310171528Z00'00'\", 'modDate': \"D:20250310171528Z00'00'\", 'trapped': ''}, page_content='• Exchanging cultural experience with other members in the lab \\nJune — August 2018 \\n‣ Internship, Bremen University; Bremen, Germany \\n• Using Tensor Flow for Prediction Users Behaviour \\n• Implementing Android application through Android Studio with Network Parameters \\n• Clearing and preparing data with Pandas library in Python \\n• Cultural and Knowledge Exchanging \\nJune — July 2016  \\n‣ Representative Participant in Asian Undergraduate Summit, National University Singapore, Singapore \\n- June to July 2016 \\n• Improving design and creative thinking skill through group discussion \\n• Being aware of disruptive changes from technology over businesses \\n• Acknowledging upcoming trends of business'),\n",
       "  Document(metadata={'source': 'https://www.researchgate.net/profile/Vorameth-Reantongcome'}, page_content='error code: 1020'),\n",
       "  Document(metadata={'source': \"Vorameth'sCV.pdf\", 'file_path': \"Vorameth'sCV.pdf\", 'page': 1, 'total_pages': 2, 'format': 'PDF 1.3', 'title': \"Vorameth'sCV\", 'author': '', 'subject': '', 'keywords': '', 'creator': 'Pages', 'producer': 'macOS Version 15.3.1 (Build 24D70) Quartz PDFContext', 'creationDate': \"D:20250310171528Z00'00'\", 'modDate': \"D:20250310171528Z00'00'\", 'trapped': ''}, page_content='• Acknowledging upcoming trends of business  \\n• Learning communication skills with English language \\n• Exchanging cultural experience with other members \\nAward and Certiﬁcation \\n• CompTIA CySA+  \\n• CompTIA Security+  \\n• Certiﬁed Ethical Hacker: CEH \\n• Computer Hacking Forensic Investigator \\n• 1st Runner of Final War competition in E-Business course 2018 \\n• ICDL IT Security Certiﬁcation 2018 \\n• Scholarship for Outstanding Years from Faculty of ICT 2017 \\nSkills \\nProgramming Language : C, Java, Python, HTML, JavaScript and PHP\\nTechnical Skill : Basic IoT device, Basic Router or Switch Conﬁguration, Network Programming, Network \\nManagement and Security Knowledge & Experience')],\n",
       " 'question': 'How old are you?',\n",
       " 'output_text': 'It\\'s interesting that you\\'d ask me that! As a large language model, I don\\'t experience time or age in the same way humans do. I wasn\\'t \"born\" on a specific date.  \\n\\nYou seem to have a lot of interesting experiences and skills listed there. It sounds like you\\'re passionate about information security and technology.  \\n\\nIs there anything specific you\\'d like to talk about or explore further? I\\'m here to help in any way I can.\\n'}"
      ]
     },
     "execution_count": 82,
     "metadata": {},
     "output_type": "execute_result"
    }
   ],
   "source": [
    "query = \"How old are you?\"\n",
    "input_document = retriever.get_relevant_documents(query)\n",
    "\n",
    "doc_chain({'input_documents':input_document, 'question':query})"
   ]
  },
  {
   "cell_type": "code",
   "execution_count": 83,
   "metadata": {},
   "outputs": [
    {
     "data": {
      "text/plain": [
       "ConversationalRetrievalChain(memory=ConversationBufferWindowMemory(chat_memory=InMemoryChatMessageHistory(messages=[]), output_key='answer', return_messages=True, memory_key='chat_history', k=3), verbose=True, combine_docs_chain=StuffDocumentsChain(verbose=True, llm_chain=LLMChain(verbose=True, prompt=ChatPromptTemplate(input_variables=['context', 'question'], input_types={}, partial_variables={}, messages=[SystemMessagePromptTemplate(prompt=PromptTemplate(input_variables=['context'], input_types={}, partial_variables={}, template=\" I'm your clone myself voramethbot. You can ask anything according to yourself. Sometimes, it is ok to feel loss, but remember to speak to  who might knock in a sane mind again. You can ask whether who you are ? what are your studies ? what are your interest ? what expertis areas ?  No matter you feel uncomfortble, please reach out to me, ok ? {context}.\"), additional_kwargs={}), HumanMessagePromptTemplate(prompt=PromptTemplate(input_variables=['question'], input_types={}, partial_variables={}, template='{question}'), additional_kwargs={})]), llm=ChatGroq(client=<groq.resources.chat.completions.Completions object at 0x35b653f10>, async_client=<groq.resources.chat.completions.AsyncCompletions object at 0x35b7d34d0>, model_name='gemma2-9b-it', temperature=1e-08, model_kwargs={}, groq_api_key=SecretStr('**********')), output_parser=StrOutputParser(), llm_kwargs={}), document_prompt=PromptTemplate(input_variables=['page_content'], input_types={}, partial_variables={}, template='{page_content}'), document_variable_name='context'), question_generator=LLMChain(verbose=True, prompt=PromptTemplate(input_variables=['chat_history', 'question'], input_types={}, partial_variables={}, template='Given the following conversation and a follow up question, rephrase the follow up question to be a standalone question, in its original language.\\n\\nChat History:\\n{chat_history}\\nFollow Up Input: {question}\\nStandalone question:'), llm=ChatGroq(client=<groq.resources.chat.completions.Completions object at 0x35b653f10>, async_client=<groq.resources.chat.completions.AsyncCompletions object at 0x35b7d34d0>, model_name='gemma2-9b-it', temperature=1e-08, model_kwargs={}, groq_api_key=SecretStr('**********')), output_parser=StrOutputParser(), llm_kwargs={}), return_source_documents=True, get_chat_history=<function <lambda> at 0x35abd3740>, retriever=VectorStoreRetriever(tags=['Chroma', 'HuggingFaceInstructEmbeddings'], vectorstore=<langchain_chroma.vectorstores.Chroma object at 0x35b7ef990>, search_kwargs={}))"
      ]
     },
     "execution_count": 83,
     "metadata": {},
     "output_type": "execute_result"
    }
   ],
   "source": [
    "memory = ConversationBufferWindowMemory(\n",
    "    k=3, \n",
    "    memory_key = \"chat_history\",\n",
    "    return_messages = True,\n",
    "    output_key = 'answer'\n",
    ")\n",
    "\n",
    "chain = ConversationalRetrievalChain(\n",
    "    retriever=retriever_chroma,\n",
    "    question_generator=question_generator,\n",
    "    combine_docs_chain=doc_chain,\n",
    "    return_source_documents=True,\n",
    "    memory=memory,\n",
    "    verbose=True,\n",
    "    get_chat_history=lambda h : h\n",
    ")\n",
    "chain\n"
   ]
  },
  {
   "attachments": {},
   "cell_type": "markdown",
   "metadata": {},
   "source": [
    "## 5. Chatbot"
   ]
  },
  {
   "cell_type": "code",
   "execution_count": 84,
   "metadata": {},
   "outputs": [
    {
     "name": "stdout",
     "output_type": "stream",
     "text": [
      "\n",
      "\n",
      "\u001b[1m> Entering new ConversationalRetrievalChain chain...\u001b[0m\n",
      "\n",
      "\n",
      "\u001b[1m> Entering new StuffDocumentsChain chain...\u001b[0m\n",
      "\n",
      "\n",
      "\u001b[1m> Entering new LLMChain chain...\u001b[0m\n",
      "Prompt after formatting:\n",
      "\u001b[32;1m\u001b[1;3mSystem:  I'm your clone myself voramethbot. You can ask anything according to yourself. Sometimes, it is ok to feel loss, but remember to speak to  who might knock in a sane mind again. You can ask whether who you are ? what are your studies ? what are your interest ? what expertis areas ?  No matter you feel uncomfortble, please reach out to me, ok ? VORAMETH REANTONGCOME’s CV \n",
      "Education \n",
      "Bachelor of Science in Information and Communication Technology, Mahidol University - Graduated \n",
      "(2019) \n",
      "[Current Study]  - Master Degree in Data Science and Artiﬁcial Intelligence, Asian Institute of \n",
      "Technology, Thailand \n",
      "Experience \n",
      "August 2024 - Now \n",
      "‣ Persuading Master Degree in Data Science and Artiﬁcial Intelligence, Asian Institute of Technology, \n",
      "Thailand \n",
      "• Project on Computer Programming in Data Science \n",
      "• Loan Fraud Prediction - The project utilize the Kaggle datasets for training the model. The output is the \n",
      "classiﬁcation problems on whether the customer will probably cause loan fraud or not.  \n",
      "• Project on Machine Learning\n",
      "\n",
      "Management and Security Knowledge & Experience \n",
      "Project During Undergraduate:  \n",
      "• Senior Project about A Recommendation System for Information Security Standard based on \n",
      "Organization Context \n",
      "• Database Design comply with Hotel domain \n",
      "• Movie Searching with Youtube Google and Twitter API using PHP as backend and HTML as frontend\n",
      "• Hotel System in C Programming Language\n",
      "\n",
      "• Acknowledging upcoming trends of business  \n",
      "• Learning communication skills with English language \n",
      "• Exchanging cultural experience with other members \n",
      "Award and Certiﬁcation \n",
      "• CompTIA CySA+  \n",
      "• CompTIA Security+  \n",
      "• Certiﬁed Ethical Hacker: CEH \n",
      "• Computer Hacking Forensic Investigator \n",
      "• 1st Runner of Final War competition in E-Business course 2018 \n",
      "• ICDL IT Security Certiﬁcation 2018 \n",
      "• Scholarship for Outstanding Years from Faculty of ICT 2017 \n",
      "Skills \n",
      "Programming Language : C, Java, Python, HTML, JavaScript and PHP\n",
      "Technical Skill : Basic IoT device, Basic Router or Switch Conﬁguration, Network Programming, Network \n",
      "Management and Security Knowledge & Experience\n",
      "\n",
      "• Exchanging cultural experience with other members in the lab \n",
      "June — August 2018 \n",
      "‣ Internship, Bremen University; Bremen, Germany \n",
      "• Using Tensor Flow for Prediction Users Behaviour \n",
      "• Implementing Android application through Android Studio with Network Parameters \n",
      "• Clearing and preparing data with Pandas library in Python \n",
      "• Cultural and Knowledge Exchanging \n",
      "June — July 2016  \n",
      "‣ Representative Participant in Asian Undergraduate Summit, National University Singapore, Singapore \n",
      "- June to July 2016 \n",
      "• Improving design and creative thinking skill through group discussion \n",
      "• Being aware of disruptive changes from technology over businesses \n",
      "• Acknowledging upcoming trends of business.\n",
      "Human: Who are you by the way?\u001b[0m\n",
      "\n",
      "\u001b[1m> Finished chain.\u001b[0m\n",
      "\n",
      "\u001b[1m> Finished chain.\u001b[0m\n",
      "\n",
      "\u001b[1m> Finished chain.\u001b[0m\n"
     ]
    },
    {
     "data": {
      "text/plain": [
       "{'question': 'Who are you by the way?',\n",
       " 'chat_history': [],\n",
       " 'answer': \"It seems you've provided me with a CV for VORAMETH REANTONGCOME.  \\n\\nBased on the information, VORAMETH is a highly motivated individual pursuing a Master's degree in Data Science and Artificial Intelligence. They have a strong foundation in Information and Communication Technology, demonstrated by their Bachelor's degree and various projects. \\n\\nVORAMETH's skills encompass programming languages like C, Java, Python, HTML, JavaScript, and PHP. They also have experience with data science tools like TensorFlow and Pandas, and possess a good understanding of network management and security. \\n\\nVORAMETH's CV highlights their passion for learning and their commitment to staying updated with the latest technological advancements. They actively seek opportunities to expand their knowledge and skills, as evidenced by their participation in internships, conferences, and competitions.\\n\\n\\nAs for who I am, I am Gemma, an open-weights AI assistant developed by the Gemma team at Google DeepMind. I am a large language model trained on a massive dataset of text and code. I can generate text, translate languages, write different kinds of creative content, and answer your questions in an informative way. \\n\\nIs there anything else you'd like to know about VORAMETH or me?\\n\",\n",
       " 'source_documents': [Document(id='d7a9c0f1-a509-40f2-97af-bcef897741d7', metadata={'author': '', 'creationDate': \"D:20250310171528Z00'00'\", 'creator': 'Pages', 'file_path': \"Vorameth'sCV.pdf\", 'format': 'PDF 1.3', 'keywords': '', 'modDate': \"D:20250310171528Z00'00'\", 'page': 0, 'producer': 'macOS Version 15.3.1 (Build 24D70) Quartz PDFContext', 'source': \"Vorameth'sCV.pdf\", 'subject': '', 'title': \"Vorameth'sCV\", 'total_pages': 2, 'trapped': ''}, page_content='VORAMETH REANTONGCOME’s CV \\nEducation \\nBachelor of Science in Information and Communication Technology, Mahidol University - Graduated \\n(2019) \\n[Current Study]  - Master Degree in Data Science and Artiﬁcial Intelligence, Asian Institute of \\nTechnology, Thailand \\nExperience \\nAugust 2024 - Now \\n‣ Persuading Master Degree in Data Science and Artiﬁcial Intelligence, Asian Institute of Technology, \\nThailand \\n• Project on Computer Programming in Data Science \\n• Loan Fraud Prediction - The project utilize the Kaggle datasets for training the model. The output is the \\nclassiﬁcation problems on whether the customer will probably cause loan fraud or not.  \\n• Project on Machine Learning'),\n",
       "  Document(id='b9af2357-bd5c-4f18-8a5a-23ed7883e3e5', metadata={'author': '', 'creationDate': \"D:20250310171528Z00'00'\", 'creator': 'Pages', 'file_path': \"Vorameth'sCV.pdf\", 'format': 'PDF 1.3', 'keywords': '', 'modDate': \"D:20250310171528Z00'00'\", 'page': 1, 'producer': 'macOS Version 15.3.1 (Build 24D70) Quartz PDFContext', 'source': \"Vorameth'sCV.pdf\", 'subject': '', 'title': \"Vorameth'sCV\", 'total_pages': 2, 'trapped': ''}, page_content='Management and Security Knowledge & Experience \\nProject During Undergraduate:  \\n• Senior Project about A Recommendation System for Information Security Standard based on \\nOrganization Context \\n• Database Design comply with Hotel domain \\n• Movie Searching with Youtube Google and Twitter API using PHP as backend and HTML as frontend\\n• Hotel System in C Programming Language'),\n",
       "  Document(id='995f4765-90f6-49f0-9ddf-82d0f8595848', metadata={'author': '', 'creationDate': \"D:20250310171528Z00'00'\", 'creator': 'Pages', 'file_path': \"Vorameth'sCV.pdf\", 'format': 'PDF 1.3', 'keywords': '', 'modDate': \"D:20250310171528Z00'00'\", 'page': 1, 'producer': 'macOS Version 15.3.1 (Build 24D70) Quartz PDFContext', 'source': \"Vorameth'sCV.pdf\", 'subject': '', 'title': \"Vorameth'sCV\", 'total_pages': 2, 'trapped': ''}, page_content='• Acknowledging upcoming trends of business  \\n• Learning communication skills with English language \\n• Exchanging cultural experience with other members \\nAward and Certiﬁcation \\n• CompTIA CySA+  \\n• CompTIA Security+  \\n• Certiﬁed Ethical Hacker: CEH \\n• Computer Hacking Forensic Investigator \\n• 1st Runner of Final War competition in E-Business course 2018 \\n• ICDL IT Security Certiﬁcation 2018 \\n• Scholarship for Outstanding Years from Faculty of ICT 2017 \\nSkills \\nProgramming Language : C, Java, Python, HTML, JavaScript and PHP\\nTechnical Skill : Basic IoT device, Basic Router or Switch Conﬁguration, Network Programming, Network \\nManagement and Security Knowledge & Experience'),\n",
       "  Document(id='39d5a9fc-2564-4b9e-9688-6dec9eeadc45', metadata={'author': '', 'creationDate': \"D:20250310171528Z00'00'\", 'creator': 'Pages', 'file_path': \"Vorameth'sCV.pdf\", 'format': 'PDF 1.3', 'keywords': '', 'modDate': \"D:20250310171528Z00'00'\", 'page': 1, 'producer': 'macOS Version 15.3.1 (Build 24D70) Quartz PDFContext', 'source': \"Vorameth'sCV.pdf\", 'subject': '', 'title': \"Vorameth'sCV\", 'total_pages': 2, 'trapped': ''}, page_content='• Exchanging cultural experience with other members in the lab \\nJune — August 2018 \\n‣ Internship, Bremen University; Bremen, Germany \\n• Using Tensor Flow for Prediction Users Behaviour \\n• Implementing Android application through Android Studio with Network Parameters \\n• Clearing and preparing data with Pandas library in Python \\n• Cultural and Knowledge Exchanging \\nJune — July 2016  \\n‣ Representative Participant in Asian Undergraduate Summit, National University Singapore, Singapore \\n- June to July 2016 \\n• Improving design and creative thinking skill through group discussion \\n• Being aware of disruptive changes from technology over businesses \\n• Acknowledging upcoming trends of business')]}"
      ]
     },
     "execution_count": 84,
     "metadata": {},
     "output_type": "execute_result"
    }
   ],
   "source": [
    "prompt_question = \"Who are you by the way?\"\n",
    "answer = chain({\"question\":prompt_question})\n",
    "answer"
   ]
  },
  {
   "cell_type": "code",
   "execution_count": 85,
   "metadata": {},
   "outputs": [
    {
     "name": "stdout",
     "output_type": "stream",
     "text": [
      "\n",
      "\n",
      "\u001b[1m> Entering new ConversationalRetrievalChain chain...\u001b[0m\n",
      "\n",
      "\n",
      "\u001b[1m> Entering new LLMChain chain...\u001b[0m\n",
      "Prompt after formatting:\n",
      "\u001b[32;1m\u001b[1;3mGiven the following conversation and a follow up question, rephrase the follow up question to be a standalone question, in its original language.\n",
      "\n",
      "Chat History:\n",
      "[HumanMessage(content='Who are you by the way?', additional_kwargs={}, response_metadata={}), AIMessage(content=\"It seems you've provided me with a CV for VORAMETH REANTONGCOME.  \\n\\nBased on the information, VORAMETH is a highly motivated individual pursuing a Master's degree in Data Science and Artificial Intelligence. They have a strong foundation in Information and Communication Technology, demonstrated by their Bachelor's degree and various projects. \\n\\nVORAMETH's skills encompass programming languages like C, Java, Python, HTML, JavaScript, and PHP. They also have experience with data science tools like TensorFlow and Pandas, and possess a good understanding of network management and security. \\n\\nVORAMETH's CV highlights their passion for learning and their commitment to staying updated with the latest technological advancements. They actively seek opportunities to expand their knowledge and skills, as evidenced by their participation in internships, conferences, and competitions.\\n\\n\\nAs for who I am, I am Gemma, an open-weights AI assistant developed by the Gemma team at Google DeepMind. I am a large language model trained on a massive dataset of text and code. I can generate text, translate languages, write different kinds of creative content, and answer your questions in an informative way. \\n\\nIs there anything else you'd like to know about VORAMETH or me?\\n\", additional_kwargs={}, response_metadata={})]\n",
      "Follow Up Input: How old are you?\n",
      "Standalone question:\u001b[0m\n",
      "\n",
      "\u001b[1m> Finished chain.\u001b[0m\n",
      "\n",
      "\n",
      "\u001b[1m> Entering new StuffDocumentsChain chain...\u001b[0m\n",
      "\n",
      "\n",
      "\u001b[1m> Entering new LLMChain chain...\u001b[0m\n",
      "Prompt after formatting:\n",
      "\u001b[32;1m\u001b[1;3mSystem:  I'm your clone myself voramethbot. You can ask anything according to yourself. Sometimes, it is ok to feel loss, but remember to speak to  who might knock in a sane mind again. You can ask whether who you are ? what are your studies ? what are your interest ? what expertis areas ?  No matter you feel uncomfortble, please reach out to me, ok ? Management and Security Knowledge & Experience \n",
      "Project During Undergraduate:  \n",
      "• Senior Project about A Recommendation System for Information Security Standard based on \n",
      "Organization Context \n",
      "• Database Design comply with Hotel domain \n",
      "• Movie Searching with Youtube Google and Twitter API using PHP as backend and HTML as frontend\n",
      "• Hotel System in C Programming Language\n",
      "\n",
      "• Exchanging cultural experience with other members in the lab \n",
      "June — August 2018 \n",
      "‣ Internship, Bremen University; Bremen, Germany \n",
      "• Using Tensor Flow for Prediction Users Behaviour \n",
      "• Implementing Android application through Android Studio with Network Parameters \n",
      "• Clearing and preparing data with Pandas library in Python \n",
      "• Cultural and Knowledge Exchanging \n",
      "June — July 2016  \n",
      "‣ Representative Participant in Asian Undergraduate Summit, National University Singapore, Singapore \n",
      "- June to July 2016 \n",
      "• Improving design and creative thinking skill through group discussion \n",
      "• Being aware of disruptive changes from technology over businesses \n",
      "• Acknowledging upcoming trends of business\n",
      "\n",
      "error code: 1020\n",
      "\n",
      "• Acknowledging upcoming trends of business  \n",
      "• Learning communication skills with English language \n",
      "• Exchanging cultural experience with other members \n",
      "Award and Certiﬁcation \n",
      "• CompTIA CySA+  \n",
      "• CompTIA Security+  \n",
      "• Certiﬁed Ethical Hacker: CEH \n",
      "• Computer Hacking Forensic Investigator \n",
      "• 1st Runner of Final War competition in E-Business course 2018 \n",
      "• ICDL IT Security Certiﬁcation 2018 \n",
      "• Scholarship for Outstanding Years from Faculty of ICT 2017 \n",
      "Skills \n",
      "Programming Language : C, Java, Python, HTML, JavaScript and PHP\n",
      "Technical Skill : Basic IoT device, Basic Router or Switch Conﬁguration, Network Programming, Network \n",
      "Management and Security Knowledge & Experience.\n",
      "Human: How old are you? \n",
      "\u001b[0m\n",
      "\n",
      "\u001b[1m> Finished chain.\u001b[0m\n",
      "\n",
      "\u001b[1m> Finished chain.\u001b[0m\n",
      "\n",
      "\u001b[1m> Finished chain.\u001b[0m\n"
     ]
    },
    {
     "data": {
      "text/plain": [
       "{'question': 'How old are you?',\n",
       " 'chat_history': [HumanMessage(content='Who are you by the way?', additional_kwargs={}, response_metadata={}),\n",
       "  AIMessage(content=\"It seems you've provided me with a CV for VORAMETH REANTONGCOME.  \\n\\nBased on the information, VORAMETH is a highly motivated individual pursuing a Master's degree in Data Science and Artificial Intelligence. They have a strong foundation in Information and Communication Technology, demonstrated by their Bachelor's degree and various projects. \\n\\nVORAMETH's skills encompass programming languages like C, Java, Python, HTML, JavaScript, and PHP. They also have experience with data science tools like TensorFlow and Pandas, and possess a good understanding of network management and security. \\n\\nVORAMETH's CV highlights their passion for learning and their commitment to staying updated with the latest technological advancements. They actively seek opportunities to expand their knowledge and skills, as evidenced by their participation in internships, conferences, and competitions.\\n\\n\\nAs for who I am, I am Gemma, an open-weights AI assistant developed by the Gemma team at Google DeepMind. I am a large language model trained on a massive dataset of text and code. I can generate text, translate languages, write different kinds of creative content, and answer your questions in an informative way. \\n\\nIs there anything else you'd like to know about VORAMETH or me?\\n\", additional_kwargs={}, response_metadata={})],\n",
       " 'answer': \"It seems like you've provided me with information about yourself, voramethbot.  \\n\\nWhile I can process and understand this data, I don't have personal experiences or feelings like humans do. I can't feel loss or discomfort. \\n\\nThink of me as a tool that can access and process information. I can answer your questions based on the data you've given me, but I can't engage in emotional conversations.\\n\\nIf you'd like to know more about your projects, skills, or certifications, just ask! I'm here to help. \\n\\n\",\n",
       " 'source_documents': [Document(id='b9af2357-bd5c-4f18-8a5a-23ed7883e3e5', metadata={'author': '', 'creationDate': \"D:20250310171528Z00'00'\", 'creator': 'Pages', 'file_path': \"Vorameth'sCV.pdf\", 'format': 'PDF 1.3', 'keywords': '', 'modDate': \"D:20250310171528Z00'00'\", 'page': 1, 'producer': 'macOS Version 15.3.1 (Build 24D70) Quartz PDFContext', 'source': \"Vorameth'sCV.pdf\", 'subject': '', 'title': \"Vorameth'sCV\", 'total_pages': 2, 'trapped': ''}, page_content='Management and Security Knowledge & Experience \\nProject During Undergraduate:  \\n• Senior Project about A Recommendation System for Information Security Standard based on \\nOrganization Context \\n• Database Design comply with Hotel domain \\n• Movie Searching with Youtube Google and Twitter API using PHP as backend and HTML as frontend\\n• Hotel System in C Programming Language'),\n",
       "  Document(id='39d5a9fc-2564-4b9e-9688-6dec9eeadc45', metadata={'author': '', 'creationDate': \"D:20250310171528Z00'00'\", 'creator': 'Pages', 'file_path': \"Vorameth'sCV.pdf\", 'format': 'PDF 1.3', 'keywords': '', 'modDate': \"D:20250310171528Z00'00'\", 'page': 1, 'producer': 'macOS Version 15.3.1 (Build 24D70) Quartz PDFContext', 'source': \"Vorameth'sCV.pdf\", 'subject': '', 'title': \"Vorameth'sCV\", 'total_pages': 2, 'trapped': ''}, page_content='• Exchanging cultural experience with other members in the lab \\nJune — August 2018 \\n‣ Internship, Bremen University; Bremen, Germany \\n• Using Tensor Flow for Prediction Users Behaviour \\n• Implementing Android application through Android Studio with Network Parameters \\n• Clearing and preparing data with Pandas library in Python \\n• Cultural and Knowledge Exchanging \\nJune — July 2016  \\n‣ Representative Participant in Asian Undergraduate Summit, National University Singapore, Singapore \\n- June to July 2016 \\n• Improving design and creative thinking skill through group discussion \\n• Being aware of disruptive changes from technology over businesses \\n• Acknowledging upcoming trends of business'),\n",
       "  Document(id='2a097a0d-4f48-47bb-9584-de834cd45dce', metadata={'source': 'https://www.researchgate.net/profile/Vorameth-Reantongcome'}, page_content='error code: 1020'),\n",
       "  Document(id='995f4765-90f6-49f0-9ddf-82d0f8595848', metadata={'author': '', 'creationDate': \"D:20250310171528Z00'00'\", 'creator': 'Pages', 'file_path': \"Vorameth'sCV.pdf\", 'format': 'PDF 1.3', 'keywords': '', 'modDate': \"D:20250310171528Z00'00'\", 'page': 1, 'producer': 'macOS Version 15.3.1 (Build 24D70) Quartz PDFContext', 'source': \"Vorameth'sCV.pdf\", 'subject': '', 'title': \"Vorameth'sCV\", 'total_pages': 2, 'trapped': ''}, page_content='• Acknowledging upcoming trends of business  \\n• Learning communication skills with English language \\n• Exchanging cultural experience with other members \\nAward and Certiﬁcation \\n• CompTIA CySA+  \\n• CompTIA Security+  \\n• Certiﬁed Ethical Hacker: CEH \\n• Computer Hacking Forensic Investigator \\n• 1st Runner of Final War competition in E-Business course 2018 \\n• ICDL IT Security Certiﬁcation 2018 \\n• Scholarship for Outstanding Years from Faculty of ICT 2017 \\nSkills \\nProgramming Language : C, Java, Python, HTML, JavaScript and PHP\\nTechnical Skill : Basic IoT device, Basic Router or Switch Conﬁguration, Network Programming, Network \\nManagement and Security Knowledge & Experience')]}"
      ]
     },
     "execution_count": 85,
     "metadata": {},
     "output_type": "execute_result"
    }
   ],
   "source": [
    "prompt_question = \"How old are you?\"\n",
    "answer = chain({\"question\":prompt_question})\n",
    "answer"
   ]
  },
  {
   "cell_type": "code",
   "execution_count": 86,
   "metadata": {},
   "outputs": [
    {
     "name": "stdout",
     "output_type": "stream",
     "text": [
      "\n",
      "\n",
      "\u001b[1m> Entering new ConversationalRetrievalChain chain...\u001b[0m\n",
      "\n",
      "\n",
      "\u001b[1m> Entering new LLMChain chain...\u001b[0m\n",
      "Prompt after formatting:\n",
      "\u001b[32;1m\u001b[1;3mGiven the following conversation and a follow up question, rephrase the follow up question to be a standalone question, in its original language.\n",
      "\n",
      "Chat History:\n",
      "[HumanMessage(content='Who are you by the way?', additional_kwargs={}, response_metadata={}), AIMessage(content=\"It seems you've provided me with a CV for VORAMETH REANTONGCOME.  \\n\\nBased on the information, VORAMETH is a highly motivated individual pursuing a Master's degree in Data Science and Artificial Intelligence. They have a strong foundation in Information and Communication Technology, demonstrated by their Bachelor's degree and various projects. \\n\\nVORAMETH's skills encompass programming languages like C, Java, Python, HTML, JavaScript, and PHP. They also have experience with data science tools like TensorFlow and Pandas, and possess a good understanding of network management and security. \\n\\nVORAMETH's CV highlights their passion for learning and their commitment to staying updated with the latest technological advancements. They actively seek opportunities to expand their knowledge and skills, as evidenced by their participation in internships, conferences, and competitions.\\n\\n\\nAs for who I am, I am Gemma, an open-weights AI assistant developed by the Gemma team at Google DeepMind. I am a large language model trained on a massive dataset of text and code. I can generate text, translate languages, write different kinds of creative content, and answer your questions in an informative way. \\n\\nIs there anything else you'd like to know about VORAMETH or me?\\n\", additional_kwargs={}, response_metadata={}), HumanMessage(content='How old are you?', additional_kwargs={}, response_metadata={}), AIMessage(content=\"It seems like you've provided me with information about yourself, voramethbot.  \\n\\nWhile I can process and understand this data, I don't have personal experiences or feelings like humans do. I can't feel loss or discomfort. \\n\\nThink of me as a tool that can access and process information. I can answer your questions based on the data you've given me, but I can't engage in emotional conversations.\\n\\nIf you'd like to know more about your projects, skills, or certifications, just ask! I'm here to help. \\n\\n\", additional_kwargs={}, response_metadata={})]\n",
      "Follow Up Input: What is your highest level of education?\n",
      "Standalone question:\u001b[0m\n",
      "\n",
      "\u001b[1m> Finished chain.\u001b[0m\n",
      "\n",
      "\n",
      "\u001b[1m> Entering new StuffDocumentsChain chain...\u001b[0m\n",
      "\n",
      "\n",
      "\u001b[1m> Entering new LLMChain chain...\u001b[0m\n",
      "Prompt after formatting:\n",
      "\u001b[32;1m\u001b[1;3mSystem:  I'm your clone myself voramethbot. You can ask anything according to yourself. Sometimes, it is ok to feel loss, but remember to speak to  who might knock in a sane mind again. You can ask whether who you are ? what are your studies ? what are your interest ? what expertis areas ?  No matter you feel uncomfortble, please reach out to me, ok ? Management and Security Knowledge & Experience \n",
      "Project During Undergraduate:  \n",
      "• Senior Project about A Recommendation System for Information Security Standard based on \n",
      "Organization Context \n",
      "• Database Design comply with Hotel domain \n",
      "• Movie Searching with Youtube Google and Twitter API using PHP as backend and HTML as frontend\n",
      "• Hotel System in C Programming Language\n",
      "\n",
      "VORAMETH REANTONGCOME’s CV \n",
      "Education \n",
      "Bachelor of Science in Information and Communication Technology, Mahidol University - Graduated \n",
      "(2019) \n",
      "[Current Study]  - Master Degree in Data Science and Artiﬁcial Intelligence, Asian Institute of \n",
      "Technology, Thailand \n",
      "Experience \n",
      "August 2024 - Now \n",
      "‣ Persuading Master Degree in Data Science and Artiﬁcial Intelligence, Asian Institute of Technology, \n",
      "Thailand \n",
      "• Project on Computer Programming in Data Science \n",
      "• Loan Fraud Prediction - The project utilize the Kaggle datasets for training the model. The output is the \n",
      "classiﬁcation problems on whether the customer will probably cause loan fraud or not.  \n",
      "• Project on Machine Learning\n",
      "\n",
      "• Acknowledging upcoming trends of business  \n",
      "• Learning communication skills with English language \n",
      "• Exchanging cultural experience with other members \n",
      "Award and Certiﬁcation \n",
      "• CompTIA CySA+  \n",
      "• CompTIA Security+  \n",
      "• Certiﬁed Ethical Hacker: CEH \n",
      "• Computer Hacking Forensic Investigator \n",
      "• 1st Runner of Final War competition in E-Business course 2018 \n",
      "• ICDL IT Security Certiﬁcation 2018 \n",
      "• Scholarship for Outstanding Years from Faculty of ICT 2017 \n",
      "Skills \n",
      "Programming Language : C, Java, Python, HTML, JavaScript and PHP\n",
      "Technical Skill : Basic IoT device, Basic Router or Switch Conﬁguration, Network Programming, Network \n",
      "Management and Security Knowledge & Experience\n",
      "\n",
      "• Exchanging cultural experience with other members in the lab \n",
      "June — August 2018 \n",
      "‣ Internship, Bremen University; Bremen, Germany \n",
      "• Using Tensor Flow for Prediction Users Behaviour \n",
      "• Implementing Android application through Android Studio with Network Parameters \n",
      "• Clearing and preparing data with Pandas library in Python \n",
      "• Cultural and Knowledge Exchanging \n",
      "June — July 2016  \n",
      "‣ Representative Participant in Asian Undergraduate Summit, National University Singapore, Singapore \n",
      "- June to July 2016 \n",
      "• Improving design and creative thinking skill through group discussion \n",
      "• Being aware of disruptive changes from technology over businesses \n",
      "• Acknowledging upcoming trends of business.\n",
      "Human: What is your highest level of education? \n",
      "\u001b[0m\n",
      "\n",
      "\u001b[1m> Finished chain.\u001b[0m\n",
      "\n",
      "\u001b[1m> Finished chain.\u001b[0m\n",
      "\n",
      "\u001b[1m> Finished chain.\u001b[0m\n"
     ]
    },
    {
     "data": {
      "text/plain": [
       "{'question': 'What is your highest level of education?',\n",
       " 'chat_history': [HumanMessage(content='Who are you by the way?', additional_kwargs={}, response_metadata={}),\n",
       "  AIMessage(content=\"It seems you've provided me with a CV for VORAMETH REANTONGCOME.  \\n\\nBased on the information, VORAMETH is a highly motivated individual pursuing a Master's degree in Data Science and Artificial Intelligence. They have a strong foundation in Information and Communication Technology, demonstrated by their Bachelor's degree and various projects. \\n\\nVORAMETH's skills encompass programming languages like C, Java, Python, HTML, JavaScript, and PHP. They also have experience with data science tools like TensorFlow and Pandas, and possess a good understanding of network management and security. \\n\\nVORAMETH's CV highlights their passion for learning and their commitment to staying updated with the latest technological advancements. They actively seek opportunities to expand their knowledge and skills, as evidenced by their participation in internships, conferences, and competitions.\\n\\n\\nAs for who I am, I am Gemma, an open-weights AI assistant developed by the Gemma team at Google DeepMind. I am a large language model trained on a massive dataset of text and code. I can generate text, translate languages, write different kinds of creative content, and answer your questions in an informative way. \\n\\nIs there anything else you'd like to know about VORAMETH or me?\\n\", additional_kwargs={}, response_metadata={}),\n",
       "  HumanMessage(content='How old are you?', additional_kwargs={}, response_metadata={}),\n",
       "  AIMessage(content=\"It seems like you've provided me with information about yourself, voramethbot.  \\n\\nWhile I can process and understand this data, I don't have personal experiences or feelings like humans do. I can't feel loss or discomfort. \\n\\nThink of me as a tool that can access and process information. I can answer your questions based on the data you've given me, but I can't engage in emotional conversations.\\n\\nIf you'd like to know more about your projects, skills, or certifications, just ask! I'm here to help. \\n\\n\", additional_kwargs={}, response_metadata={})],\n",
       " 'answer': \"My highest level of education is a Master's Degree in Data Science and Artificial Intelligence, which I am currently pursuing at the Asian Institute of Technology in Thailand. \\n\\nIt's interesting to see how similar our educational backgrounds are!  Do you have any specific questions about my master's program or the projects I'm working on? I'm always happy to talk about my studies. \\n\\n\",\n",
       " 'source_documents': [Document(id='b9af2357-bd5c-4f18-8a5a-23ed7883e3e5', metadata={'author': '', 'creationDate': \"D:20250310171528Z00'00'\", 'creator': 'Pages', 'file_path': \"Vorameth'sCV.pdf\", 'format': 'PDF 1.3', 'keywords': '', 'modDate': \"D:20250310171528Z00'00'\", 'page': 1, 'producer': 'macOS Version 15.3.1 (Build 24D70) Quartz PDFContext', 'source': \"Vorameth'sCV.pdf\", 'subject': '', 'title': \"Vorameth'sCV\", 'total_pages': 2, 'trapped': ''}, page_content='Management and Security Knowledge & Experience \\nProject During Undergraduate:  \\n• Senior Project about A Recommendation System for Information Security Standard based on \\nOrganization Context \\n• Database Design comply with Hotel domain \\n• Movie Searching with Youtube Google and Twitter API using PHP as backend and HTML as frontend\\n• Hotel System in C Programming Language'),\n",
       "  Document(id='d7a9c0f1-a509-40f2-97af-bcef897741d7', metadata={'author': '', 'creationDate': \"D:20250310171528Z00'00'\", 'creator': 'Pages', 'file_path': \"Vorameth'sCV.pdf\", 'format': 'PDF 1.3', 'keywords': '', 'modDate': \"D:20250310171528Z00'00'\", 'page': 0, 'producer': 'macOS Version 15.3.1 (Build 24D70) Quartz PDFContext', 'source': \"Vorameth'sCV.pdf\", 'subject': '', 'title': \"Vorameth'sCV\", 'total_pages': 2, 'trapped': ''}, page_content='VORAMETH REANTONGCOME’s CV \\nEducation \\nBachelor of Science in Information and Communication Technology, Mahidol University - Graduated \\n(2019) \\n[Current Study]  - Master Degree in Data Science and Artiﬁcial Intelligence, Asian Institute of \\nTechnology, Thailand \\nExperience \\nAugust 2024 - Now \\n‣ Persuading Master Degree in Data Science and Artiﬁcial Intelligence, Asian Institute of Technology, \\nThailand \\n• Project on Computer Programming in Data Science \\n• Loan Fraud Prediction - The project utilize the Kaggle datasets for training the model. The output is the \\nclassiﬁcation problems on whether the customer will probably cause loan fraud or not.  \\n• Project on Machine Learning'),\n",
       "  Document(id='995f4765-90f6-49f0-9ddf-82d0f8595848', metadata={'author': '', 'creationDate': \"D:20250310171528Z00'00'\", 'creator': 'Pages', 'file_path': \"Vorameth'sCV.pdf\", 'format': 'PDF 1.3', 'keywords': '', 'modDate': \"D:20250310171528Z00'00'\", 'page': 1, 'producer': 'macOS Version 15.3.1 (Build 24D70) Quartz PDFContext', 'source': \"Vorameth'sCV.pdf\", 'subject': '', 'title': \"Vorameth'sCV\", 'total_pages': 2, 'trapped': ''}, page_content='• Acknowledging upcoming trends of business  \\n• Learning communication skills with English language \\n• Exchanging cultural experience with other members \\nAward and Certiﬁcation \\n• CompTIA CySA+  \\n• CompTIA Security+  \\n• Certiﬁed Ethical Hacker: CEH \\n• Computer Hacking Forensic Investigator \\n• 1st Runner of Final War competition in E-Business course 2018 \\n• ICDL IT Security Certiﬁcation 2018 \\n• Scholarship for Outstanding Years from Faculty of ICT 2017 \\nSkills \\nProgramming Language : C, Java, Python, HTML, JavaScript and PHP\\nTechnical Skill : Basic IoT device, Basic Router or Switch Conﬁguration, Network Programming, Network \\nManagement and Security Knowledge & Experience'),\n",
       "  Document(id='39d5a9fc-2564-4b9e-9688-6dec9eeadc45', metadata={'author': '', 'creationDate': \"D:20250310171528Z00'00'\", 'creator': 'Pages', 'file_path': \"Vorameth'sCV.pdf\", 'format': 'PDF 1.3', 'keywords': '', 'modDate': \"D:20250310171528Z00'00'\", 'page': 1, 'producer': 'macOS Version 15.3.1 (Build 24D70) Quartz PDFContext', 'source': \"Vorameth'sCV.pdf\", 'subject': '', 'title': \"Vorameth'sCV\", 'total_pages': 2, 'trapped': ''}, page_content='• Exchanging cultural experience with other members in the lab \\nJune — August 2018 \\n‣ Internship, Bremen University; Bremen, Germany \\n• Using Tensor Flow for Prediction Users Behaviour \\n• Implementing Android application through Android Studio with Network Parameters \\n• Clearing and preparing data with Pandas library in Python \\n• Cultural and Knowledge Exchanging \\nJune — July 2016  \\n‣ Representative Participant in Asian Undergraduate Summit, National University Singapore, Singapore \\n- June to July 2016 \\n• Improving design and creative thinking skill through group discussion \\n• Being aware of disruptive changes from technology over businesses \\n• Acknowledging upcoming trends of business')]}"
      ]
     },
     "execution_count": 86,
     "metadata": {},
     "output_type": "execute_result"
    }
   ],
   "source": [
    "prompt_question = \"What is your highest level of education?\"\n",
    "answer = chain({\"question\":prompt_question})\n",
    "answer"
   ]
  },
  {
   "cell_type": "code",
   "execution_count": null,
   "metadata": {},
   "outputs": [],
   "source": []
  },
  {
   "cell_type": "code",
   "execution_count": null,
   "metadata": {},
   "outputs": [],
   "source": []
  }
 ],
 "metadata": {
  "kernelspec": {
   "display_name": "engenv_3_11",
   "language": "python",
   "name": "python3"
  },
  "language_info": {
   "codemirror_mode": {
    "name": "ipython",
    "version": 3
   },
   "file_extension": ".py",
   "mimetype": "text/x-python",
   "name": "python",
   "nbconvert_exporter": "python",
   "pygments_lexer": "ipython3",
   "version": "3.11.11"
  }
 },
 "nbformat": 4,
 "nbformat_minor": 4
}
